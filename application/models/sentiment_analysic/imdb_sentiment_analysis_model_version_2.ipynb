{
 "cells": [
  {
   "cell_type": "markdown",
   "id": "4cb0db883a0d5fa9",
   "metadata": {},
   "source": [
    "## Tasks:\n",
    "1. **Environment Setup**\n",
    "2. **Load IMDb (50,000 records)**\n",
    "3. **Data preparation**"
   ]
  },
  {
   "cell_type": "markdown",
   "id": "24c1df5406f89f11",
   "metadata": {},
   "source": [
    "## Environment Setup"
   ]
  },
  {
   "cell_type": "code",
   "execution_count": 4,
   "id": "e1b293850e0f5546",
   "metadata": {},
   "outputs": [
    {
     "ename": "ModuleNotFoundError",
     "evalue": "No module named 'google.colab'",
     "output_type": "error",
     "traceback": [
      "\u001b[0;31m---------------------------------------------------------------------------\u001b[0m",
      "\u001b[0;31mModuleNotFoundError\u001b[0m                       Traceback (most recent call last)",
      "Cell \u001b[0;32mIn[4], line 2\u001b[0m\n\u001b[1;32m      1\u001b[0m \u001b[38;5;66;03m# Mount Google Drive\u001b[39;00m\n\u001b[0;32m----> 2\u001b[0m \u001b[38;5;28;01mfrom\u001b[39;00m \u001b[38;5;21;01mgoogle\u001b[39;00m\u001b[38;5;21;01m.\u001b[39;00m\u001b[38;5;21;01mcolab\u001b[39;00m \u001b[38;5;28;01mimport\u001b[39;00m drive\n\u001b[1;32m      3\u001b[0m drive\u001b[38;5;241m.\u001b[39mmount(\u001b[38;5;124m'\u001b[39m\u001b[38;5;124m/content/drive\u001b[39m\u001b[38;5;124m'\u001b[39m)\n",
      "\u001b[0;31mModuleNotFoundError\u001b[0m: No module named 'google.colab'"
     ]
    }
   ],
   "source": [
    "# Mount Google Drive\n",
    "from google.colab import drive\n",
    "drive.mount('/content/drive')"
   ]
  },
  {
   "cell_type": "code",
   "execution_count": 139,
   "id": "49f2941cd5f7c71c",
   "metadata": {
    "ExecuteTime": {
     "end_time": "2024-07-10T03:37:19.592461Z",
     "start_time": "2024-07-10T03:37:17.066932Z"
    }
   },
   "outputs": [
    {
     "name": "stderr",
     "output_type": "stream",
     "text": [
      "[nltk_data] Downloading package stopwords to /Users/loc/nltk_data...\n",
      "[nltk_data]   Package stopwords is already up-to-date!\n"
     ]
    },
    {
     "data": {
      "text/plain": [
       "True"
      ]
     },
     "execution_count": 139,
     "metadata": {},
     "output_type": "execute_result"
    }
   ],
   "source": [
    "import tensorflow as tf\n",
    "import pandas as pd\n",
    "import seaborn as sns\n",
    "import re\n",
    "import string\n",
    "import time\n",
    "import nltk\n",
    "from nltk.corpus import stopwords\n",
    "from tensorflow.keras.layers import Layer\n",
    "from sklearn.model_selection import train_test_split\n",
    "from tensorflow.keras.layers import (TextVectorization)\n",
    "from keras.preprocessing.text import one_hot, Tokenizer\n",
    "from keras_preprocessing.sequence import pad_sequences\n",
    "\n",
    "nltk.download('stopwords')"
   ]
  },
  {
   "cell_type": "code",
   "execution_count": 36,
   "id": "b9b01495-21af-4cd7-b03e-0d98fff00f1d",
   "metadata": {},
   "outputs": [
    {
     "name": "stdout",
     "output_type": "stream",
     "text": [
      "1\n"
     ]
    }
   ],
   "source": [
    "print(1)"
   ]
  },
  {
   "cell_type": "code",
   "execution_count": 41,
   "id": "5fd05da1-ac90-4881-8b38-d1e294bfc10f",
   "metadata": {
    "ExecuteTime": {
     "end_time": "2024-07-10T00:34:13.216141Z",
     "start_time": "2024-07-10T00:34:13.213796Z"
    }
   },
   "outputs": [],
   "source": [
    "# Change directory to the project folder\n",
    "# data_path = '/content/drive/My Drive/Colab Notebooks/imdb_sentiment_analysis_model'\n",
    "data_path = '/Users/loc/Desktop/Git/23mse43006/7.ML/FinalAssignment/application/models/sentiment_analysic/dataset/imdb_dataset_50k.csv'"
   ]
  },
  {
   "cell_type": "markdown",
   "id": "e8d1811cd883d5f2",
   "metadata": {},
   "source": [
    "## Load IMDb Movie Reviews dataset (50,000 reviews)\n"
   ]
  },
  {
   "cell_type": "code",
   "execution_count": 42,
   "id": "e1abdfca620ea489",
   "metadata": {
    "ExecuteTime": {
     "end_time": "2024-07-10T00:51:25.483897Z",
     "start_time": "2024-07-10T00:51:25.000763Z"
    }
   },
   "outputs": [],
   "source": [
    "movie_reviews = pd.read_csv(data_path)\n",
    "\n",
    "# Convert the sentiment column to binary\n",
    "movie_reviews['sentiment'] = movie_reviews['sentiment'].apply(lambda x: 1 if x == 'positive' else 0)"
   ]
  },
  {
   "cell_type": "code",
   "execution_count": 43,
   "id": "c4b1c40e9dc65378",
   "metadata": {
    "ExecuteTime": {
     "end_time": "2024-07-10T00:51:25.523925Z",
     "start_time": "2024-07-10T00:51:25.520195Z"
    }
   },
   "outputs": [
    {
     "data": {
      "text/html": [
       "<div>\n",
       "<style scoped>\n",
       "    .dataframe tbody tr th:only-of-type {\n",
       "        vertical-align: middle;\n",
       "    }\n",
       "\n",
       "    .dataframe tbody tr th {\n",
       "        vertical-align: top;\n",
       "    }\n",
       "\n",
       "    .dataframe thead th {\n",
       "        text-align: right;\n",
       "    }\n",
       "</style>\n",
       "<table border=\"1\" class=\"dataframe\">\n",
       "  <thead>\n",
       "    <tr style=\"text-align: right;\">\n",
       "      <th></th>\n",
       "      <th>review</th>\n",
       "      <th>sentiment</th>\n",
       "    </tr>\n",
       "  </thead>\n",
       "  <tbody>\n",
       "    <tr>\n",
       "      <th>0</th>\n",
       "      <td>One of the other reviewers has mentioned that ...</td>\n",
       "      <td>1</td>\n",
       "    </tr>\n",
       "    <tr>\n",
       "      <th>1</th>\n",
       "      <td>A wonderful little production. &lt;br /&gt;&lt;br /&gt;The...</td>\n",
       "      <td>1</td>\n",
       "    </tr>\n",
       "    <tr>\n",
       "      <th>2</th>\n",
       "      <td>I thought this was a wonderful way to spend ti...</td>\n",
       "      <td>1</td>\n",
       "    </tr>\n",
       "    <tr>\n",
       "      <th>3</th>\n",
       "      <td>Basically there's a family where a little boy ...</td>\n",
       "      <td>0</td>\n",
       "    </tr>\n",
       "    <tr>\n",
       "      <th>4</th>\n",
       "      <td>Petter Mattei's \"Love in the Time of Money\" is...</td>\n",
       "      <td>1</td>\n",
       "    </tr>\n",
       "  </tbody>\n",
       "</table>\n",
       "</div>"
      ],
      "text/plain": [
       "                                              review  sentiment\n",
       "0  One of the other reviewers has mentioned that ...          1\n",
       "1  A wonderful little production. <br /><br />The...          1\n",
       "2  I thought this was a wonderful way to spend ti...          1\n",
       "3  Basically there's a family where a little boy ...          0\n",
       "4  Petter Mattei's \"Love in the Time of Money\" is...          1"
      ]
     },
     "execution_count": 43,
     "metadata": {},
     "output_type": "execute_result"
    }
   ],
   "source": [
    "# Display the first 5 rows of the dataset\n",
    "movie_reviews.head(5)"
   ]
  },
  {
   "cell_type": "code",
   "execution_count": 5,
   "id": "cccfdf6ca2bd861c",
   "metadata": {
    "ExecuteTime": {
     "end_time": "2024-07-09T16:46:25.894907Z",
     "start_time": "2024-07-09T16:46:25.885047Z"
    }
   },
   "outputs": [
    {
     "data": {
      "text/plain": [
       "(50000, 2)"
      ]
     },
     "execution_count": 5,
     "metadata": {},
     "output_type": "execute_result"
    }
   ],
   "source": [
    "# Check the shape of the dataset\n",
    "movie_reviews.shape"
   ]
  },
  {
   "cell_type": "code",
   "execution_count": 6,
   "id": "abd75c95d67de382",
   "metadata": {
    "ExecuteTime": {
     "end_time": "2024-07-09T16:24:31.376829Z",
     "start_time": "2024-07-09T16:24:31.314946Z"
    }
   },
   "outputs": [
    {
     "data": {
      "text/plain": [
       "review       0\n",
       "sentiment    0\n",
       "dtype: int64"
      ]
     },
     "execution_count": 6,
     "metadata": {},
     "output_type": "execute_result"
    }
   ],
   "source": [
    "# Check for missing values\n",
    "movie_reviews.isnull().sum()"
   ]
  },
  {
   "cell_type": "code",
   "execution_count": 7,
   "id": "7fa13929028cbec5",
   "metadata": {
    "ExecuteTime": {
     "end_time": "2024-07-09T16:46:28.366174Z",
     "start_time": "2024-07-09T16:46:28.214084Z"
    }
   },
   "outputs": [
    {
     "data": {
      "text/plain": [
       "<Axes: xlabel='sentiment', ylabel='count'>"
      ]
     },
     "execution_count": 7,
     "metadata": {},
     "output_type": "execute_result"
    },
    {
     "data": {
      "image/png": "[encoded data removed]",
      "text/plain": [
       "<Figure size 640x480 with 1 Axes>"
      ]
     },
     "metadata": {},
     "output_type": "display_data"
    }
   ],
   "source": [
    "# Plot the count of each sentiment\n",
    "sns.countplot(x='sentiment', data=movie_reviews, hue='sentiment', palette='pastel', legend=False)"
   ]
  },
  {
   "cell_type": "markdown",
   "id": "6bd6c0560a3862fa",
   "metadata": {},
   "source": [
    "# Data Preparation"
   ]
  },
  {
   "cell_type": "code",
   "execution_count": 288,
   "id": "b89d03431f2fa162",
   "metadata": {
    "ExecuteTime": {
     "end_time": "2024-07-10T00:32:26.005639Z",
     "start_time": "2024-07-10T00:32:26.002790Z"
    }
   },
   "outputs": [],
   "source": [
    "import unicodedata\n",
    "\n",
    "# Get the list of English stopwords\n",
    "stop_words = set(stopwords.words('english'))\n",
    "\n",
    "# Convert the stopwords to a TensorFlow constant\n",
    "stopwords_tensor = tf.constant(list(stop_words))\n",
    "\n",
    "def remove_stopwords(sentence):\n",
    "    words = tf.strings.split(sentence)\n",
    "    filtered_words = tf.boolean_mask(words, tf.math.logical_not(tf.reduce_any(tf.equal(words[:, None], stopwords_tensor[None, :]), axis=1)))\n",
    "    sentence = tf.strings.reduce_join(filtered_words, separator=' ')\n",
    "    return sentence\n",
    "\n",
    "def standardization(sen):\n",
    "    \n",
    "    lowercase = tf.strings.lower(sen)\n",
    "\n",
    "    # Remove punctuations and numbers\n",
    "    sentence = tf.strings.regex_replace(lowercase, '[^a-z]', ' ')\n",
    "    \n",
    "    # Take off of html tag\n",
    "    sentence = tf.strings.regex_replace(sentence, '<[^>]+>', ' ')\n",
    "    \n",
    "    # Single character removal\n",
    "    sentence = tf.strings.regex_replace(sentence, r'\\b\\w\\b', ' ')\n",
    "    \n",
    "    # Remove multiple spaces\n",
    "    sentence = tf.strings.regex_replace(sentence, ' +', ' ')\n",
    "    \n",
    "    # Remove stopwords\n",
    "    sentence = remove_stopwords(sentence)\n",
    "    \n",
    "    # Normalize UTF-8 and remove accented characters using standard Python libraries\n",
    "    # def normalize_and_remove_accents(text):\n",
    "    #     text = unicodedata.normalize('NFKD', text.numpy().decode('utf-8'))\n",
    "    #     return ''.join(c for c in text if unicodedata.category(c) != 'Mn')\n",
    "\n",
    "    # sentence = tf.py_function(normalize_and_remove_accents, [sentence], tf.string)\n",
    "\n",
    "    return sentence\n"
   ]
  },
  {
   "cell_type": "code",
   "execution_count": 289,
   "id": "ca9a72ba-0394-4f50-b1a9-0c0b7647978a",
   "metadata": {},
   "outputs": [
    {
     "data": {
      "text/plain": [
       "<tf.Tensor: shape=(), dtype=string, numpy=b'sample sentence showing stop words filtration'>"
      ]
     },
     "execution_count": 289,
     "metadata": {},
     "output_type": "execute_result"
    }
   ],
   "source": [
    "# movie_reviews['review'][2]\n",
    "# Example usage\n",
    "sentence = tf.constant(\"lộc This is a sample sentence, showing off the stop words filtration.\")\n",
    "standardization(sentence)"
   ]
  },
  {
   "cell_type": "code",
   "execution_count": 262,
   "id": "12bcab20ac7eb0ac",
   "metadata": {},
   "outputs": [
    {
     "data": {
      "text/plain": [
       "<tf.Tensor: shape=(), dtype=string, numpy=b' thought this was wonderful way to spend time on too hot summer weekend sitting in the air conditioned theater and watching light hearted comedy the plot is simplistic but the dialogue is witty and the characters are likable even the well bread suspected serial killer while some may be disappointed when they realize this is not match point risk addiction thought it was proof that woody allen is still fully in control of the style many of us have grown to love br br this was the most laughed at one of woody comedies in years dare say decade while ve never been impressed with scarlet johanson in this she managed to tone down her sexy image and jumped right into average but spirited young woman br br this may not be the crown jewel of his career but it was wittier than devil wears prada and more interesting than superman great comedy to go see with friends '>"
      ]
     },
     "execution_count": 262,
     "metadata": {},
     "output_type": "execute_result"
    }
   ],
   "source": [
    "standardization(movie_reviews['review'][2])"
   ]
  },
  {
   "cell_type": "code",
   "execution_count": 263,
   "id": "1402ae118f5a6e52",
   "metadata": {
    "ExecuteTime": {
     "end_time": "2024-07-10T00:58:41.844491Z",
     "start_time": "2024-07-10T00:58:41.834342Z"
    }
   },
   "outputs": [],
   "source": [
    "#train_ds,val_ds,test_ds=tfds.load('imdb_reviews', split=['train', 'test[:50%]', 'test[50%:]'],as_supervised=True,download=True,data_dir=imdb_data_dir)\n",
    "X_train, X_test, y_train, y_test = train_test_split(movie_reviews['review'], movie_reviews['sentiment'], test_size=0.2, random_state=42) # Quay lai cach chia cu de compare"
   ]
  },
  {
   "cell_type": "markdown",
   "id": "3c9835598021a497",
   "metadata": {},
   "source": [
    "## Preparing embedding layer"
   ]
  },
  {
   "cell_type": "code",
   "execution_count": 264,
   "id": "979c71f9-5717-4b56-b997-c742ddd49787",
   "metadata": {},
   "outputs": [],
   "source": [
    "# word_tokenizer = Tokenizer()\n",
    "# word_tokenizer.fit_on_texts(X_train) # create a dictionary\n",
    "\n",
    "# X_train = word_tokenizer.texts_to_sequences(X_train) # match the words in the dictionary to the words in the sentences\n",
    "# X_test = word_tokenizer.texts_to_sequences(X_test)"
   ]
  },
  {
   "cell_type": "code",
   "execution_count": 265,
   "id": "9f3fc308-d22d-43de-bd95-7e8f23120a96",
   "metadata": {},
   "outputs": [
    {
     "data": {
      "text/plain": [
       "112280"
      ]
     },
     "execution_count": 265,
     "metadata": {},
     "output_type": "execute_result"
    }
   ],
   "source": [
    "# len(word_tokenizer.word_index)"
   ]
  },
  {
   "cell_type": "code",
   "execution_count": 62,
   "id": "31adeff9-043a-4a07-8b77-bbb5c27dd7c4",
   "metadata": {},
   "outputs": [
    {
     "data": {
      "text/plain": [
       "112281"
      ]
     },
     "execution_count": 62,
     "metadata": {},
     "output_type": "execute_result"
    }
   ],
   "source": [
    "# Adding 1 to store dimensions for words for which no pretrained word embeddings exist\n",
    "\n",
    "# vocab_length = len(word_tokenizer.word_index) + 1\n",
    "\n",
    "# vocab_length"
   ]
  },
  {
   "cell_type": "code",
   "execution_count": 72,
   "id": "016fbc67-7e24-4676-8c37-7c314cb21f08",
   "metadata": {},
   "outputs": [
    {
     "name": "stdout",
     "output_type": "stream",
     "text": [
      "410\n",
      "282\n",
      "93\n",
      "178\n",
      "313\n",
      "120\n",
      "68\n",
      "283\n",
      "230\n",
      "776\n"
     ]
    }
   ],
   "source": [
    "# len(X_train)\n",
    "# for i in range(10):\n",
    "#     print(len(X_train[i]))"
   ]
  },
  {
   "cell_type": "code",
   "execution_count": 76,
   "id": "1b6ded32-7677-44f9-bd75-3a2de1abe1e6",
   "metadata": {},
   "outputs": [],
   "source": [
    "# Padding all reviews to fixed length 100\n",
    "\n",
    "# maxlen = 100\n",
    "\n",
    "# X_train = pad_sequences(X_train, padding='post', maxlen=maxlen)\n",
    "# X_test = pad_sequences(X_test, padding='post', maxlen=maxlen)"
   ]
  },
  {
   "cell_type": "code",
   "execution_count": 235,
   "id": "34b55172-31fc-46d0-bf1a-39d4db14548e",
   "metadata": {},
   "outputs": [
    {
     "name": "stdout",
     "output_type": "stream",
     "text": [
      "39087    That's what I kept asking myself during the ma...\n",
      "30893    I did not watch the entire movie. I could not ...\n",
      "45278    A touching love story reminiscent of In the M...\n",
      "16398    This latter-day Fulci schlocker is a totally a...\n",
      "13653    First of all, I firmly believe that Norwegian ...\n",
      "                               ...                        \n",
      "11284    `Shadow Magic' recaptures the joy and amazemen...\n",
      "44732    I found this movie to be quite enjoyable and f...\n",
      "38158    Avoid this one! It is a terrible movie. So wha...\n",
      "860      This production was quite a surprise for me. I...\n",
      "15795    This is a decent movie. Although little bit sh...\n",
      "Name: review, Length: 40000, dtype: object\n",
      "39087    That's what I kept asking myself during the ma...\n",
      "30893    I did not watch the entire movie. I could not ...\n",
      "45278    A touching love story reminiscent of In the M...\n",
      "16398    This latter-day Fulci schlocker is a totally a...\n",
      "13653    First of all, I firmly believe that Norwegian ...\n",
      "                               ...                        \n",
      "11284    `Shadow Magic' recaptures the joy and amazemen...\n",
      "44732    I found this movie to be quite enjoyable and f...\n",
      "38158    Avoid this one! It is a terrible movie. So wha...\n",
      "860      This production was quite a surprise for me. I...\n",
      "15795    This is a decent movie. Although little bit sh...\n",
      "Name: review, Length: 40000, dtype: object\n",
      "39087    That's what I kept asking myself during the ma...\n",
      "30893    I did not watch the entire movie. I could not ...\n",
      "45278    A touching love story reminiscent of In the M...\n",
      "16398    This latter-day Fulci schlocker is a totally a...\n",
      "13653    First of all, I firmly believe that Norwegian ...\n",
      "                               ...                        \n",
      "11284    `Shadow Magic' recaptures the joy and amazemen...\n",
      "44732    I found this movie to be quite enjoyable and f...\n",
      "38158    Avoid this one! It is a terrible movie. So wha...\n",
      "860      This production was quite a surprise for me. I...\n",
      "15795    This is a decent movie. Although little bit sh...\n",
      "Name: review, Length: 40000, dtype: object\n",
      "39087    That's what I kept asking myself during the ma...\n",
      "30893    I did not watch the entire movie. I could not ...\n",
      "45278    A touching love story reminiscent of In the M...\n",
      "16398    This latter-day Fulci schlocker is a totally a...\n",
      "13653    First of all, I firmly believe that Norwegian ...\n",
      "                               ...                        \n",
      "11284    `Shadow Magic' recaptures the joy and amazemen...\n",
      "44732    I found this movie to be quite enjoyable and f...\n",
      "38158    Avoid this one! It is a terrible movie. So wha...\n",
      "860      This production was quite a surprise for me. I...\n",
      "15795    This is a decent movie. Although little bit sh...\n",
      "Name: review, Length: 40000, dtype: object\n",
      "39087    That's what I kept asking myself during the ma...\n",
      "30893    I did not watch the entire movie. I could not ...\n",
      "45278    A touching love story reminiscent of In the M...\n",
      "16398    This latter-day Fulci schlocker is a totally a...\n",
      "13653    First of all, I firmly believe that Norwegian ...\n",
      "                               ...                        \n",
      "11284    `Shadow Magic' recaptures the joy and amazemen...\n",
      "44732    I found this movie to be quite enjoyable and f...\n",
      "38158    Avoid this one! It is a terrible movie. So wha...\n",
      "860      This production was quite a surprise for me. I...\n",
      "15795    This is a decent movie. Although little bit sh...\n",
      "Name: review, Length: 40000, dtype: object\n",
      "39087    That's what I kept asking myself during the ma...\n",
      "30893    I did not watch the entire movie. I could not ...\n",
      "45278    A touching love story reminiscent of In the M...\n",
      "16398    This latter-day Fulci schlocker is a totally a...\n",
      "13653    First of all, I firmly believe that Norwegian ...\n",
      "                               ...                        \n",
      "11284    `Shadow Magic' recaptures the joy and amazemen...\n",
      "44732    I found this movie to be quite enjoyable and f...\n",
      "38158    Avoid this one! It is a terrible movie. So wha...\n",
      "860      This production was quite a surprise for me. I...\n",
      "15795    This is a decent movie. Although little bit sh...\n",
      "Name: review, Length: 40000, dtype: object\n",
      "39087    That's what I kept asking myself during the ma...\n",
      "30893    I did not watch the entire movie. I could not ...\n",
      "45278    A touching love story reminiscent of In the M...\n",
      "16398    This latter-day Fulci schlocker is a totally a...\n",
      "13653    First of all, I firmly believe that Norwegian ...\n",
      "                               ...                        \n",
      "11284    `Shadow Magic' recaptures the joy and amazemen...\n",
      "44732    I found this movie to be quite enjoyable and f...\n",
      "38158    Avoid this one! It is a terrible movie. So wha...\n",
      "860      This production was quite a surprise for me. I...\n",
      "15795    This is a decent movie. Although little bit sh...\n",
      "Name: review, Length: 40000, dtype: object\n",
      "39087    That's what I kept asking myself during the ma...\n",
      "30893    I did not watch the entire movie. I could not ...\n",
      "45278    A touching love story reminiscent of In the M...\n",
      "16398    This latter-day Fulci schlocker is a totally a...\n",
      "13653    First of all, I firmly believe that Norwegian ...\n",
      "                               ...                        \n",
      "11284    `Shadow Magic' recaptures the joy and amazemen...\n",
      "44732    I found this movie to be quite enjoyable and f...\n",
      "38158    Avoid this one! It is a terrible movie. So wha...\n",
      "860      This production was quite a surprise for me. I...\n",
      "15795    This is a decent movie. Although little bit sh...\n",
      "Name: review, Length: 40000, dtype: object\n",
      "39087    That's what I kept asking myself during the ma...\n",
      "30893    I did not watch the entire movie. I could not ...\n",
      "45278    A touching love story reminiscent of In the M...\n",
      "16398    This latter-day Fulci schlocker is a totally a...\n",
      "13653    First of all, I firmly believe that Norwegian ...\n",
      "                               ...                        \n",
      "11284    `Shadow Magic' recaptures the joy and amazemen...\n",
      "44732    I found this movie to be quite enjoyable and f...\n",
      "38158    Avoid this one! It is a terrible movie. So wha...\n",
      "860      This production was quite a surprise for me. I...\n",
      "15795    This is a decent movie. Although little bit sh...\n",
      "Name: review, Length: 40000, dtype: object\n",
      "39087    That's what I kept asking myself during the ma...\n",
      "30893    I did not watch the entire movie. I could not ...\n",
      "45278    A touching love story reminiscent of In the M...\n",
      "16398    This latter-day Fulci schlocker is a totally a...\n",
      "13653    First of all, I firmly believe that Norwegian ...\n",
      "                               ...                        \n",
      "11284    `Shadow Magic' recaptures the joy and amazemen...\n",
      "44732    I found this movie to be quite enjoyable and f...\n",
      "38158    Avoid this one! It is a terrible movie. So wha...\n",
      "860      This production was quite a surprise for me. I...\n",
      "15795    This is a decent movie. Although little bit sh...\n",
      "Name: review, Length: 40000, dtype: object\n"
     ]
    }
   ],
   "source": [
    "# len(X_train)\n",
    "# for i in range(10):\n",
    "#     print(X_train)"
   ]
  },
  {
   "cell_type": "code",
   "execution_count": 290,
   "id": "dec27418-34f0-4d36-bdec-643ade824413",
   "metadata": {},
   "outputs": [],
   "source": [
    "BATCH_SIZE=64\n",
    "VOCAB_SIZE=10000\n",
    "SEQUENCE_LENGTH=250\n",
    "EMBEDDING_DIM=300"
   ]
  },
  {
   "cell_type": "code",
   "execution_count": 291,
   "id": "eaae1f02-21cc-4333-be9d-fdfdb942cdbc",
   "metadata": {},
   "outputs": [],
   "source": [
    "vectorize_layer = TextVectorization( # nay vua stand, tokenriza cac kieu\n",
    "    standardize=standardization,\n",
    "    max_tokens=VOCAB_SIZE,\n",
    "    output_mode='int',\n",
    "    output_sequence_length=SEQUENCE_LENGTH\n",
    ")"
   ]
  },
  {
   "cell_type": "code",
   "execution_count": 292,
   "id": "1d214b16-f47e-4493-b623-f56ac68446a4",
   "metadata": {},
   "outputs": [
    {
     "name": "stderr",
     "output_type": "stream",
     "text": [
      "2024-07-10 13:45:14.067000: I tensorflow/core/common_runtime/executor.cc:1197] [/device:CPU:0] (DEBUG INFO) Executor start aborting (this does not indicate an error and you can ignore this message): INVALID_ARGUMENT: You must feed a value for placeholder tensor 'Placeholder/_1' with dtype int64 and shape [40000]\n",
      "\t [[{{node Placeholder/_1}}]]\n"
     ]
    },
    {
     "ename": "TypeError",
     "evalue": "in user code:\n\n    File \"/Users/loc/Documents/anaconda3/envs/tf1/lib/python3.9/site-packages/keras/engine/base_preprocessing_layer.py\", line 123, in adapt_step  *\n        self.update_state(data)\n    File \"/Users/loc/Documents/anaconda3/envs/tf1/lib/python3.9/site-packages/keras/layers/preprocessing/text_vectorization.py\", line 475, in update_state  **\n        self._lookup_layer.update_state(self._preprocess(data))\n    File \"/Users/loc/Documents/anaconda3/envs/tf1/lib/python3.9/site-packages/keras/layers/preprocessing/text_vectorization.py\", line 571, in _preprocess\n        if inputs.shape.rank > 1:\n\n    TypeError: '>' not supported between instances of 'NoneType' and 'int'\n",
     "output_type": "error",
     "traceback": [
      "\u001b[0;31m---------------------------------------------------------------------------\u001b[0m",
      "\u001b[0;31mTypeError\u001b[0m                                 Traceback (most recent call last)",
      "Cell \u001b[0;32mIn[292], line 9\u001b[0m\n\u001b[1;32m      7\u001b[0m train_data \u001b[38;5;241m=\u001b[39m train_data\u001b[38;5;241m.\u001b[39mmap(\u001b[38;5;28;01mlambda\u001b[39;00m text, label: text)\n\u001b[1;32m      8\u001b[0m \u001b[38;5;66;03m# Build the dictionary from X_train (need to convert to tensor)\u001b[39;00m\n\u001b[0;32m----> 9\u001b[0m \u001b[43mvectorize_layer\u001b[49m\u001b[38;5;241;43m.\u001b[39;49m\u001b[43madapt\u001b[49m\u001b[43m(\u001b[49m\u001b[43mtrain_data\u001b[49m\u001b[43m)\u001b[49m\n",
      "File \u001b[0;32m~/Documents/anaconda3/envs/tf1/lib/python3.9/site-packages/keras/layers/preprocessing/text_vectorization.py:472\u001b[0m, in \u001b[0;36mTextVectorization.adapt\u001b[0;34m(self, data, batch_size, steps)\u001b[0m\n\u001b[1;32m    422\u001b[0m \u001b[38;5;28;01mdef\u001b[39;00m \u001b[38;5;21madapt\u001b[39m(\u001b[38;5;28mself\u001b[39m, data, batch_size\u001b[38;5;241m=\u001b[39m\u001b[38;5;28;01mNone\u001b[39;00m, steps\u001b[38;5;241m=\u001b[39m\u001b[38;5;28;01mNone\u001b[39;00m):\n\u001b[1;32m    423\u001b[0m \u001b[38;5;250m    \u001b[39m\u001b[38;5;124;03m\"\"\"Computes a vocabulary of string terms from tokens in a dataset.\u001b[39;00m\n\u001b[1;32m    424\u001b[0m \n\u001b[1;32m    425\u001b[0m \u001b[38;5;124;03m    Calling `adapt()` on a `TextVectorization` layer is an alternative to\u001b[39;00m\n\u001b[0;32m   (...)\u001b[0m\n\u001b[1;32m    470\u001b[0m \u001b[38;5;124;03m          argument is not supported with array inputs.\u001b[39;00m\n\u001b[1;32m    471\u001b[0m \u001b[38;5;124;03m    \"\"\"\u001b[39;00m\n\u001b[0;32m--> 472\u001b[0m     \u001b[38;5;28;43msuper\u001b[39;49m\u001b[43m(\u001b[49m\u001b[43m)\u001b[49m\u001b[38;5;241;43m.\u001b[39;49m\u001b[43madapt\u001b[49m\u001b[43m(\u001b[49m\u001b[43mdata\u001b[49m\u001b[43m,\u001b[49m\u001b[43m \u001b[49m\u001b[43mbatch_size\u001b[49m\u001b[38;5;241;43m=\u001b[39;49m\u001b[43mbatch_size\u001b[49m\u001b[43m,\u001b[49m\u001b[43m \u001b[49m\u001b[43msteps\u001b[49m\u001b[38;5;241;43m=\u001b[39;49m\u001b[43msteps\u001b[49m\u001b[43m)\u001b[49m\n",
      "File \u001b[0;32m~/Documents/anaconda3/envs/tf1/lib/python3.9/site-packages/keras/engine/base_preprocessing_layer.py:258\u001b[0m, in \u001b[0;36mPreprocessingLayer.adapt\u001b[0;34m(self, data, batch_size, steps)\u001b[0m\n\u001b[1;32m    256\u001b[0m \u001b[38;5;28;01mwith\u001b[39;00m data_handler\u001b[38;5;241m.\u001b[39mcatch_stop_iteration():\n\u001b[1;32m    257\u001b[0m     \u001b[38;5;28;01mfor\u001b[39;00m _ \u001b[38;5;129;01min\u001b[39;00m data_handler\u001b[38;5;241m.\u001b[39msteps():\n\u001b[0;32m--> 258\u001b[0m         \u001b[38;5;28;43mself\u001b[39;49m\u001b[38;5;241;43m.\u001b[39;49m\u001b[43m_adapt_function\u001b[49m\u001b[43m(\u001b[49m\u001b[43miterator\u001b[49m\u001b[43m)\u001b[49m\n\u001b[1;32m    259\u001b[0m         \u001b[38;5;28;01mif\u001b[39;00m data_handler\u001b[38;5;241m.\u001b[39mshould_sync:\n\u001b[1;32m    260\u001b[0m             context\u001b[38;5;241m.\u001b[39masync_wait()\n",
      "File \u001b[0;32m~/Documents/anaconda3/envs/tf1/lib/python3.9/site-packages/tensorflow/python/util/traceback_utils.py:153\u001b[0m, in \u001b[0;36mfilter_traceback.<locals>.error_handler\u001b[0;34m(*args, **kwargs)\u001b[0m\n\u001b[1;32m    151\u001b[0m \u001b[38;5;28;01mexcept\u001b[39;00m \u001b[38;5;167;01mException\u001b[39;00m \u001b[38;5;28;01mas\u001b[39;00m e:\n\u001b[1;32m    152\u001b[0m   filtered_tb \u001b[38;5;241m=\u001b[39m _process_traceback_frames(e\u001b[38;5;241m.\u001b[39m__traceback__)\n\u001b[0;32m--> 153\u001b[0m   \u001b[38;5;28;01mraise\u001b[39;00m e\u001b[38;5;241m.\u001b[39mwith_traceback(filtered_tb) \u001b[38;5;28;01mfrom\u001b[39;00m \u001b[38;5;28;01mNone\u001b[39;00m\n\u001b[1;32m    154\u001b[0m \u001b[38;5;28;01mfinally\u001b[39;00m:\n\u001b[1;32m    155\u001b[0m   \u001b[38;5;28;01mdel\u001b[39;00m filtered_tb\n",
      "File \u001b[0;32m/var/folders/br/tqmpnly169q93pbhtclrcw1w0000gn/T/__autograph_generated_file_b30w3ma.py:11\u001b[0m, in \u001b[0;36mouter_factory.<locals>.inner_factory.<locals>.tf__adapt_step\u001b[0;34m(iterator)\u001b[0m\n\u001b[1;32m      9\u001b[0m data \u001b[38;5;241m=\u001b[39m ag__\u001b[38;5;241m.\u001b[39mconverted_call(ag__\u001b[38;5;241m.\u001b[39mld(\u001b[38;5;28mnext\u001b[39m), (ag__\u001b[38;5;241m.\u001b[39mld(iterator),), \u001b[38;5;28;01mNone\u001b[39;00m, fscope)\n\u001b[1;32m     10\u001b[0m ag__\u001b[38;5;241m.\u001b[39mconverted_call(ag__\u001b[38;5;241m.\u001b[39mld(\u001b[38;5;28mself\u001b[39m)\u001b[38;5;241m.\u001b[39m_adapt_maybe_build, (ag__\u001b[38;5;241m.\u001b[39mld(data),), \u001b[38;5;28;01mNone\u001b[39;00m, fscope)\n\u001b[0;32m---> 11\u001b[0m ag__\u001b[38;5;241m.\u001b[39mconverted_call(ag__\u001b[38;5;241m.\u001b[39mld(\u001b[38;5;28mself\u001b[39m)\u001b[38;5;241m.\u001b[39mupdate_state, (ag__\u001b[38;5;241m.\u001b[39mld(data),), \u001b[38;5;28;01mNone\u001b[39;00m, fscope)\n",
      "File \u001b[0;32m~/Documents/anaconda3/envs/tf1/lib/python3.9/site-packages/keras/layers/preprocessing/text_vectorization.py:475\u001b[0m, in \u001b[0;36mTextVectorization.update_state\u001b[0;34m(self, data)\u001b[0m\n\u001b[1;32m    474\u001b[0m \u001b[38;5;28;01mdef\u001b[39;00m \u001b[38;5;21mupdate_state\u001b[39m(\u001b[38;5;28mself\u001b[39m, data):\n\u001b[0;32m--> 475\u001b[0m     \u001b[38;5;28mself\u001b[39m\u001b[38;5;241m.\u001b[39m_lookup_layer\u001b[38;5;241m.\u001b[39mupdate_state(\u001b[38;5;28;43mself\u001b[39;49m\u001b[38;5;241;43m.\u001b[39;49m\u001b[43m_preprocess\u001b[49m\u001b[43m(\u001b[49m\u001b[43mdata\u001b[49m\u001b[43m)\u001b[49m)\n",
      "File \u001b[0;32m~/Documents/anaconda3/envs/tf1/lib/python3.9/site-packages/keras/layers/preprocessing/text_vectorization.py:571\u001b[0m, in \u001b[0;36mTextVectorization._preprocess\u001b[0;34m(self, inputs)\u001b[0m\n\u001b[1;32m    564\u001b[0m     inputs \u001b[38;5;241m=\u001b[39m \u001b[38;5;28mself\u001b[39m\u001b[38;5;241m.\u001b[39m_standardize(inputs)\n\u001b[1;32m    566\u001b[0m \u001b[38;5;28;01mif\u001b[39;00m \u001b[38;5;28mself\u001b[39m\u001b[38;5;241m.\u001b[39m_split \u001b[38;5;129;01mis\u001b[39;00m \u001b[38;5;129;01mnot\u001b[39;00m \u001b[38;5;28;01mNone\u001b[39;00m:\n\u001b[1;32m    567\u001b[0m     \u001b[38;5;66;03m# If we are splitting, we validate that the 1st axis is of dimension\u001b[39;00m\n\u001b[1;32m    568\u001b[0m     \u001b[38;5;66;03m# 1 and so can be squeezed out. We do this here instead of after\u001b[39;00m\n\u001b[1;32m    569\u001b[0m     \u001b[38;5;66;03m# splitting for performance reasons - it's more expensive to squeeze\u001b[39;00m\n\u001b[1;32m    570\u001b[0m     \u001b[38;5;66;03m# a ragged tensor.\u001b[39;00m\n\u001b[0;32m--> 571\u001b[0m     \u001b[38;5;28;01mif\u001b[39;00m \u001b[43minputs\u001b[49m\u001b[38;5;241;43m.\u001b[39;49m\u001b[43mshape\u001b[49m\u001b[38;5;241;43m.\u001b[39;49m\u001b[43mrank\u001b[49m\u001b[43m \u001b[49m\u001b[38;5;241;43m>\u001b[39;49m\u001b[43m \u001b[49m\u001b[38;5;241;43m1\u001b[39;49m:\n\u001b[1;32m    572\u001b[0m         \u001b[38;5;28;01mif\u001b[39;00m inputs\u001b[38;5;241m.\u001b[39mshape[\u001b[38;5;241m-\u001b[39m\u001b[38;5;241m1\u001b[39m] \u001b[38;5;241m!=\u001b[39m \u001b[38;5;241m1\u001b[39m:\n\u001b[1;32m    573\u001b[0m             \u001b[38;5;28;01mraise\u001b[39;00m \u001b[38;5;167;01mValueError\u001b[39;00m(\n\u001b[1;32m    574\u001b[0m                 \u001b[38;5;124m\"\u001b[39m\u001b[38;5;124mWhen using `TextVectorization` to tokenize strings, \u001b[39m\u001b[38;5;124m\"\u001b[39m\n\u001b[1;32m    575\u001b[0m                 \u001b[38;5;124m\"\u001b[39m\u001b[38;5;124mthe input rank must be 1 or the last shape dimension \u001b[39m\u001b[38;5;124m\"\u001b[39m\n\u001b[1;32m    576\u001b[0m                 \u001b[38;5;124mf\u001b[39m\u001b[38;5;124m\"\u001b[39m\u001b[38;5;124mmust be 1. Received: inputs.shape=\u001b[39m\u001b[38;5;132;01m{\u001b[39;00minputs\u001b[38;5;241m.\u001b[39mshape\u001b[38;5;132;01m}\u001b[39;00m\u001b[38;5;124m \u001b[39m\u001b[38;5;124m\"\u001b[39m\n\u001b[1;32m    577\u001b[0m                 \u001b[38;5;124mf\u001b[39m\u001b[38;5;124m\"\u001b[39m\u001b[38;5;124mwith rank=\u001b[39m\u001b[38;5;132;01m{\u001b[39;00minputs\u001b[38;5;241m.\u001b[39mshape\u001b[38;5;241m.\u001b[39mrank\u001b[38;5;132;01m}\u001b[39;00m\u001b[38;5;124m\"\u001b[39m\n\u001b[1;32m    578\u001b[0m             )\n",
      "\u001b[0;31mTypeError\u001b[0m: in user code:\n\n    File \"/Users/loc/Documents/anaconda3/envs/tf1/lib/python3.9/site-packages/keras/engine/base_preprocessing_layer.py\", line 123, in adapt_step  *\n        self.update_state(data)\n    File \"/Users/loc/Documents/anaconda3/envs/tf1/lib/python3.9/site-packages/keras/layers/preprocessing/text_vectorization.py\", line 475, in update_state  **\n        self._lookup_layer.update_state(self._preprocess(data))\n    File \"/Users/loc/Documents/anaconda3/envs/tf1/lib/python3.9/site-packages/keras/layers/preprocessing/text_vectorization.py\", line 571, in _preprocess\n        if inputs.shape.rank > 1:\n\n    TypeError: '>' not supported between instances of 'NoneType' and 'int'\n"
     ]
    }
   ],
   "source": [
    "X_train, X_test, y_train, y_test = train_test_split(movie_reviews['review'], movie_reviews['sentiment'], test_size=0.2, random_state=42) # Quay lai cach chia cu de compare\n",
    "\n",
    "# Convert X_train and X_test to TensorFlow datasets\n",
    "train_data = tf.data.Dataset.from_tensor_slices((X_train, y_train))\n",
    "test_data = tf.data.Dataset.from_tensor_slices((X_test, y_test))\n",
    "\n",
    "train_data = train_data.map(lambda text, label: text)\n",
    "# Build the dictionary from X_train (need to convert to tensor)\n",
    "vectorize_layer.adapt(train_data)\n"
   ]
  },
  {
   "cell_type": "code",
   "execution_count": 284,
   "id": "3e7c2bf2-a837-4640-afd1-1d60b354ad01",
   "metadata": {},
   "outputs": [
    {
     "data": {
      "text/plain": [
       "'are'"
      ]
     },
     "execution_count": 284,
     "metadata": {},
     "output_type": "execute_result"
    }
   ],
   "source": [
    "vectorize_layer.get_vocabulary()[22]"
   ]
  },
  {
   "cell_type": "code",
   "execution_count": 277,
   "id": "9ee5997a-9294-4a25-b30f-b6b9d19541cc",
   "metadata": {},
   "outputs": [],
   "source": [
    "def vectorizer(review, label):\n",
    "    return vectorize_layer(review),label"
   ]
  },
  {
   "cell_type": "code",
   "execution_count": 279,
   "id": "e0f92e6b-5da3-4d2f-b627-7a6a42c761f6",
   "metadata": {},
   "outputs": [],
   "source": [
    "train_dataset = vectorize_layer(X_train)\n",
    "val_dataset = vectorize_layer(X_test)"
   ]
  },
  {
   "cell_type": "code",
   "execution_count": 280,
   "id": "42fdf123-7c48-4282-98c6-49a3a131c9ec",
   "metadata": {},
   "outputs": [],
   "source": [
    "train_dataset.shape\n",
    "val_dataset.shape\n",
    "\n",
    "# Batch and prefetch the dataset\n",
    "train_data = train_data.batch(BATCH_SIZE).prefetch(buffer_size=tf.data.AUTOTUNE)\n",
    "test_data = test_data.batch(BATCH_SIZE).prefetch(buffer_size=tf.data.AUTOTUNE)"
   ]
  },
  {
   "cell_type": "code",
   "execution_count": null,
   "id": "bad2bf16-6cff-4ea6-9f82-1cc0bb8db522",
   "metadata": {},
   "outputs": [],
   "source": []
  }
 ],
 "metadata": {
  "kernelspec": {
   "display_name": "Python 3 (ipykernel)",
   "language": "python",
   "name": "python3"
  },
  "language_info": {
   "codemirror_mode": {
    "name": "ipython",
    "version": 3
   },
   "file_extension": ".py",
   "mimetype": "text/x-python",
   "name": "python",
   "nbconvert_exporter": "python",
   "pygments_lexer": "ipython3",
   "version": "3.9.18"
  }
 },
 "nbformat": 4,
 "nbformat_minor": 5
}
