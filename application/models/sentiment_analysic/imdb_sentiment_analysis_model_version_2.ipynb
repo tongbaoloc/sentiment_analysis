{
 "cells": [
  {
   "cell_type": "markdown",
   "id": "4cb0db883a0d5fa9",
   "metadata": {
    "jp-MarkdownHeadingCollapsed": true
   },
   "source": [
    "## Tasks:\n",
    "1. **Environment Setup**\n",
    "2. **Load IMDb dataset (50,000 records)**\n",
    "3. **Data preparation**"
   ]
  },
  {
   "cell_type": "markdown",
   "id": "24c1df5406f89f11",
   "metadata": {},
   "source": [
    "## Environment Setup"
   ]
  },
  {
   "cell_type": "code",
   "execution_count": null,
   "id": "d02a8adb-24dc-4ac5-a203-372e970eb9c7",
   "metadata": {},
   "outputs": [],
   "source": [
    "# Mount Google Drive\n",
    "from google.colab import drive\n",
    "drive.mount('/content/drive')"
   ]
  },
  {
   "cell_type": "code",
   "execution_count": 9,
   "id": "49f2941cd5f7c71c",
   "metadata": {
    "ExecuteTime": {
     "end_time": "2024-07-10T08:34:23.417985Z",
     "start_time": "2024-07-10T08:34:23.369378Z"
    }
   },
   "outputs": [],
   "source": [
    "import tensorflow as tf\n",
    "import pandas as pd\n",
    "import seaborn as sns\n",
    "import numpy as np\n",
    "import re\n",
    "import string\n",
    "import time\n",
    "import nltk\n",
    "from nltk.corpus import stopwords\n",
    "from tensorflow.keras.layers import Layer\n",
    "from sklearn.model_selection import train_test_split\n",
    "from tensorflow.keras.layers import (Dense,Flatten,SimpleRNN,Conv1D, Bidirectional, LSTM,Dropout,Input,Embedding,TextVectorization)\n",
    "from keras.preprocessing.text import one_hot, Tokenizer\n",
    "from keras_preprocessing.sequence import pad_sequences\n",
    "import matplotlib.pyplot as plt"
   ]
  },
  {
   "cell_type": "code",
   "execution_count": 487,
   "id": "5fd05da1-ac90-4881-8b38-d1e294bfc10f",
   "metadata": {
    "ExecuteTime": {
     "end_time": "2024-07-10T00:34:13.216141Z",
     "start_time": "2024-07-10T00:34:13.213796Z"
    }
   },
   "outputs": [],
   "source": [
    "# Change directory to the project folder\n",
    "# data_path = '/content/drive/My Drive/Colab Notebooks/imdb_sentiment_analysis_model'\n",
    "data_path = '/Users/loc/Desktop/Git/23mse43006/7.ML/FinalAssignment/application/models/sentiment_analysic/dataset/imdb_dataset_50k.csv'"
   ]
  },
  {
   "cell_type": "markdown",
   "id": "e8d1811cd883d5f2",
   "metadata": {},
   "source": [
    "## Load IMDb dataset(50,000 records)\n"
   ]
  },
  {
   "cell_type": "code",
   "execution_count": 488,
   "id": "e1abdfca620ea489",
   "metadata": {
    "ExecuteTime": {
     "end_time": "2024-07-10T00:51:25.483897Z",
     "start_time": "2024-07-10T00:51:25.000763Z"
    }
   },
   "outputs": [],
   "source": [
    "movie_reviews = pd.read_csv(data_path)\n",
    "\n",
    "# Convert the sentiment column to binary\n",
    "movie_reviews['sentiment'] = movie_reviews['sentiment'].apply(lambda x: 1 if x == 'positive' else 0)"
   ]
  },
  {
   "cell_type": "code",
   "execution_count": 489,
   "id": "c4b1c40e9dc65378",
   "metadata": {
    "ExecuteTime": {
     "end_time": "2024-07-10T00:51:25.523925Z",
     "start_time": "2024-07-10T00:51:25.520195Z"
    }
   },
   "outputs": [
    {
     "data": {
      "text/html": [
       "<div>\n",
       "<style scoped>\n",
       "    .dataframe tbody tr th:only-of-type {\n",
       "        vertical-align: middle;\n",
       "    }\n",
       "\n",
       "    .dataframe tbody tr th {\n",
       "        vertical-align: top;\n",
       "    }\n",
       "\n",
       "    .dataframe thead th {\n",
       "        text-align: right;\n",
       "    }\n",
       "</style>\n",
       "<table border=\"1\" class=\"dataframe\">\n",
       "  <thead>\n",
       "    <tr style=\"text-align: right;\">\n",
       "      <th></th>\n",
       "      <th>review</th>\n",
       "      <th>sentiment</th>\n",
       "    </tr>\n",
       "  </thead>\n",
       "  <tbody>\n",
       "    <tr>\n",
       "      <th>0</th>\n",
       "      <td>One of the other reviewers has mentioned that ...</td>\n",
       "      <td>1</td>\n",
       "    </tr>\n",
       "    <tr>\n",
       "      <th>1</th>\n",
       "      <td>A wonderful little production. &lt;br /&gt;&lt;br /&gt;The...</td>\n",
       "      <td>1</td>\n",
       "    </tr>\n",
       "    <tr>\n",
       "      <th>2</th>\n",
       "      <td>I thought this was a wonderful way to spend ti...</td>\n",
       "      <td>1</td>\n",
       "    </tr>\n",
       "    <tr>\n",
       "      <th>3</th>\n",
       "      <td>Basically there's a family where a little boy ...</td>\n",
       "      <td>0</td>\n",
       "    </tr>\n",
       "    <tr>\n",
       "      <th>4</th>\n",
       "      <td>Petter Mattei's \"Love in the Time of Money\" is...</td>\n",
       "      <td>1</td>\n",
       "    </tr>\n",
       "  </tbody>\n",
       "</table>\n",
       "</div>"
      ],
      "text/plain": [
       "                                              review  sentiment\n",
       "0  One of the other reviewers has mentioned that ...          1\n",
       "1  A wonderful little production. <br /><br />The...          1\n",
       "2  I thought this was a wonderful way to spend ti...          1\n",
       "3  Basically there's a family where a little boy ...          0\n",
       "4  Petter Mattei's \"Love in the Time of Money\" is...          1"
      ]
     },
     "execution_count": 489,
     "metadata": {},
     "output_type": "execute_result"
    }
   ],
   "source": [
    "# Display the first 5 rows of the dataset\n",
    "movie_reviews.head(5)"
   ]
  },
  {
   "cell_type": "code",
   "execution_count": 490,
   "id": "cccfdf6ca2bd861c",
   "metadata": {
    "ExecuteTime": {
     "end_time": "2024-07-09T16:46:25.894907Z",
     "start_time": "2024-07-09T16:46:25.885047Z"
    }
   },
   "outputs": [
    {
     "data": {
      "text/plain": [
       "(50000, 2)"
      ]
     },
     "execution_count": 490,
     "metadata": {},
     "output_type": "execute_result"
    }
   ],
   "source": [
    "# Check the shape of the dataset\n",
    "movie_reviews.shape"
   ]
  },
  {
   "cell_type": "code",
   "execution_count": 491,
   "id": "abd75c95d67de382",
   "metadata": {
    "ExecuteTime": {
     "end_time": "2024-07-09T16:24:31.376829Z",
     "start_time": "2024-07-09T16:24:31.314946Z"
    }
   },
   "outputs": [
    {
     "data": {
      "text/plain": [
       "review       0\n",
       "sentiment    0\n",
       "dtype: int64"
      ]
     },
     "execution_count": 491,
     "metadata": {},
     "output_type": "execute_result"
    }
   ],
   "source": [
    "# Check for missing values\n",
    "movie_reviews.isnull().sum()"
   ]
  },
  {
   "cell_type": "code",
   "execution_count": 492,
   "id": "7fa13929028cbec5",
   "metadata": {
    "ExecuteTime": {
     "end_time": "2024-07-09T16:46:28.366174Z",
     "start_time": "2024-07-09T16:46:28.214084Z"
    }
   },
   "outputs": [
    {
     "data": {
      "text/plain": [
       "<Axes: xlabel='sentiment', ylabel='count'>"
      ]
     },
     "execution_count": 492,
     "metadata": {},
     "output_type": "execute_result"
    },
    {
     "data": {
      "image/png": "[encoded data removed]",
      "text/plain": [
       "<Figure size 640x480 with 1 Axes>"
      ]
     },
     "metadata": {},
     "output_type": "display_data"
    }
   ],
   "source": [
    "# Plot the count of each sentiment\n",
    "sns.countplot(x='sentiment', data=movie_reviews, hue='sentiment', palette='pastel', legend=False)"
   ]
  },
  {
   "cell_type": "markdown",
   "id": "6bd6c0560a3862fa",
   "metadata": {},
   "source": [
    "## Data Preparation"
   ]
  },
  {
   "cell_type": "code",
   "execution_count": 493,
   "id": "ef473fef-2d67-4f73-b8ae-2cb915ead367",
   "metadata": {},
   "outputs": [
    {
     "name": "stderr",
     "output_type": "stream",
     "text": [
      "[nltk_data] Downloading package stopwords to /Users/loc/nltk_data...\n",
      "[nltk_data]   Package stopwords is already up-to-date!\n"
     ]
    },
    {
     "data": {
      "text/plain": [
       "True"
      ]
     },
     "execution_count": 493,
     "metadata": {},
     "output_type": "execute_result"
    }
   ],
   "source": [
    "nltk.download('stopwords')"
   ]
  },
  {
   "cell_type": "code",
   "execution_count": 494,
   "id": "b89d03431f2fa162",
   "metadata": {
    "ExecuteTime": {
     "end_time": "2024-07-10T00:32:26.005639Z",
     "start_time": "2024-07-10T00:32:26.002790Z"
    }
   },
   "outputs": [],
   "source": [
    "import unicodedata\n",
    "\n",
    "# Get the list of English stopwords\n",
    "stop_words = set(stopwords.words('english'))\n",
    "\n",
    "# Convert the stopwords to a TensorFlow constant\n",
    "stopwords_tensor = tf.constant(list(stop_words))\n",
    "\n",
    "def remove_stopwords(sentence):\n",
    "    words = tf.strings.split(sentence)\n",
    "    filtered_words = tf.boolean_mask(words, tf.math.logical_not(tf.reduce_any(tf.equal(words[:, None], stopwords_tensor[None, :]), axis=1)))\n",
    "    sentence = tf.strings.reduce_join(filtered_words, separator=' ')\n",
    "    return sentence\n",
    "\n",
    "def standardization(sen):\n",
    "    \n",
    "    lowercase = tf.strings.lower(sen)\n",
    "\n",
    "    # Remove punctuations and numbers\n",
    "    sentence = tf.strings.regex_replace(lowercase, '[^a-z]', ' ')\n",
    "    \n",
    "    # Take off of html tag\n",
    "    sentence = tf.strings.regex_replace(sentence, '<[^>]+>', ' ')\n",
    "    \n",
    "    # Single character removal\n",
    "    sentence = tf.strings.regex_replace(sentence, r'\\b\\w\\b', ' ')\n",
    "    \n",
    "    # Remove multiple spaces\n",
    "    sentence = tf.strings.regex_replace(sentence, ' +', ' ')\n",
    "    \n",
    "    # Remove stopwords #FIXME\n",
    "    # sentence = remove_stopwords(sentence)\n",
    "    \n",
    "    # Normalize UTF-8 and remove accented characters using standard Python libraries #FIXME\n",
    "    # def normalize_and_remove_accents(text):\n",
    "    #     text = unicodedata.normalize('NFKD', text.numpy().decode('utf-8'))\n",
    "    #     return ''.join(c for c in text if unicodedata.category(c) != 'Mn')\n",
    "\n",
    "    # sentence = tf.py_function(normalize_and_remove_accents, [sentence], tf.string)\n",
    "\n",
    "    return sentence\n"
   ]
  },
  {
   "cell_type": "code",
   "execution_count": 495,
   "id": "ca9a72ba-0394-4f50-b1a9-0c0b7647978a",
   "metadata": {},
   "outputs": [
    {
     "data": {
      "text/plain": [
       "<tf.Tensor: shape=(), dtype=string, numpy=b' this is sample sentence showing off the stop words filtration '>"
      ]
     },
     "execution_count": 495,
     "metadata": {},
     "output_type": "execute_result"
    }
   ],
   "source": [
    "# movie_reviews['review'][2]\n",
    "# Example usage\n",
    "sentence = tf.constant(\"lộc This is a sample sentence, showing off the stop words filtration.\")\n",
    "standardization(sentence)"
   ]
  },
  {
   "cell_type": "code",
   "execution_count": 496,
   "id": "12bcab20ac7eb0ac",
   "metadata": {},
   "outputs": [
    {
     "data": {
      "text/plain": [
       "<tf.Tensor: shape=(), dtype=string, numpy=b' thought this was wonderful way to spend time on too hot summer weekend sitting in the air conditioned theater and watching light hearted comedy the plot is simplistic but the dialogue is witty and the characters are likable even the well bread suspected serial killer while some may be disappointed when they realize this is not match point risk addiction thought it was proof that woody allen is still fully in control of the style many of us have grown to love br br this was the most laughed at one of woody comedies in years dare say decade while ve never been impressed with scarlet johanson in this she managed to tone down her sexy image and jumped right into average but spirited young woman br br this may not be the crown jewel of his career but it was wittier than devil wears prada and more interesting than superman great comedy to go see with friends '>"
      ]
     },
     "execution_count": 496,
     "metadata": {},
     "output_type": "execute_result"
    }
   ],
   "source": [
    "standardization(movie_reviews['review'][2])"
   ]
  },
  {
   "cell_type": "markdown",
   "id": "3c9835598021a497",
   "metadata": {},
   "source": [
    "## Preparing embedding layer"
   ]
  },
  {
   "cell_type": "markdown",
   "id": "4c424772-b0ab-4329-89eb-643af3647d37",
   "metadata": {},
   "source": [
    "### Manual"
   ]
  },
  {
   "cell_type": "code",
   "execution_count": 497,
   "id": "cc1b6f52-01a8-4a3d-b253-585acbd224fc",
   "metadata": {},
   "outputs": [],
   "source": [
    "# word_tokenizer = Tokenizer()\n",
    "# word_tokenizer.fit_on_texts(X_train) # create a dictionary\n",
    "\n",
    "# X_train = word_tokenizer.texts_to_sequences(X_train) # match the words in the dictionary to the words in the sentences\n",
    "# X_test = word_tokenizer.texts_to_sequences(X_test)\n",
    "# len(word_tokenizer.word_index)\n",
    "# Adding 1 to store dimensions for words for which no pretrained word embeddings exist\n",
    "\n",
    "# vocab_length = len(word_tokenizer.word_index) + 1\n",
    "\n",
    "# vocab_length\n",
    "# len(X_train)\n",
    "# for i in range(10):\n",
    "#     print(len(X_train[i]))\n",
    "# Padding all reviews to fixed length 100\n",
    "\n",
    "# maxlen = 100\n",
    "\n",
    "# X_train = pad_sequences(X_train, padding='post', maxlen=maxlen)\n",
    "# X_test = pad_sequences(X_test, padding='post', maxlen=maxlen)\n",
    "# len(X_train)\n",
    "# for i in range(10):\n",
    "#     print(X_train)"
   ]
  },
  {
   "cell_type": "markdown",
   "id": "b2fe7406-c021-467f-8236-a9f8b1f4363b",
   "metadata": {},
   "source": [
    "### Keras TextVectorization"
   ]
  },
  {
   "cell_type": "code",
   "execution_count": 498,
   "id": "dec27418-34f0-4d36-bdec-643ade824413",
   "metadata": {},
   "outputs": [],
   "source": [
    "# Define hyperparameters\n",
    "# 1. Batch size for training and validation (64)\n",
    "BATCH_SIZE=64\n",
    "# 2. Maximum vocabulary size (10,000)\n",
    "VOCAB_SIZE=10000\n",
    "# 3. Maximum sequence length to pad the sentences to (250)\n",
    "SEQUENCE_LENGTH=250"
   ]
  },
  {
   "cell_type": "code",
   "execution_count": 499,
   "id": "eaae1f02-21cc-4333-be9d-fdfdb942cdbc",
   "metadata": {},
   "outputs": [],
   "source": [
    "# Create a TextVectorization layer to vectorize and standardize text data for the model\n",
    "# Include tokenization, standardization, and vectorization in one layer\n",
    "vectorize_layer = TextVectorization(\n",
    "    standardize=standardization,\n",
    "    max_tokens=VOCAB_SIZE,\n",
    "    output_mode='int',\n",
    "    output_sequence_length=SEQUENCE_LENGTH\n",
    ")"
   ]
  },
  {
   "cell_type": "code",
   "execution_count": 500,
   "id": "1d214b16-f47e-4493-b623-f56ac68446a4",
   "metadata": {
    "ExecuteTime": {
     "end_time": "2024-07-10T08:10:54.325857Z",
     "start_time": "2024-07-10T08:10:54.309667Z"
    }
   },
   "outputs": [
    {
     "name": "stdout",
     "output_type": "stream",
     "text": [
      "Building the dictionary...\n"
     ]
    },
    {
     "name": "stderr",
     "output_type": "stream",
     "text": [
      "2024-07-10 16:31:13.133763: I tensorflow/core/common_runtime/executor.cc:1197] [/device:CPU:0] (DEBUG INFO) Executor start aborting (this does not indicate an error and you can ignore this message): INVALID_ARGUMENT: You must feed a value for placeholder tensor 'Placeholder/_1' with dtype int64 and shape [40000]\n",
      "\t [[{{node Placeholder/_1}}]]\n"
     ]
    },
    {
     "name": "stdout",
     "output_type": "stream",
     "text": [
      "Time taken to build the dictionary:  13.50248122215271\n"
     ]
    }
   ],
   "source": [
    "# Split the dataset into training and testing sets (80% training, 20% validation)\n",
    "X_train, X_val, y_train, y_val = train_test_split(movie_reviews['review'], movie_reviews['sentiment'], test_size=0.2, random_state=42)\n",
    "\n",
    "# Create a tf.data.Dataset object for the training and validation sets\n",
    "train_data = tf.data.Dataset.from_tensor_slices((X_train, y_train))\n",
    "val_data = tf.data.Dataset.from_tensor_slices((X_val, y_val))\n",
    "\n",
    "print(\"Building the dictionary...\")\n",
    "\n",
    "start_time = time.time()\n",
    "\n",
    "# Only extract the train from the dataset\n",
    "vectorize_layer.adapt(train_data.map(lambda train, label: train))\n",
    "\n",
    "end_time = time.time()\n",
    "\n",
    "print(\"Time taken to build the dictionary: \", end_time - start_time)\n"
   ]
  },
  {
   "cell_type": "code",
   "execution_count": 501,
   "id": "017d4833-5bde-4e00-8c9b-114a88ed42b1",
   "metadata": {},
   "outputs": [
    {
     "name": "stdout",
     "output_type": "stream",
     "text": [
      "I really liked this Summerslam due to the look of the arena, the curtains and just the look overall was interesting to me for some reason. Anyways, this could have been one of the best Summerslam's ever if the WWF didn't have Lex Luger in the main event against Yokozuna, now for it's time it was ok to have a huge fat man vs a strong man but I'm glad times have changed. It was a terrible main event just like every match Luger is in is terrible. Other matches on the card were Razor Ramon vs Ted Dibiase, Steiner Brothers vs Heavenly Bodies, Shawn Michaels vs Curt Hening, this was the event where Shawn named his big monster of a body guard Diesel, IRS vs 1-2-3 Kid, Bret Hart first takes on Doink then takes on Jerry Lawler and stuff with the Harts and Lawler was always very interesting, then Ludvig Borga destroyed Marty Jannetty, Undertaker took on Giant Gonzalez in another terrible match, The Smoking Gunns and Tatanka took on Bam Bam Bigelow and the Headshrinkers, and Yokozuna defended the world title against Lex Luger this match was boring and it has a terrible ending. However it deserves 8/10\n",
      "Not many television shows appeal to quite as many different kinds of fans like Farscape does...I know youngsters and 30/40+ years old;fans both Male and Female in as many different countries as you can think of that just adore this T.V miniseries. It has elements that can be found in almost every other show on T.V, character driven drama that could be from an Australian soap opera; yet in the same episode it has science fact & fiction that would give even the hardiest \"Trekkie\" a run for his money in the brainbender stakes! Wormhole theory, Time Travel in true equational form...Magnificent. It embraces cultures from all over the map as the possibilities are endless having multiple stars and therefore thousands of planets to choose from.<br /><br />With such a broad scope; it would be expected that nothing would be able to keep up the illusion for long, but here is where \"Farscape\" really comes into it's own element...It succeeds where all others have failed, especially the likes of Star Trek (a universe with practically zero Kaos element!) They ran out of ideas pretty quickly + kept rehashing them! Over the course of 4 seasons they manage to keep the audience's attention using good continuity and constant character evolution with multiple threads to every episode with unique personal touches to camera that are specific to certain character groups within the whole. This structure allows for an extremely large area of subject matter as loyalties are forged and broken in many ways on many many issues. I happened to see the pilot (Premiere) in passing and just had to keep tuning in after that to see if Crichton would ever \"Get the girl\", after seeing them all on television I was delighted to see them available on DVD & I have to admit that it was the only thing that kept me sane whilst I had to do a 12 hour night shift and developed chronic insomnia...Farscape was the only thing to get me through those extremely long nights...<br /><br />Do yourself a favour; Watch the pilot and see what I mean...<br /><br />Farscape Comet\n",
      "The film quickly gets to a major chase scene with ever increasing destruction. The first really bad thing is the guy hijacking Steven Seagal would have been beaten to pulp by Seagal's driving, but that probably would have ended the whole premise for the movie.<br /><br />It seems like they decided to make all kinds of changes in the movie plot, so just plan to enjoy the action, and do not expect a coherent plot. Turn any sense of logic you may have, it will reduce your chance of getting a headache.<br /><br />I does give me some hope that Steven Seagal is trying to move back towards the type of characters he portrayed in his more popular movies.\n",
      "Jane Austen would definitely approve of this one!<br /><br />Gwyneth Paltrow does an awesome job capturing the attitude of Emma. She is funny without being excessively silly, yet elegant. She puts on a very convincing British accent (not being British myself, maybe I'm not the best judge, but she fooled me...she was also excellent in \"Sliding Doors\"...I sometimes forget she's American ~!). <br /><br />Also brilliant are Jeremy Northam and Sophie Thompson and Phyllida Law (Emma Thompson's sister and mother) as the Bates women. They nearly steal the show...and Ms. Law doesn't even have any lines!<br /><br />Highly recommended.\n"
     ]
    }
   ],
   "source": [
    "# print 4 first records of X_val\n",
    "for i in range(4):\n",
    "    print(X_val.iloc[i])"
   ]
  },
  {
   "cell_type": "code",
   "execution_count": 502,
   "id": "2c21568ee2cae1ab",
   "metadata": {},
   "outputs": [
    {
     "name": "stdout",
     "output_type": "stream",
     "text": [
      "I really liked this Summerslam due to the look of the arena, the curtains and just the look overall was interesting to me for some reason. Anyways, this could have been one of the best Summerslam's ever if the WWF didn't have Lex Luger in the main event against Yokozuna, now for it's time it was ok to have a huge fat man vs a strong man but I'm glad times have changed. It was a terrible main event just like every match Luger is in is terrible. Other matches on the card were Razor Ramon vs Ted Dibiase, Steiner Brothers vs Heavenly Bodies, Shawn Michaels vs Curt Hening, this was the event where Shawn named his big monster of a body guard Diesel, IRS vs 1-2-3 Kid, Bret Hart first takes on Doink then takes on Jerry Lawler and stuff with the Harts and Lawler was always very interesting, then Ludvig Borga destroyed Marty Jannetty, Undertaker took on Giant Gonzalez in another terrible match, The Smoking Gunns and Tatanka took on Bam Bam Bigelow and the Headshrinkers, and Yokozuna defended the world title against Lex Luger this match was boring and it has a terrible ending. However it deserves 8/10\n",
      "tf.Tensor(\n",
      "[  62  417   10    1  675    5    2  162    4    2 9973    2    1    3\n",
      "   39    2  162  435   12  218    5   66   15   46  283 3421   10   93\n",
      "   25   73   26    4    2  114    1  120   43    2    1  151   25 9387\n",
      "    1    9    2  273 1559  449    1  144   15    8   55    8   12  551\n",
      "    5   25  621 1693  122 1486  550  122   17 1249  206   25 1145    8\n",
      "   12  372  273 1559   39   36  169  996    1    6    9    6  372   78\n",
      " 4274   20    2 3361   69 6142 7799 1486 2475    1    1 1064 1486    1\n",
      " 2169 7229 8648 1486    1    1   10   12    2 1559  113 7229  759   24\n",
      "  188  758    4  633 2814    1    1 1486  497    1 4061   84  300   20\n",
      "    1   89  300   20 1631    1    3  518   16    2    1    3    1   12\n",
      "  208   50  218   89    1    1 2627 4585    1 8321  541   20 1256    1\n",
      "    9  156  372  996    2 3163    1    3    1  541   20 5104 5104    1\n",
      "    3    2    1    3    1    1    2  172  411  449 9387    1   10  996\n",
      "   12  339    3    8   44  372  262  187    8  969    0    0    0    0\n",
      "    0    0    0    0    0    0    0    0    0    0    0    0    0    0\n",
      "    0    0    0    0    0    0    0    0    0    0    0    0    0    0\n",
      "    0    0    0    0    0    0    0    0    0    0    0    0    0    0\n",
      "    0    0    0    0    0    0    0    0    0    0    0    0], shape=(250,), dtype=int64)\n"
     ]
    }
   ],
   "source": [
    "# Display the words in the vocabulary with their vector representations\n",
    "# for i in range(1):\n",
    "#     print(X_train[i])\n",
    "#     print(vectorize_layer(X_val[i]))\n",
    "\n",
    "# print X_val\n",
    "for i in range(1):\n",
    "    print(X_val.iloc[i])\n",
    "    print(vectorize_layer(X_val.iloc[i]))"
   ]
  },
  {
   "cell_type": "code",
   "execution_count": 503,
   "id": "3e7c2bf2-a837-4640-afd1-1d60b354ad01",
   "metadata": {},
   "outputs": [
    {
     "data": {
      "text/plain": [
       "'are'"
      ]
     },
     "execution_count": 503,
     "metadata": {},
     "output_type": "execute_result"
    }
   ],
   "source": [
    "vectorize_layer.get_vocabulary()[22]"
   ]
  },
  {
   "cell_type": "code",
   "execution_count": 504,
   "id": "e0f92e6b-5da3-4d2f-b627-7a6a42c761f6",
   "metadata": {},
   "outputs": [
    {
     "name": "stdout",
     "output_type": "stream",
     "text": [
      "Starting vectorization...\n",
      "Time taken to vectorize the dataset:  0.06215810775756836\n"
     ]
    }
   ],
   "source": [
    "print(\"Starting vectorization...\")\n",
    "\n",
    "def vectorizer(review, label):\n",
    "    return vectorize_layer(review),label\n",
    "\n",
    "start_time = time.time()\n",
    "\n",
    "# train_dataset = vectorize_layer(X_train)\n",
    "# val_dataset = vectorize_layer(X_val)\n",
    "\n",
    "train_dataset = train_data.map(lambda x, y: (vectorize_layer(x), y))\n",
    "val_dataset = val_data.map(lambda x, y: (vectorize_layer(x), y))\n",
    "\n",
    "end_time = time.time()\n",
    "\n",
    "print(\"Time taken to vectorize the dataset: \", end_time - start_time)"
   ]
  },
  {
   "cell_type": "markdown",
   "id": "d9ee48abf76c203f",
   "metadata": {},
   "source": [
    "## Models Training:"
   ]
  },
  {
   "cell_type": "markdown",
   "id": "e48ea8c3-a4bc-420b-a8de-6ab8f4541548",
   "metadata": {},
   "source": [
    "### Simple RNN:"
   ]
  },
  {
   "cell_type": "code",
   "execution_count": 476,
   "id": "51d3b5b1d049f39",
   "metadata": {},
   "outputs": [
    {
     "name": "stdout",
     "output_type": "stream",
     "text": [
      "Model: \"sequential_9\"\n",
      "_________________________________________________________________\n",
      " Layer (type)                Output Shape              Param #   \n",
      "=================================================================\n",
      " embedding_10 (Embedding)    (None, 250, 64)           640000    \n",
      "                                                                 \n",
      " simple_rnn_5 (SimpleRNN)    (None, 32)                3104      \n",
      "                                                                 \n",
      " dense_13 (Dense)            (None, 1)                 33        \n",
      "                                                                 \n",
      "=================================================================\n",
      "Total params: 643,137\n",
      "Trainable params: 643,137\n",
      "Non-trainable params: 0\n",
      "_________________________________________________________________\n"
     ]
    }
   ],
   "source": [
    "# Define hyperparameters\n",
    "# 1. Batch size for training and validation (64)\n",
    "BATCH_SIZE=64\n",
    "# 2. Maximum vocabulary size (10,000)\n",
    "VOCAB_SIZE=10000\n",
    "# 3. Maximum sequence length to pad the sentences to (250)\n",
    "SEQUENCE_LENGTH=250\n",
    "# 4. Embedding dimension (64)\n",
    "EMBEDDING_DIM = 64\n",
    "\n",
    "model=tf.keras.models.Sequential([\n",
    "    \n",
    "    Input(shape=(SEQUENCE_LENGTH,)),\n",
    "    \n",
    "    Embedding(VOCAB_SIZE, EMBEDDING_DIM),\n",
    "    \n",
    "    SimpleRNN(32),\n",
    "    \n",
    "    Dense(1,activation='sigmoid'),\n",
    "])\n",
    "\n",
    "model.summary()"
   ]
  },
  {
   "cell_type": "code",
   "execution_count": 477,
   "id": "d5ce7a75-4f33-4476-a8b2-272da2eba175",
   "metadata": {},
   "outputs": [],
   "source": [
    "# checkpoint_filepath = '/content/drive/MyDrive/Colab Notebooks/sentiment_analysis/imdb_simple_rnn_checkpoint.keras'\n",
    "checkpoint_filepath = '/Users/loc/Desktop/Git/23mse43006/7.ML/FinalAssignment/application/models/sentiment_analysic/check_points/imdb_simple_rnn_checkpoint.keras'\n",
    "\n",
    "model_checkpoint_callback = tf.keras.callbacks.ModelCheckpoint(\n",
    "    filepath=checkpoint_filepath,\n",
    "    monitor='val_accuracy',\n",
    "    mode='max',\n",
    "    save_best_only=True)"
   ]
  },
  {
   "cell_type": "code",
   "execution_count": 438,
   "id": "db0912f1-fd41-45ad-9c8d-49424d2c1377",
   "metadata": {
    "ExecuteTime": {
     "end_time": "2024-07-10T07:27:45.341869Z",
     "start_time": "2024-07-10T07:27:45.286258Z"
    }
   },
   "outputs": [],
   "source": [
    "# Mac M1/M2 happy with legacy: tf.keras.optimizers.legacy.Adam(1e-4)\n",
    "model.compile(loss=tf.keras.losses.BinaryCrossentropy(),\n",
    "              optimizer= tf.keras.optimizers.legacy.Adam(1e-4), #tf.keras.optimizers.Adam(1e-4),\n",
    "              metrics=['accuracy'])"
   ]
  },
  {
   "cell_type": "code",
   "execution_count": 439,
   "id": "f0d4a320-b21b-4543-9e3d-7a10040db4a4",
   "metadata": {
    "ExecuteTime": {
     "end_time": "2024-07-10T07:31:08.741433Z",
     "start_time": "2024-07-10T07:31:08.646181Z"
    }
   },
   "outputs": [
    {
     "name": "stdout",
     "output_type": "stream",
     "text": [
      "Training the model...\n",
      "Epoch 1/10\n"
     ]
    },
    {
     "name": "stderr",
     "output_type": "stream",
     "text": [
      "2024-07-10 15:19:23.092133: I tensorflow/core/common_runtime/executor.cc:1197] [/device:CPU:0] (DEBUG INFO) Executor start aborting (this does not indicate an error and you can ignore this message): INVALID_ARGUMENT: You must feed a value for placeholder tensor 'Placeholder/_1' with dtype int64 and shape [40000]\n",
      "\t [[{{node Placeholder/_1}}]]\n"
     ]
    },
    {
     "name": "stdout",
     "output_type": "stream",
     "text": [
      "625/625 [==============================] - ETA: 0s - loss: 0.6927 - accuracy: 0.5138"
     ]
    },
    {
     "name": "stderr",
     "output_type": "stream",
     "text": [
      "2024-07-10 15:19:39.523271: I tensorflow/core/common_runtime/executor.cc:1197] [/device:CPU:0] (DEBUG INFO) Executor start aborting (this does not indicate an error and you can ignore this message): INVALID_ARGUMENT: You must feed a value for placeholder tensor 'Placeholder/_0' with dtype string and shape [10000]\n",
      "\t [[{{node Placeholder/_0}}]]\n"
     ]
    },
    {
     "name": "stdout",
     "output_type": "stream",
     "text": [
      "625/625 [==============================] - 18s 29ms/step - loss: 0.6927 - accuracy: 0.5138 - val_loss: 0.6814 - val_accuracy: 0.5894\n",
      "Epoch 2/10\n",
      "625/625 [==============================] - 18s 29ms/step - loss: 0.6839 - accuracy: 0.5540 - val_loss: 0.6679 - val_accuracy: 0.6106\n",
      "Epoch 3/10\n",
      "625/625 [==============================] - 18s 29ms/step - loss: 0.6345 - accuracy: 0.6578 - val_loss: 0.6490 - val_accuracy: 0.6469\n",
      "Epoch 4/10\n",
      "625/625 [==============================] - 18s 29ms/step - loss: 0.5517 - accuracy: 0.7521 - val_loss: 0.4922 - val_accuracy: 0.8076\n",
      "Epoch 5/10\n",
      "625/625 [==============================] - 18s 29ms/step - loss: 0.4035 - accuracy: 0.8500 - val_loss: 0.4005 - val_accuracy: 0.8446\n",
      "Epoch 6/10\n",
      "625/625 [==============================] - 18s 29ms/step - loss: 0.3096 - accuracy: 0.8905 - val_loss: 0.3459 - val_accuracy: 0.8633\n",
      "Epoch 7/10\n",
      "625/625 [==============================] - 18s 29ms/step - loss: 0.2581 - accuracy: 0.9126 - val_loss: 0.3555 - val_accuracy: 0.8711\n",
      "Epoch 8/10\n",
      "625/625 [==============================] - 18s 29ms/step - loss: 0.2227 - accuracy: 0.9287 - val_loss: 0.3981 - val_accuracy: 0.8640\n",
      "Epoch 9/10\n",
      "625/625 [==============================] - 18s 29ms/step - loss: 0.1945 - accuracy: 0.9416 - val_loss: 0.3701 - val_accuracy: 0.8688\n",
      "Epoch 10/10\n",
      "625/625 [==============================] - 18s 29ms/step - loss: 0.1730 - accuracy: 0.9499 - val_loss: 0.4200 - val_accuracy: 0.8517\n",
      "Time taken to train the model:  181.9174199104309\n"
     ]
    }
   ],
   "source": [
    "# Model training\n",
    "start_time = time.time()\n",
    "\n",
    "print(\"Training the model...\")\n",
    "\n",
    "BATCH_SIZE=64\n",
    "\n",
    "# Batch and prefetch the dataset\n",
    "train_data = train_dataset.batch(BATCH_SIZE).prefetch(buffer_size=tf.data.AUTOTUNE)\n",
    "val_data = val_dataset.batch(BATCH_SIZE).prefetch(buffer_size=tf.data.AUTOTUNE)\n",
    "\n",
    "history=model.fit(\n",
    "    train_data,\n",
    "    validation_data=val_data,\n",
    "    epochs=10,\n",
    "    callbacks=[model_checkpoint_callback])\n",
    "\n",
    "# model.save_weights(\"/content/drive/MyDrive/Colab Notebooks/sentiment_analysis/text_sentiment_analysis.h5\")\n",
    "model.save(\"/Users/loc/Desktop/Git/23mse43006/7.ML/FinalAssignment/application/models/sentiment_analysic/output/imdb_simple_rnn.h5\")\n",
    "\n",
    "end_time = time.time()\n",
    "\n",
    "print(\"Time taken to train the model: \", end_time - start_time)"
   ]
  },
  {
   "cell_type": "code",
   "execution_count": 442,
   "id": "b9e2d09c-2c8e-4cbc-a79f-83aa71e79bce",
   "metadata": {},
   "outputs": [
    {
     "data": {
      "image/png": "[encoded data removed]",
      "text/plain": [
       "<Figure size 640x480 with 1 Axes>"
      ]
     },
     "metadata": {},
     "output_type": "display_data"
    }
   ],
   "source": [
    "plt.plot(history.history['loss'])\n",
    "plt.plot(history.history['val_loss'])\n",
    "plt.title('model_loss')\n",
    "plt.ylabel('loss')\n",
    "plt.xlabel('epoch')\n",
    "plt.legend(['train', 'val'], loc='upper left')\n",
    "plt.show()"
   ]
  },
  {
   "cell_type": "code",
   "execution_count": 443,
   "id": "d282e414-ec08-47be-bc41-71ea50ab1f75",
   "metadata": {},
   "outputs": [
    {
     "data": {
      "image/png": "[encoded data removed]",
      "text/plain": [
       "<Figure size 640x480 with 1 Axes>"
      ]
     },
     "metadata": {},
     "output_type": "display_data"
    }
   ],
   "source": [
    "plt.plot(history.history['accuracy'])\n",
    "plt.plot(history.history['val_accuracy'])\n",
    "\n",
    "plt.title('model_accuracy')\n",
    "plt.ylabel('accuracy')\n",
    "plt.xlabel('epoch')\n",
    "plt.legend(['train', 'val'], loc='upper left')\n",
    "plt.show()"
   ]
  },
  {
   "cell_type": "markdown",
   "id": "13789e6df7f89749",
   "metadata": {},
   "source": [
    "### LSTM (MultiLayer and Bidirectional):"
   ]
  },
  {
   "cell_type": "code",
   "execution_count": 478,
   "id": "94eb7266ccda0173",
   "metadata": {},
   "outputs": [
    {
     "name": "stderr",
     "output_type": "stream",
     "text": [
      "2024-07-10 15:54:44.258127: I tensorflow/core/common_runtime/executor.cc:1197] [/device:CPU:0] (DEBUG INFO) Executor start aborting (this does not indicate an error and you can ignore this message): INVALID_ARGUMENT: You must feed a value for placeholder tensor 'gradients/split_2_grad/concat/split_2/split_dim' with dtype int32\n",
      "\t [[{{node gradients/split_2_grad/concat/split_2/split_dim}}]]\n",
      "2024-07-10 15:54:44.258678: I tensorflow/core/common_runtime/executor.cc:1197] [/device:CPU:0] (DEBUG INFO) Executor start aborting (this does not indicate an error and you can ignore this message): INVALID_ARGUMENT: You must feed a value for placeholder tensor 'gradients/split_grad/concat/split/split_dim' with dtype int32\n",
      "\t [[{{node gradients/split_grad/concat/split/split_dim}}]]\n",
      "2024-07-10 15:54:44.259281: I tensorflow/core/common_runtime/executor.cc:1197] [/device:CPU:0] (DEBUG INFO) Executor start aborting (this does not indicate an error and you can ignore this message): INVALID_ARGUMENT: You must feed a value for placeholder tensor 'gradients/split_1_grad/concat/split_1/split_dim' with dtype int32\n",
      "\t [[{{node gradients/split_1_grad/concat/split_1/split_dim}}]]\n",
      "2024-07-10 15:54:44.308044: I tensorflow/core/common_runtime/executor.cc:1197] [/device:CPU:0] (DEBUG INFO) Executor start aborting (this does not indicate an error and you can ignore this message): INVALID_ARGUMENT: You must feed a value for placeholder tensor 'gradients/ReverseV2_grad/ReverseV2/ReverseV2/axis' with dtype int32 and shape [1]\n",
      "\t [[{{node gradients/ReverseV2_grad/ReverseV2/ReverseV2/axis}}]]\n",
      "2024-07-10 15:54:44.323838: I tensorflow/core/common_runtime/executor.cc:1197] [/device:CPU:0] (DEBUG INFO) Executor start aborting (this does not indicate an error and you can ignore this message): INVALID_ARGUMENT: You must feed a value for placeholder tensor 'gradients/split_2_grad/concat/split_2/split_dim' with dtype int32\n",
      "\t [[{{node gradients/split_2_grad/concat/split_2/split_dim}}]]\n",
      "2024-07-10 15:54:44.324240: I tensorflow/core/common_runtime/executor.cc:1197] [/device:CPU:0] (DEBUG INFO) Executor start aborting (this does not indicate an error and you can ignore this message): INVALID_ARGUMENT: You must feed a value for placeholder tensor 'gradients/split_grad/concat/split/split_dim' with dtype int32\n",
      "\t [[{{node gradients/split_grad/concat/split/split_dim}}]]\n",
      "2024-07-10 15:54:44.324606: I tensorflow/core/common_runtime/executor.cc:1197] [/device:CPU:0] (DEBUG INFO) Executor start aborting (this does not indicate an error and you can ignore this message): INVALID_ARGUMENT: You must feed a value for placeholder tensor 'gradients/split_1_grad/concat/split_1/split_dim' with dtype int32\n",
      "\t [[{{node gradients/split_1_grad/concat/split_1/split_dim}}]]\n",
      "2024-07-10 15:54:44.394443: I tensorflow/core/common_runtime/executor.cc:1197] [/device:CPU:0] (DEBUG INFO) Executor start aborting (this does not indicate an error and you can ignore this message): INVALID_ARGUMENT: You must feed a value for placeholder tensor 'gradients/split_2_grad/concat/split_2/split_dim' with dtype int32\n",
      "\t [[{{node gradients/split_2_grad/concat/split_2/split_dim}}]]\n",
      "2024-07-10 15:54:44.394851: I tensorflow/core/common_runtime/executor.cc:1197] [/device:CPU:0] (DEBUG INFO) Executor start aborting (this does not indicate an error and you can ignore this message): INVALID_ARGUMENT: You must feed a value for placeholder tensor 'gradients/split_grad/concat/split/split_dim' with dtype int32\n",
      "\t [[{{node gradients/split_grad/concat/split/split_dim}}]]\n",
      "2024-07-10 15:54:44.395579: I tensorflow/core/common_runtime/executor.cc:1197] [/device:CPU:0] (DEBUG INFO) Executor start aborting (this does not indicate an error and you can ignore this message): INVALID_ARGUMENT: You must feed a value for placeholder tensor 'gradients/split_1_grad/concat/split_1/split_dim' with dtype int32\n",
      "\t [[{{node gradients/split_1_grad/concat/split_1/split_dim}}]]\n",
      "2024-07-10 15:54:44.442965: I tensorflow/core/common_runtime/executor.cc:1197] [/device:CPU:0] (DEBUG INFO) Executor start aborting (this does not indicate an error and you can ignore this message): INVALID_ARGUMENT: You must feed a value for placeholder tensor 'gradients/ReverseV2_grad/ReverseV2/ReverseV2/axis' with dtype int32 and shape [1]\n",
      "\t [[{{node gradients/ReverseV2_grad/ReverseV2/ReverseV2/axis}}]]\n",
      "2024-07-10 15:54:44.458184: I tensorflow/core/common_runtime/executor.cc:1197] [/device:CPU:0] (DEBUG INFO) Executor start aborting (this does not indicate an error and you can ignore this message): INVALID_ARGUMENT: You must feed a value for placeholder tensor 'gradients/split_2_grad/concat/split_2/split_dim' with dtype int32\n",
      "\t [[{{node gradients/split_2_grad/concat/split_2/split_dim}}]]\n",
      "2024-07-10 15:54:44.458554: I tensorflow/core/common_runtime/executor.cc:1197] [/device:CPU:0] (DEBUG INFO) Executor start aborting (this does not indicate an error and you can ignore this message): INVALID_ARGUMENT: You must feed a value for placeholder tensor 'gradients/split_grad/concat/split/split_dim' with dtype int32\n",
      "\t [[{{node gradients/split_grad/concat/split/split_dim}}]]\n",
      "2024-07-10 15:54:44.458901: I tensorflow/core/common_runtime/executor.cc:1197] [/device:CPU:0] (DEBUG INFO) Executor start aborting (this does not indicate an error and you can ignore this message): INVALID_ARGUMENT: You must feed a value for placeholder tensor 'gradients/split_1_grad/concat/split_1/split_dim' with dtype int32\n",
      "\t [[{{node gradients/split_1_grad/concat/split_1/split_dim}}]]\n"
     ]
    },
    {
     "name": "stdout",
     "output_type": "stream",
     "text": [
      "Model: \"sequential_10\"\n",
      "_________________________________________________________________\n",
      " Layer (type)                Output Shape              Param #   \n",
      "=================================================================\n",
      " embedding_11 (Embedding)    (None, 250, 64)           640000    \n",
      "                                                                 \n",
      " bidirectional_8 (Bidirectio  (None, 250, 128)         66048     \n",
      " nal)                                                            \n",
      "                                                                 \n",
      " bidirectional_9 (Bidirectio  (None, 64)               41216     \n",
      " nal)                                                            \n",
      "                                                                 \n",
      " dense_14 (Dense)            (None, 64)                4160      \n",
      "                                                                 \n",
      " dropout_4 (Dropout)         (None, 64)                0         \n",
      "                                                                 \n",
      " dense_15 (Dense)            (None, 1)                 65        \n",
      "                                                                 \n",
      "=================================================================\n",
      "Total params: 751,489\n",
      "Trainable params: 751,489\n",
      "Non-trainable params: 0\n",
      "_________________________________________________________________\n"
     ]
    }
   ],
   "source": [
    "# Define hyperparameters\n",
    "# 1. Batch size for training and validation (64)\n",
    "BATCH_SIZE=64\n",
    "# 2. Maximum vocabulary size (10,000)\n",
    "VOCAB_SIZE=10000\n",
    "# 3. Maximum sequence length to pad the sentences to (250)\n",
    "SEQUENCE_LENGTH=250\n",
    "# 4. Embedding dimension (64)\n",
    "EMBEDDING_DIM = 64\n",
    "\n",
    "model=tf.keras.models.Sequential([\n",
    "\n",
    "    Input(shape=(SEQUENCE_LENGTH,)),\n",
    "\n",
    "    Embedding(VOCAB_SIZE,EMBEDDING_DIM),\n",
    "\n",
    "    Bidirectional(LSTM(64,return_sequences=True)),\n",
    "\n",
    "    Bidirectional(LSTM(32)),\n",
    "\n",
    "    Dense(64, activation='relu'),\n",
    "\n",
    "    Dropout(0.5),\n",
    "\n",
    "    Dense(1,activation='sigmoid'),\n",
    "])\n",
    "\n",
    "model.summary()"
   ]
  },
  {
   "cell_type": "code",
   "execution_count": 482,
   "id": "abe1b565d0bfb717",
   "metadata": {},
   "outputs": [],
   "source": [
    "# checkpoint_filepath = '/content/drive/MyDrive/Colab Notebooks/sentiment_analysis/imdb_lstm_checkpoint.keras'\n",
    "checkpoint_filepath = '/Users/loc/Desktop/Git/23mse43006/7.ML/FinalAssignment/application/models/sentiment_analysic/check_points/imdb_lstm_checkpoint.keras'\n",
    "\n",
    "model_checkpoint_callback = tf.keras.callbacks.ModelCheckpoint(\n",
    "    filepath=checkpoint_filepath,\n",
    "    monitor='val_accuracy',\n",
    "    mode='max',\n",
    "    save_best_only=True)"
   ]
  },
  {
   "cell_type": "code",
   "execution_count": 480,
   "id": "e69c632208020703",
   "metadata": {},
   "outputs": [],
   "source": [
    "# Mac M1/M2 happy with legacy: tf.keras.optimizers.legacy.Adam(1e-4)\n",
    "model.compile(loss=tf.keras.losses.BinaryCrossentropy(),\n",
    "              optimizer= tf.keras.optimizers.legacy.Adam(1e-4), #tf.keras.optimizers.Adam(1e-4),\n",
    "              metrics=['accuracy'])"
   ]
  },
  {
   "cell_type": "code",
   "execution_count": 483,
   "id": "9ab641c0c3a38cd5",
   "metadata": {},
   "outputs": [
    {
     "name": "stdout",
     "output_type": "stream",
     "text": [
      "Training the model...\n",
      "Epoch 1/10\n"
     ]
    },
    {
     "name": "stderr",
     "output_type": "stream",
     "text": [
      "2024-07-10 15:59:20.690658: I tensorflow/core/common_runtime/executor.cc:1197] [/device:CPU:0] (DEBUG INFO) Executor start aborting (this does not indicate an error and you can ignore this message): INVALID_ARGUMENT: You must feed a value for placeholder tensor 'Placeholder/_1' with dtype int64 and shape [40000]\n",
      "\t [[{{node Placeholder/_1}}]]\n"
     ]
    },
    {
     "name": "stdout",
     "output_type": "stream",
     "text": [
      "625/625 [==============================] - 132s 212ms/step - loss: 0.2824 - accuracy: 0.8906 - val_loss: 0.2798 - val_accuracy: 0.8820\n",
      "Epoch 2/10\n",
      "625/625 [==============================] - 137s 219ms/step - loss: 0.2370 - accuracy: 0.9130 - val_loss: 0.2931 - val_accuracy: 0.8802\n",
      "Epoch 3/10\n",
      "625/625 [==============================] - 134s 215ms/step - loss: 0.2066 - accuracy: 0.9287 - val_loss: 0.3196 - val_accuracy: 0.8754\n",
      "Epoch 4/10\n",
      "625/625 [==============================] - 138s 221ms/step - loss: 0.1848 - accuracy: 0.9389 - val_loss: 0.3360 - val_accuracy: 0.8769\n",
      "Epoch 5/10\n",
      "625/625 [==============================] - 139s 222ms/step - loss: 0.1677 - accuracy: 0.9474 - val_loss: 0.3897 - val_accuracy: 0.8649\n",
      "Epoch 6/10\n",
      "625/625 [==============================] - 132s 211ms/step - loss: 0.1641 - accuracy: 0.9475 - val_loss: 0.3672 - val_accuracy: 0.8766\n",
      "Epoch 7/10\n",
      "625/625 [==============================] - 132s 211ms/step - loss: 0.1496 - accuracy: 0.9520 - val_loss: 0.4215 - val_accuracy: 0.8702\n",
      "Epoch 8/10\n",
      "625/625 [==============================] - 131s 210ms/step - loss: 0.1396 - accuracy: 0.9571 - val_loss: 0.3971 - val_accuracy: 0.8739\n",
      "Epoch 9/10\n",
      "625/625 [==============================] - 132s 211ms/step - loss: 0.1274 - accuracy: 0.9613 - val_loss: 0.4319 - val_accuracy: 0.8690\n",
      "Epoch 10/10\n",
      "625/625 [==============================] - 133s 213ms/step - loss: 0.1145 - accuracy: 0.9664 - val_loss: 0.4882 - val_accuracy: 0.8633\n",
      "Time taken to train the model:  1340.8074610233307\n"
     ]
    }
   ],
   "source": [
    "# Model training\n",
    "start_time = time.time()\n",
    "\n",
    "print(\"Training the model...\")\n",
    "\n",
    "BATCH_SIZE=64\n",
    "\n",
    "# Batch and prefetch the dataset\n",
    "train_data = train_dataset.batch(BATCH_SIZE).prefetch(buffer_size=tf.data.AUTOTUNE)\n",
    "val_data = val_dataset.batch(BATCH_SIZE).prefetch(buffer_size=tf.data.AUTOTUNE)\n",
    "\n",
    "history=model.fit(\n",
    "    train_data,\n",
    "    validation_data=val_data,\n",
    "    epochs=10,\n",
    "    callbacks=[model_checkpoint_callback])\n",
    "\n",
    "# model.save(\"/content/drive/MyDrive/Colab Notebooks/sentiment_analysis/output/imdb_lstm.h5\")\n",
    "model.save(\"/Users/loc/Desktop/Git/23mse43006/7.ML/FinalAssignment/application/models/sentiment_analysic/output/imdb_lstm.h5\")\n",
    "\n",
    "end_time = time.time()\n",
    "\n",
    "print(\"Time taken to train the model: \", end_time - start_time)"
   ]
  },
  {
   "cell_type": "code",
   "execution_count": 484,
   "id": "a87bc1f57c1272de",
   "metadata": {},
   "outputs": [
    {
     "data": {
      "image/png": "[encoded data removed]",
      "text/plain": [
       "<Figure size 640x480 with 1 Axes>"
      ]
     },
     "metadata": {},
     "output_type": "display_data"
    }
   ],
   "source": [
    "plt.plot(history.history['loss'])\n",
    "plt.plot(history.history['val_loss'])\n",
    "plt.title('model_loss')\n",
    "plt.ylabel('loss')\n",
    "plt.xlabel('epoch')\n",
    "plt.legend(['train', 'val'], loc='upper left')\n",
    "plt.show()"
   ]
  },
  {
   "cell_type": "code",
   "execution_count": 485,
   "id": "8f21eea978264c61",
   "metadata": {},
   "outputs": [
    {
     "data": {
      "image/png": "[encoded data removed]",
      "text/plain": [
       "<Figure size 640x480 with 1 Axes>"
      ]
     },
     "metadata": {},
     "output_type": "display_data"
    }
   ],
   "source": [
    "plt.plot(history.history['accuracy'])\n",
    "plt.plot(history.history['val_accuracy'])\n",
    "\n",
    "plt.title('model_accuracy')\n",
    "plt.ylabel('accuracy')\n",
    "plt.xlabel('epoch')\n",
    "plt.legend(['train', 'val'], loc='upper left')\n",
    "plt.show()"
   ]
  },
  {
   "cell_type": "markdown",
   "id": "58eb44f2ad8407a3",
   "metadata": {},
   "source": []
  },
  {
   "cell_type": "markdown",
   "id": "d988ecb5d515e596",
   "metadata": {},
   "source": [
    "## Pretrained Word2Vec[Gensim]"
   ]
  },
  {
   "cell_type": "code",
   "execution_count": 4,
   "id": "8936d3194ef3451b",
   "metadata": {},
   "outputs": [
    {
     "ename": "ImportError",
     "evalue": "cannot import name 'triu' from 'scipy.linalg' (/Users/loc/Documents/anaconda3/lib/python3.12/site-packages/scipy/linalg/__init__.py)",
     "output_type": "error",
     "traceback": [
      "\u001b[0;31m---------------------------------------------------------------------------\u001b[0m",
      "\u001b[0;31mImportError\u001b[0m                               Traceback (most recent call last)",
      "Cell \u001b[0;32mIn[4], line 1\u001b[0m\n\u001b[0;32m----> 1\u001b[0m \u001b[38;5;28;01mimport\u001b[39;00m \u001b[38;5;21;01mgensim\u001b[39;00m\u001b[38;5;21;01m.\u001b[39;00m\u001b[38;5;21;01mdownloader\u001b[39;00m \u001b[38;5;28;01mas\u001b[39;00m \u001b[38;5;21;01mapi\u001b[39;00m\n\u001b[1;32m      2\u001b[0m \u001b[38;5;28;01mimport\u001b[39;00m \u001b[38;5;21;01mgensim\u001b[39;00m\n\u001b[1;32m      3\u001b[0m \u001b[38;5;66;03m# google_news_news_300_path = \"/content/drive/MyDrive/Colab Notebooks/Embeddings/GoogleNews-vectors-negative300.bin\"\u001b[39;00m\n",
      "File \u001b[0;32m~/Documents/anaconda3/lib/python3.12/site-packages/gensim/__init__.py:11\u001b[0m\n\u001b[1;32m      7\u001b[0m __version__ \u001b[38;5;241m=\u001b[39m \u001b[38;5;124m'\u001b[39m\u001b[38;5;124m4.3.2\u001b[39m\u001b[38;5;124m'\u001b[39m\n\u001b[1;32m      9\u001b[0m \u001b[38;5;28;01mimport\u001b[39;00m \u001b[38;5;21;01mlogging\u001b[39;00m\n\u001b[0;32m---> 11\u001b[0m \u001b[38;5;28;01mfrom\u001b[39;00m \u001b[38;5;21;01mgensim\u001b[39;00m \u001b[38;5;28;01mimport\u001b[39;00m parsing, corpora, matutils, interfaces, models, similarities, utils  \u001b[38;5;66;03m# noqa:F401\u001b[39;00m\n\u001b[1;32m     14\u001b[0m logger \u001b[38;5;241m=\u001b[39m logging\u001b[38;5;241m.\u001b[39mgetLogger(\u001b[38;5;124m'\u001b[39m\u001b[38;5;124mgensim\u001b[39m\u001b[38;5;124m'\u001b[39m)\n\u001b[1;32m     15\u001b[0m \u001b[38;5;28;01mif\u001b[39;00m \u001b[38;5;129;01mnot\u001b[39;00m logger\u001b[38;5;241m.\u001b[39mhandlers:  \u001b[38;5;66;03m# To ensure reload() doesn't add another one\u001b[39;00m\n",
      "File \u001b[0;32m~/Documents/anaconda3/lib/python3.12/site-packages/gensim/corpora/__init__.py:6\u001b[0m\n\u001b[1;32m      1\u001b[0m \u001b[38;5;124;03m\"\"\"\u001b[39;00m\n\u001b[1;32m      2\u001b[0m \u001b[38;5;124;03mThis package contains implementations of various streaming corpus I/O format.\u001b[39;00m\n\u001b[1;32m      3\u001b[0m \u001b[38;5;124;03m\"\"\"\u001b[39;00m\n\u001b[1;32m      5\u001b[0m \u001b[38;5;66;03m# bring corpus classes directly into package namespace, to save some typing\u001b[39;00m\n\u001b[0;32m----> 6\u001b[0m \u001b[38;5;28;01mfrom\u001b[39;00m \u001b[38;5;21;01m.\u001b[39;00m\u001b[38;5;21;01mindexedcorpus\u001b[39;00m \u001b[38;5;28;01mimport\u001b[39;00m IndexedCorpus  \u001b[38;5;66;03m# noqa:F401 must appear before the other classes\u001b[39;00m\n\u001b[1;32m      8\u001b[0m \u001b[38;5;28;01mfrom\u001b[39;00m \u001b[38;5;21;01m.\u001b[39;00m\u001b[38;5;21;01mmmcorpus\u001b[39;00m \u001b[38;5;28;01mimport\u001b[39;00m MmCorpus  \u001b[38;5;66;03m# noqa:F401\u001b[39;00m\n\u001b[1;32m      9\u001b[0m \u001b[38;5;28;01mfrom\u001b[39;00m \u001b[38;5;21;01m.\u001b[39;00m\u001b[38;5;21;01mbleicorpus\u001b[39;00m \u001b[38;5;28;01mimport\u001b[39;00m BleiCorpus  \u001b[38;5;66;03m# noqa:F401\u001b[39;00m\n",
      "File \u001b[0;32m~/Documents/anaconda3/lib/python3.12/site-packages/gensim/corpora/indexedcorpus.py:14\u001b[0m\n\u001b[1;32m     10\u001b[0m \u001b[38;5;28;01mimport\u001b[39;00m \u001b[38;5;21;01mlogging\u001b[39;00m\n\u001b[1;32m     12\u001b[0m \u001b[38;5;28;01mimport\u001b[39;00m \u001b[38;5;21;01mnumpy\u001b[39;00m\n\u001b[0;32m---> 14\u001b[0m \u001b[38;5;28;01mfrom\u001b[39;00m \u001b[38;5;21;01mgensim\u001b[39;00m \u001b[38;5;28;01mimport\u001b[39;00m interfaces, utils\n\u001b[1;32m     16\u001b[0m logger \u001b[38;5;241m=\u001b[39m logging\u001b[38;5;241m.\u001b[39mgetLogger(\u001b[38;5;18m__name__\u001b[39m)\n\u001b[1;32m     19\u001b[0m \u001b[38;5;28;01mclass\u001b[39;00m \u001b[38;5;21;01mIndexedCorpus\u001b[39;00m(interfaces\u001b[38;5;241m.\u001b[39mCorpusABC):\n",
      "File \u001b[0;32m~/Documents/anaconda3/lib/python3.12/site-packages/gensim/interfaces.py:19\u001b[0m\n\u001b[1;32m      7\u001b[0m \u001b[38;5;124;03m\"\"\"Basic interfaces used across the whole Gensim package.\u001b[39;00m\n\u001b[1;32m      8\u001b[0m \n\u001b[1;32m      9\u001b[0m \u001b[38;5;124;03mThese interfaces are used for building corpora, model transformation and similarity queries.\u001b[39;00m\n\u001b[0;32m   (...)\u001b[0m\n\u001b[1;32m     14\u001b[0m \n\u001b[1;32m     15\u001b[0m \u001b[38;5;124;03m\"\"\"\u001b[39;00m\n\u001b[1;32m     17\u001b[0m \u001b[38;5;28;01mimport\u001b[39;00m \u001b[38;5;21;01mlogging\u001b[39;00m\n\u001b[0;32m---> 19\u001b[0m \u001b[38;5;28;01mfrom\u001b[39;00m \u001b[38;5;21;01mgensim\u001b[39;00m \u001b[38;5;28;01mimport\u001b[39;00m utils, matutils\n\u001b[1;32m     22\u001b[0m logger \u001b[38;5;241m=\u001b[39m logging\u001b[38;5;241m.\u001b[39mgetLogger(\u001b[38;5;18m__name__\u001b[39m)\n\u001b[1;32m     25\u001b[0m \u001b[38;5;28;01mclass\u001b[39;00m \u001b[38;5;21;01mCorpusABC\u001b[39;00m(utils\u001b[38;5;241m.\u001b[39mSaveLoad):\n",
      "File \u001b[0;32m~/Documents/anaconda3/lib/python3.12/site-packages/gensim/matutils.py:20\u001b[0m\n\u001b[1;32m     18\u001b[0m \u001b[38;5;28;01mimport\u001b[39;00m \u001b[38;5;21;01mscipy\u001b[39;00m\u001b[38;5;21;01m.\u001b[39;00m\u001b[38;5;21;01msparse\u001b[39;00m\n\u001b[1;32m     19\u001b[0m \u001b[38;5;28;01mfrom\u001b[39;00m \u001b[38;5;21;01mscipy\u001b[39;00m\u001b[38;5;21;01m.\u001b[39;00m\u001b[38;5;21;01mstats\u001b[39;00m \u001b[38;5;28;01mimport\u001b[39;00m entropy\n\u001b[0;32m---> 20\u001b[0m \u001b[38;5;28;01mfrom\u001b[39;00m \u001b[38;5;21;01mscipy\u001b[39;00m\u001b[38;5;21;01m.\u001b[39;00m\u001b[38;5;21;01mlinalg\u001b[39;00m \u001b[38;5;28;01mimport\u001b[39;00m get_blas_funcs, triu\n\u001b[1;32m     21\u001b[0m \u001b[38;5;28;01mfrom\u001b[39;00m \u001b[38;5;21;01mscipy\u001b[39;00m\u001b[38;5;21;01m.\u001b[39;00m\u001b[38;5;21;01mlinalg\u001b[39;00m\u001b[38;5;21;01m.\u001b[39;00m\u001b[38;5;21;01mlapack\u001b[39;00m \u001b[38;5;28;01mimport\u001b[39;00m get_lapack_funcs\n\u001b[1;32m     22\u001b[0m \u001b[38;5;28;01mfrom\u001b[39;00m \u001b[38;5;21;01mscipy\u001b[39;00m\u001b[38;5;21;01m.\u001b[39;00m\u001b[38;5;21;01mspecial\u001b[39;00m \u001b[38;5;28;01mimport\u001b[39;00m psi  \u001b[38;5;66;03m# gamma function utils\u001b[39;00m\n",
      "\u001b[0;31mImportError\u001b[0m: cannot import name 'triu' from 'scipy.linalg' (/Users/loc/Documents/anaconda3/lib/python3.12/site-packages/scipy/linalg/__init__.py)"
     ]
    }
   ],
   "source": [
    "import gensim.downloader as api\n",
    "import gensim\n",
    "# google_news_news_300_path = \"/content/drive/MyDrive/Colab Notebooks/Embeddings/GoogleNews-vectors-negative300.bin\"\n",
    "google_news_news_300_path = \"/Users/loc/Desktop/Git/23mse43006/7.ML/FinalAssignment/application/models/sentiment_analysic/embeddings/GoogleNews-vectors-negative300.bin\"\n",
    "# word2vec = api.load('word2vec-google-news-300')\n",
    "\n",
    "# Load the model\n",
    "word2vec = gensim.models.KeyedVectors.load_word2vec_format(google_news_news_300_path, binary=True)\n",
    "word2vec.vectors.shape"
   ]
  },
  {
   "cell_type": "code",
   "execution_count": 5,
   "id": "37a5a4323831cf04",
   "metadata": {},
   "outputs": [
    {
     "ename": "NameError",
     "evalue": "name 'word2vec' is not defined",
     "output_type": "error",
     "traceback": [
      "\u001b[0;31m---------------------------------------------------------------------------\u001b[0m",
      "\u001b[0;31mNameError\u001b[0m                                 Traceback (most recent call last)",
      "Cell \u001b[0;32mIn[5], line 3\u001b[0m\n\u001b[1;32m      1\u001b[0m \u001b[38;5;66;03m# Testing purpose\u001b[39;00m\n\u001b[1;32m      2\u001b[0m \u001b[38;5;66;03m# print(word2vec.vocab)\u001b[39;00m\n\u001b[0;32m----> 3\u001b[0m \u001b[43mword2vec\u001b[49m[\u001b[38;5;124m'\u001b[39m\u001b[38;5;124mThe\u001b[39m\u001b[38;5;124m'\u001b[39m]\n\u001b[1;32m      4\u001b[0m word2vec\u001b[38;5;241m.\u001b[39mmost_similar(\u001b[38;5;124m'\u001b[39m\u001b[38;5;124mMan\u001b[39m\u001b[38;5;124m'\u001b[39m)\n\u001b[1;32m      5\u001b[0m word2vec\u001b[38;5;241m.\u001b[39mkey_to_index\n",
      "\u001b[0;31mNameError\u001b[0m: name 'word2vec' is not defined"
     ]
    }
   ],
   "source": [
    "# Testing purpose\n",
    "# print(word2vec.vocab)\n",
    "word2vec['The']\n",
    "word2vec.most_similar('Man')\n",
    "word2vec.key_to_index"
   ]
  },
  {
   "cell_type": "code",
   "execution_count": null,
   "id": "343fc09714162dde",
   "metadata": {},
   "outputs": [],
   "source": [
    "def first_caps(word):\n",
    "  return word[0].upper()+word[1:]"
   ]
  },
  {
   "cell_type": "code",
   "execution_count": null,
   "id": "4789330ede52b324",
   "metadata": {},
   "outputs": [],
   "source": [
    "pretrained_embeddings=[]\n",
    "\n",
    "# for i in range(len(vectorize_layer.get_vocabulary())):\n",
    "#   try:\n",
    "#     pretrained_embeddings.append(word2vec[vectorize_layer.get_vocabulary()[i]])\n",
    "#   except:\n",
    "#     print(vectorize_layer.get_vocabulary()[i])\n",
    "#     try:\n",
    "#       pretrained_embeddings.append(word2vec[first_caps(vectorize_layer.get_vocabulary()[i])])\n",
    "#       print('toupper')\n",
    "#     except:\n",
    "#       print('nosolution')\n",
    "#       pretrained_embeddings.append(random.normal(loc=0, scale=1, size=(EMBEDDING_DIM)))#reloaded_word_vectors[vectorize_layer.get_vocabulary()[i]])\n",
    "#   if i%1000==0:\n",
    "#     print('iis====================================',i)\n",
    "\n",
    "unfound_words = []\n",
    "unfound_words_count = 0\n",
    "found_words_count = 0\n",
    "\n",
    "for word in vectorize_layer.get_vocabulary():\n",
    "    if word in word2vec.key_to_index:\n",
    "        found_words_count += 1\n",
    "        pretrained_embeddings.append(word2vec[word])\n",
    "    else:\n",
    "        # Nếu từ không có trong mô hình Word2Vec, thêm một vector zeros\n",
    "        unfound_words_count+=1\n",
    "        unfound_words.append(word)\n",
    "        pretrained_embeddings.append(np.zeros(300))\n",
    "\n",
    "\n",
    "print(f\"Found words count: {found_words_count}\")\n",
    "\n",
    "print(f\"Unfound words ount: {unfound_words_count}\")\n",
    "\n",
    "print(f\"Pretrained embeddings shape: {np.array(pretrained_embeddings).shape}\")\n",
    "#\n",
    "# for word in unfound_words:\n",
    "#     print(word)"
   ]
  },
  {
   "cell_type": "code",
   "execution_count": null,
   "id": "c8154408442f320d",
   "metadata": {},
   "outputs": [],
   "source": [
    "# Testing purpose\n",
    "# vectorize_layer.get_vocabulary()[2]\n",
    "# first_caps(vectorize_layer.get_vocabulary()[2])"
   ]
  },
  {
   "cell_type": "code",
   "execution_count": null,
   "id": "6ff2a42b151d153f",
   "metadata": {},
   "outputs": [],
   "source": [
    "# pretrained_embeddings_array=np.array(pretrained_embeddings)\n",
    "# print(pretrained_embeddings_array.shape)\n",
    "\n",
    "# Giả sử pretrained_embeddings là danh sách các vector embedding đã được tải\n",
    "# từ mô hình Word2Vec\n",
    "\n",
    "# Kiểm tra kích thước của các vector embedding\n",
    "embedding_dim = len(pretrained_embeddings[0])\n",
    "\n",
    "print(f\"Kích thước của các vector embedding: {embedding_dim}\")\n",
    "\n",
    "# Tạo mảng NumPy từ danh sách pretrained_embeddings\n",
    "pretrained_embeddings_array = np.array(pretrained_embeddings)\n",
    "\n",
    "# In kích thước của mảng NumPy\n",
    "print(pretrained_embeddings_array.shape)"
   ]
  },
  {
   "cell_type": "code",
   "execution_count": null,
   "id": "da5db20b8522cb1d",
   "metadata": {},
   "outputs": [],
   "source": [
    "# np.save('/content/drive/MyDrive/Colab Notebooks/sentiment_analysis/pretrained_embeddings',pretrained_embeddings_array)\n",
    "np.save('/Users/loc/Desktop/Git/23mse43006/7.ML/FinalAssignment/application/models/sentiment_analysic/embedding',pretrained_embeddings_array)"
   ]
  },
  {
   "cell_type": "code",
   "execution_count": 10,
   "id": "afbaad1ebf7c0435",
   "metadata": {},
   "outputs": [
    {
     "ename": "FileNotFoundError",
     "evalue": "[Errno 2] No such file or directory: '/Users/loc/Desktop/Git/23mse43006/7.ML/FinalAssignment/application/models/sentiment_analysic/embedding/pretrained_embeddings.npy'",
     "output_type": "error",
     "traceback": [
      "\u001b[0;31m---------------------------------------------------------------------------\u001b[0m",
      "\u001b[0;31mFileNotFoundError\u001b[0m                         Traceback (most recent call last)",
      "Cell \u001b[0;32mIn[10], line 2\u001b[0m\n\u001b[1;32m      1\u001b[0m \u001b[38;5;66;03m# pretrained_embeddings_array=np.load('/content/drive/MyDrive/Colab Notebooks/sentiment_analysis/pretrained_embeddings.npy')\u001b[39;00m\n\u001b[0;32m----> 2\u001b[0m pretrained_embeddings_array\u001b[38;5;241m=\u001b[39m\u001b[43mnp\u001b[49m\u001b[38;5;241;43m.\u001b[39;49m\u001b[43mload\u001b[49m\u001b[43m(\u001b[49m\u001b[38;5;124;43m'\u001b[39;49m\u001b[38;5;124;43m/Users/loc/Desktop/Git/23mse43006/7.ML/FinalAssignment/application/models/sentiment_analysic/embedding/pretrained_embeddings.npy\u001b[39;49m\u001b[38;5;124;43m'\u001b[39;49m\u001b[43m)\u001b[49m\n\u001b[1;32m      3\u001b[0m pretrained_embeddings_array\u001b[38;5;241m.\u001b[39mshape\n",
      "File \u001b[0;32m~/Documents/anaconda3/envs/tf1/lib/python3.9/site-packages/numpy/lib/npyio.py:405\u001b[0m, in \u001b[0;36mload\u001b[0;34m(file, mmap_mode, allow_pickle, fix_imports, encoding, max_header_size)\u001b[0m\n\u001b[1;32m    403\u001b[0m     own_fid \u001b[38;5;241m=\u001b[39m \u001b[38;5;28;01mFalse\u001b[39;00m\n\u001b[1;32m    404\u001b[0m \u001b[38;5;28;01melse\u001b[39;00m:\n\u001b[0;32m--> 405\u001b[0m     fid \u001b[38;5;241m=\u001b[39m stack\u001b[38;5;241m.\u001b[39menter_context(\u001b[38;5;28;43mopen\u001b[39;49m\u001b[43m(\u001b[49m\u001b[43mos_fspath\u001b[49m\u001b[43m(\u001b[49m\u001b[43mfile\u001b[49m\u001b[43m)\u001b[49m\u001b[43m,\u001b[49m\u001b[43m \u001b[49m\u001b[38;5;124;43m\"\u001b[39;49m\u001b[38;5;124;43mrb\u001b[39;49m\u001b[38;5;124;43m\"\u001b[39;49m\u001b[43m)\u001b[49m)\n\u001b[1;32m    406\u001b[0m     own_fid \u001b[38;5;241m=\u001b[39m \u001b[38;5;28;01mTrue\u001b[39;00m\n\u001b[1;32m    408\u001b[0m \u001b[38;5;66;03m# Code to distinguish from NumPy binary files and pickles.\u001b[39;00m\n",
      "\u001b[0;31mFileNotFoundError\u001b[0m: [Errno 2] No such file or directory: '/Users/loc/Desktop/Git/23mse43006/7.ML/FinalAssignment/application/models/sentiment_analysic/embedding/pretrained_embeddings.npy'"
     ]
    }
   ],
   "source": [
    "# pretrained_embeddings_array=np.load('/content/drive/MyDrive/Colab Notebooks/sentiment_analysis/pretrained_embeddings.npy')\n",
    "pretrained_embeddings_array=np.load('/Users/loc/Desktop/Git/23mse43006/7.ML/FinalAssignment/application/models/sentiment_analysic/embedding/pretrained_embeddings.npy')\n",
    "pretrained_embeddings_array.shape"
   ]
  },
  {
   "cell_type": "code",
   "execution_count": 11,
   "id": "281d79ef63136583",
   "metadata": {},
   "outputs": [
    {
     "ename": "NameError",
     "evalue": "name 'pretrained_embeddings_array' is not defined",
     "output_type": "error",
     "traceback": [
      "\u001b[0;31m---------------------------------------------------------------------------\u001b[0m",
      "\u001b[0;31mNameError\u001b[0m                                 Traceback (most recent call last)",
      "Cell \u001b[0;32mIn[11], line 9\u001b[0m\n\u001b[1;32m      7\u001b[0m SEQUENCE_LENGTH\u001b[38;5;241m=\u001b[39m\u001b[38;5;241m250\u001b[39m\n\u001b[1;32m      8\u001b[0m \u001b[38;5;66;03m# 4. Embedding dimension\u001b[39;00m\n\u001b[0;32m----> 9\u001b[0m EMBEDDING_DIM\u001b[38;5;241m=\u001b[39m\u001b[43mpretrained_embeddings_array\u001b[49m\u001b[38;5;241m.\u001b[39mshape[\u001b[38;5;241m1\u001b[39m]\n\u001b[1;32m     11\u001b[0m model\u001b[38;5;241m=\u001b[39mtf\u001b[38;5;241m.\u001b[39mkeras\u001b[38;5;241m.\u001b[39mmodels\u001b[38;5;241m.\u001b[39mSequential([\n\u001b[1;32m     12\u001b[0m \n\u001b[1;32m     13\u001b[0m     Input(shape\u001b[38;5;241m=\u001b[39m(SEQUENCE_LENGTH,)),\n\u001b[0;32m   (...)\u001b[0m\n\u001b[1;32m     30\u001b[0m     Dense(\u001b[38;5;241m1\u001b[39m,activation\u001b[38;5;241m=\u001b[39m\u001b[38;5;124m'\u001b[39m\u001b[38;5;124msigmoid\u001b[39m\u001b[38;5;124m'\u001b[39m),\n\u001b[1;32m     31\u001b[0m ])\n\u001b[1;32m     33\u001b[0m model\u001b[38;5;241m.\u001b[39msummary()\n",
      "\u001b[0;31mNameError\u001b[0m: name 'pretrained_embeddings_array' is not defined"
     ]
    }
   ],
   "source": [
    "# Define hyperparameters\n",
    "# 1. Batch size for training and validation (64)\n",
    "BATCH_SIZE=64\n",
    "# 2. Maximum vocabulary size (10,000)\n",
    "VOCAB_SIZE=10000\n",
    "# 3. Maximum sequence length to pad the sentences to (250)\n",
    "SEQUENCE_LENGTH=250\n",
    "# 4. Embedding dimension\n",
    "EMBEDDING_DIM=pretrained_embeddings_array.shape[1]\n",
    "\n",
    "model=tf.keras.models.Sequential([\n",
    "\n",
    "    Input(shape=(SEQUENCE_LENGTH,)),\n",
    "\n",
    "    Embedding(\n",
    "        VOCAB_SIZE,\n",
    "        EMBEDDING_DIM,\n",
    "        embeddings_initializer=tf.keras.initializers.Constant(pretrained_embeddings_array),\n",
    "        trainable=True,\n",
    "    ),\n",
    "\n",
    "    Conv1D(32, 3, activation='relu'),\n",
    "\n",
    "    Flatten(),\n",
    "\n",
    "    Dense(32, activation='relu'),\n",
    "\n",
    "    Dropout(0.5),\n",
    "\n",
    "    Dense(1,activation='sigmoid'),\n",
    "])\n",
    "\n",
    "model.summary()"
   ]
  },
  {
   "cell_type": "code",
   "execution_count": null,
   "id": "ac58fd3511375691",
   "metadata": {},
   "outputs": [],
   "source": [
    "# checkpoint_filepath = '/content/drive/MyDrive/Colab Notebooks/sentiment_analysis/imdb_conv_1d_word2vec_check_point.h5'\n",
    "checkpoint_filepath = '/Users/loc/Desktop/Git/23mse43006/7.ML/FinalAssignment/application/models/sentiment_analysic/check_points/imdb_conv_1d_word2vec_check_point.h5'\n",
    "\n",
    "model_checkpoint_callback = tf.keras.callbacks.ModelCheckpoint(\n",
    "    filepath=checkpoint_filepath,\n",
    "    monitor='val_accuracy',\n",
    "    mode='max',\n",
    "    save_best_only=True)"
   ]
  },
  {
   "cell_type": "code",
   "execution_count": null,
   "id": "d130044b0651a16d",
   "metadata": {},
   "outputs": [],
   "source": [
    "model.compile(loss=tf.keras.losses.BinaryCrossentropy(),\n",
    "              optimizer=tf.keras.optimizers.Adam(1e-4),\n",
    "              metrics=['accuracy'])"
   ]
  },
  {
   "cell_type": "code",
   "execution_count": null,
   "id": "256d59bfde4f5457",
   "metadata": {},
   "outputs": [],
   "source": [
    "history=model.fit(\n",
    "    train_dataset,\n",
    "    validation_data=val_dataset,\n",
    "    epochs=10,\n",
    "    callbacks=[model_checkpoint_callback])\n",
    "\n",
    "# model.save(\"/content/drive/MyDrive/Colab Notebooks/sentiment_analysis/imdb_conv_1d_word2vec.h5\")\n",
    "model.save(\"/Users/loc/Desktop/Git/23mse43006/7.ML/FinalAssignment/application/models/sentiment_analysic/output/imdb_conv_1d_word2vec.h5\")"
   ]
  },
  {
   "cell_type": "code",
   "execution_count": null,
   "id": "46159fb513ac8900",
   "metadata": {},
   "outputs": [],
   "source": [
    "plt.plot(history.history['loss'])\n",
    "plt.plot(history.history['val_loss'])\n",
    "plt.title('model_loss')\n",
    "plt.ylabel('loss')\n",
    "plt.xlabel('epoch')\n",
    "plt.legend(['train', 'val'], loc='upper left')\n",
    "plt.show()"
   ]
  },
  {
   "cell_type": "code",
   "execution_count": null,
   "id": "44076a190125322f",
   "metadata": {},
   "outputs": [],
   "source": [
    "plt.plot(history.history['accuracy'])\n",
    "plt.plot(history.history['val_accuracy'])\n",
    "\n",
    "plt.title('model_accuracy')\n",
    "plt.ylabel('accuracy')\n",
    "plt.xlabel('epoch')\n",
    "plt.legend(['train', 'val'], loc='upper left')\n",
    "plt.show()"
   ]
  }
 ],
 "metadata": {
  "kernelspec": {
   "display_name": "Python 3 (ipykernel)",
   "language": "python",
   "name": "python3"
  },
  "language_info": {
   "codemirror_mode": {
    "name": "ipython",
    "version": 3
   },
   "file_extension": ".py",
   "mimetype": "text/x-python",
   "name": "python",
   "nbconvert_exporter": "python",
   "pygments_lexer": "ipython3",
   "version": "3.12.4"
  }
 },
 "nbformat": 4,
 "nbformat_minor": 5
}
