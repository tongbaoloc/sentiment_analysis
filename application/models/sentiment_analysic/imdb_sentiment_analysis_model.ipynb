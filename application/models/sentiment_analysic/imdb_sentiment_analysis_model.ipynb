{
 "cells": [
  {
   "cell_type": "markdown",
   "id": "4cb0db883a0d5fa9",
   "metadata": {
    "id": "4cb0db883a0d5fa9"
   },
   "source": [
    "### Tasks:\n",
    "1. **Environment setup**\n",
    "2. **Data preparation**\n",
    "4. **Model Building**\n",
    "6. **Model Evaluation**\n"
   ]
  },
  {
   "cell_type": "markdown",
   "id": "24c1df5406f89f11",
   "metadata": {
    "id": "24c1df5406f89f11"
   },
   "source": [
    "## Environment setup"
   ]
  },
  {
   "cell_type": "code",
   "execution_count": 47,
   "id": "49f2941cd5f7c71c",
   "metadata": {
    "executionInfo": {
     "elapsed": 5064,
     "status": "ok",
     "timestamp": 1720949387403,
     "user": {
      "displayName": "Bảo Lộc Tống",
      "userId": "03441218058218262196"
     },
     "user_tz": -420
    },
    "id": "49f2941cd5f7c71c"
   },
   "outputs": [],
   "source": [
    "# Importing Libraries\n",
    "import tensorflow as tf\n",
    "import pandas as pd\n",
    "import seaborn as sns\n",
    "import numpy as np\n",
    "import re\n",
    "import string\n",
    "import time\n",
    "import nltk\n",
    "from nltk.corpus import stopwords\n",
    "from tensorflow.keras.layers import Layer\n",
    "from sklearn.model_selection import train_test_split\n",
    "from tensorflow.keras.layers import (Dense,Flatten,SimpleRNN,Conv1D, Bidirectional, LSTM,Dropout,Input,Embedding,TextVectorization)\n",
    "from keras.preprocessing.text import one_hot, Tokenizer\n",
    "import matplotlib.pyplot as plt\n",
    "from tensorflow.keras.callbacks import EarlyStopping"
   ]
  },
  {
   "cell_type": "markdown",
   "id": "d7f1e83d",
   "metadata": {
    "id": "d7f1e83d"
   },
   "source": [
    "### Local setup"
   ]
  },
  {
   "cell_type": "code",
   "execution_count": 48,
   "id": "5fd05da1-ac90-4881-8b38-d1e294bfc10f",
   "metadata": {
    "colab": {
     "base_uri": "https://localhost:8080/",
     "height": 375
    },
    "executionInfo": {
     "elapsed": 7,
     "status": "error",
     "timestamp": 1720775897176,
     "user": {
      "displayName": "Bảo Lộc Tống",
      "userId": "03441218058218262196"
     },
     "user_tz": -420
    },
    "id": "5fd05da1-ac90-4881-8b38-d1e294bfc10f",
    "outputId": "28f50777-1bd3-45d7-d5a9-b316d39c1618"
   },
   "outputs": [],
   "source": [
    "from keras_preprocessing.sequence import pad_sequences\n",
    "\n",
    "# Local Path\n",
    "# root_path = \"/Users/loc/Desktop/Git/23mse43006/7.ML/FinalAssignment/application/models/sentiment_analysic/\"\n",
    "\n",
    "# CUONG: Local Path\n",
    "root_path = \"C:/Users/ADMIN/Desktop/sentiment_detect/application/models/sentiment_analysic/\""
   ]
  },
  {
   "cell_type": "markdown",
   "id": "8f1a4752",
   "metadata": {
    "id": "8f1a4752"
   },
   "source": [
    "### Google Colab"
   ]
  },
  {
   "cell_type": "code",
   "execution_count": 2,
   "id": "484e4a89",
   "metadata": {
    "colab": {
     "base_uri": "https://localhost:8080/"
    },
    "executionInfo": {
     "elapsed": 26923,
     "status": "ok",
     "timestamp": 1720949419106,
     "user": {
      "displayName": "Bảo Lộc Tống",
      "userId": "03441218058218262196"
     },
     "user_tz": -420
    },
    "id": "484e4a89",
    "outputId": "a69060cb-4746-4b63-c196-f7e1b74da89b"
   },
   "outputs": [
    {
     "name": "stdout",
     "output_type": "stream",
     "text": [
      "Mounted at /content/drive\n"
     ]
    }
   ],
   "source": [
    "# Mount Google Drive\n",
    "from google.colab import drive\n",
    "drive.mount('/content/drive')\n",
    "\n",
    "#  Google Drive Path\n",
    "root_path = \"/content/drive/MyDrive/Colab Notebooks/sentiment_analysis/\""
   ]
  },
  {
   "cell_type": "code",
   "execution_count": 49,
   "id": "97e033ac",
   "metadata": {
    "executionInfo": {
     "elapsed": 826,
     "status": "ok",
     "timestamp": 1720949427305,
     "user": {
      "displayName": "Bảo Lộc Tống",
      "userId": "03441218058218262196"
     },
     "user_tz": -420
    },
    "id": "97e033ac"
   },
   "outputs": [],
   "source": [
    "data_path = root_path + \"data_set/\"\n",
    "checkpoint_filepath = root_path + \"check_points/\"\n",
    "embeddings = root_path + \"embeddings/\"\n",
    "saved_model_path = root_path + \"output/\""
   ]
  },
  {
   "cell_type": "markdown",
   "id": "e8d1811cd883d5f2",
   "metadata": {
    "id": "e8d1811cd883d5f2"
   },
   "source": [
    "## Data preparation\n"
   ]
  },
  {
   "cell_type": "markdown",
   "id": "d92def7f",
   "metadata": {
    "id": "d92def7f"
   },
   "source": [
    "### Load IMDb dataset(50,000 records)\n"
   ]
  },
  {
   "cell_type": "code",
   "execution_count": 50,
   "id": "e1abdfca620ea489",
   "metadata": {
    "executionInfo": {
     "elapsed": 7599,
     "status": "ok",
     "timestamp": 1720949439836,
     "user": {
      "displayName": "Bảo Lộc Tống",
      "userId": "03441218058218262196"
     },
     "user_tz": -420
    },
    "id": "e1abdfca620ea489"
   },
   "outputs": [],
   "source": [
    "movie_reviews = pd.read_csv(data_path + \"imdb_dataset_50k.csv\")"
   ]
  },
  {
   "cell_type": "markdown",
   "id": "a511a2d9",
   "metadata": {
    "id": "a511a2d9"
   },
   "source": [
    "### Explore the dataset"
   ]
  },
  {
   "cell_type": "code",
   "execution_count": 51,
   "id": "cccfdf6ca2bd861c",
   "metadata": {
    "colab": {
     "base_uri": "https://localhost:8080/"
    },
    "executionInfo": {
     "elapsed": 454,
     "status": "ok",
     "timestamp": 1720772386239,
     "user": {
      "displayName": "Bảo Lộc Tống",
      "userId": "03441218058218262196"
     },
     "user_tz": -420
    },
    "id": "cccfdf6ca2bd861c",
    "outputId": "65135790-491b-4b49-b6cc-0a5a53b3f065"
   },
   "outputs": [
    {
     "data": {
      "text/plain": [
       "(50000, 2)"
      ]
     },
     "execution_count": 51,
     "metadata": {},
     "output_type": "execute_result"
    }
   ],
   "source": [
    "# Check the shape of the dataset\n",
    "movie_reviews.shape"
   ]
  },
  {
   "cell_type": "code",
   "execution_count": 52,
   "id": "abd75c95d67de382",
   "metadata": {
    "colab": {
     "base_uri": "https://localhost:8080/"
    },
    "executionInfo": {
     "elapsed": 591,
     "status": "ok",
     "timestamp": 1720952158445,
     "user": {
      "displayName": "Bảo Lộc Tống",
      "userId": "03441218058218262196"
     },
     "user_tz": -420
    },
    "id": "abd75c95d67de382",
    "outputId": "5ce5ce3e-5f45-4e76-d3b4-ccb29ad6b017"
   },
   "outputs": [
    {
     "data": {
      "text/plain": [
       "review       0\n",
       "sentiment    0\n",
       "dtype: int64"
      ]
     },
     "execution_count": 52,
     "metadata": {},
     "output_type": "execute_result"
    }
   ],
   "source": [
    "# Check for missing values\n",
    "movie_reviews.isnull().sum()"
   ]
  },
  {
   "cell_type": "code",
   "execution_count": 53,
   "id": "f8ec9173-6613-42a9-a81e-a9798db0823e",
   "metadata": {},
   "outputs": [],
   "source": [
    "# remove duplicate in review column\n",
    "movie_reviews.drop_duplicates(subset=['review'], inplace=True)"
   ]
  },
  {
   "cell_type": "code",
   "execution_count": 54,
   "id": "31cfe04b-a624-4979-82c9-13a40bfd46ce",
   "metadata": {},
   "outputs": [
    {
     "data": {
      "text/plain": [
       "(49582, 2)"
      ]
     },
     "execution_count": 54,
     "metadata": {},
     "output_type": "execute_result"
    }
   ],
   "source": [
    "# Check the shape of the dataset\n",
    "movie_reviews.shape"
   ]
  },
  {
   "cell_type": "code",
   "execution_count": 55,
   "id": "c4b1c40e9dc65378",
   "metadata": {
    "colab": {
     "base_uri": "https://localhost:8080/",
     "height": 206
    },
    "executionInfo": {
     "elapsed": 1098,
     "status": "ok",
     "timestamp": 1720754525770,
     "user": {
      "displayName": "Bảo Lộc Tống",
      "userId": "03441218058218262196"
     },
     "user_tz": -420
    },
    "id": "c4b1c40e9dc65378",
    "outputId": "73c66c68-3f1f-493c-c245-36d5e0413e16"
   },
   "outputs": [
    {
     "data": {
      "text/html": [
       "<div>\n",
       "<style scoped>\n",
       "    .dataframe tbody tr th:only-of-type {\n",
       "        vertical-align: middle;\n",
       "    }\n",
       "\n",
       "    .dataframe tbody tr th {\n",
       "        vertical-align: top;\n",
       "    }\n",
       "\n",
       "    .dataframe thead th {\n",
       "        text-align: right;\n",
       "    }\n",
       "</style>\n",
       "<table border=\"1\" class=\"dataframe\">\n",
       "  <thead>\n",
       "    <tr style=\"text-align: right;\">\n",
       "      <th></th>\n",
       "      <th>review</th>\n",
       "      <th>sentiment</th>\n",
       "    </tr>\n",
       "  </thead>\n",
       "  <tbody>\n",
       "    <tr>\n",
       "      <th>0</th>\n",
       "      <td>One of the other reviewers has mentioned that ...</td>\n",
       "      <td>positive</td>\n",
       "    </tr>\n",
       "    <tr>\n",
       "      <th>1</th>\n",
       "      <td>A wonderful little production. &lt;br /&gt;&lt;br /&gt;The...</td>\n",
       "      <td>positive</td>\n",
       "    </tr>\n",
       "    <tr>\n",
       "      <th>2</th>\n",
       "      <td>I thought this was a wonderful way to spend ti...</td>\n",
       "      <td>positive</td>\n",
       "    </tr>\n",
       "    <tr>\n",
       "      <th>3</th>\n",
       "      <td>Basically there's a family where a little boy ...</td>\n",
       "      <td>negative</td>\n",
       "    </tr>\n",
       "    <tr>\n",
       "      <th>4</th>\n",
       "      <td>Petter Mattei's \"Love in the Time of Money\" is...</td>\n",
       "      <td>positive</td>\n",
       "    </tr>\n",
       "  </tbody>\n",
       "</table>\n",
       "</div>"
      ],
      "text/plain": [
       "                                              review sentiment\n",
       "0  One of the other reviewers has mentioned that ...  positive\n",
       "1  A wonderful little production. <br /><br />The...  positive\n",
       "2  I thought this was a wonderful way to spend ti...  positive\n",
       "3  Basically there's a family where a little boy ...  negative\n",
       "4  Petter Mattei's \"Love in the Time of Money\" is...  positive"
      ]
     },
     "execution_count": 55,
     "metadata": {},
     "output_type": "execute_result"
    }
   ],
   "source": [
    "# Display the first 5 rows of the dataset\n",
    "movie_reviews.head(5)"
   ]
  },
  {
   "cell_type": "code",
   "execution_count": 56,
   "id": "7fa13929028cbec5",
   "metadata": {
    "colab": {
     "base_uri": "https://localhost:8080/",
     "height": 467
    },
    "executionInfo": {
     "elapsed": 861,
     "status": "ok",
     "timestamp": 1720754532191,
     "user": {
      "displayName": "Bảo Lộc Tống",
      "userId": "03441218058218262196"
     },
     "user_tz": -420
    },
    "id": "7fa13929028cbec5",
    "outputId": "be502884-f16f-4466-ae3f-ccbfbe3da666"
   },
   "outputs": [
    {
     "data": {
      "text/plain": [
       "<Axes: xlabel='sentiment', ylabel='count'>"
      ]
     },
     "execution_count": 56,
     "metadata": {},
     "output_type": "execute_result"
    },
    {
     "data": {
      "image/png": "[encoded data removed]",
      "text/plain": [
       "<Figure size 640x480 with 1 Axes>"
      ]
     },
     "metadata": {},
     "output_type": "display_data"
    }
   ],
   "source": [
    "# Plot the count of each sentiment\n",
    "# sns.countplot(x='sentiment', data=movie_reviews, hue='sentiment', palette='pastel', legend=False)\n",
    "\n",
    "# CUONG: Plot the count of each sentiment\n",
    "sns.countplot(x='sentiment', data=movie_reviews, hue='sentiment', palette='pastel')\n",
    "# plt.legend([],[], frameon=False)"
   ]
  },
  {
   "cell_type": "markdown",
   "id": "zelJ3kCcB3Ty",
   "metadata": {
    "id": "zelJ3kCcB3Ty"
   },
   "source": [
    "### Convert the sentiment column to binary"
   ]
  },
  {
   "cell_type": "code",
   "execution_count": 57,
   "id": "644b032b",
   "metadata": {
    "id": "644b032b"
   },
   "outputs": [],
   "source": [
    "# Convert the sentiment column to binary\n",
    "# movie_reviews['sentiment'] = movie_reviews['sentiment'].apply(lambda x: 1 if x == 'positive' else 0)\n",
    "movie_reviews['sentiment'] = movie_reviews['sentiment'].apply(lambda x: 1 if x == 'positive' else 0).astype(float)"
   ]
  },
  {
   "cell_type": "code",
   "execution_count": 58,
   "id": "TuZ4vVhW9ryz",
   "metadata": {
    "colab": {
     "base_uri": "https://localhost:8080/",
     "height": 467
    },
    "executionInfo": {
     "elapsed": 437,
     "status": "ok",
     "timestamp": 1720823161306,
     "user": {
      "displayName": "Bảo Lộc Tống",
      "userId": "03441218058218262196"
     },
     "user_tz": -420
    },
    "id": "TuZ4vVhW9ryz",
    "outputId": "5cec0fd6-71f3-4a97-99d1-b33833aacf4a"
   },
   "outputs": [
    {
     "ename": "AttributeError",
     "evalue": "'numpy.float64' object has no attribute 'startswith'",
     "output_type": "error",
     "traceback": [
      "\u001b[1;31m---------------------------------------------------------------------------\u001b[0m",
      "\u001b[1;31mAttributeError\u001b[0m                            Traceback (most recent call last)",
      "Cell \u001b[1;32mIn[58], line 6\u001b[0m\n\u001b[0;32m      1\u001b[0m \u001b[38;5;66;03m# Plot the count of each sentiment\u001b[39;00m\n\u001b[0;32m      2\u001b[0m \u001b[38;5;66;03m# sns.countplot(x='sentiment', data=movie_reviews, hue='sentiment', palette='pastel', legend=False)\u001b[39;00m\n\u001b[0;32m      3\u001b[0m \n\u001b[0;32m      4\u001b[0m \u001b[38;5;66;03m# Plot the count of each sentiment\u001b[39;00m\n\u001b[0;32m      5\u001b[0m \u001b[38;5;66;03m# movie_reviews['sentiment'] = movie_reviews['sentiment'].astype(str)\u001b[39;00m\n\u001b[1;32m----> 6\u001b[0m \u001b[43msns\u001b[49m\u001b[38;5;241;43m.\u001b[39;49m\u001b[43mcountplot\u001b[49m\u001b[43m(\u001b[49m\u001b[43mx\u001b[49m\u001b[38;5;241;43m=\u001b[39;49m\u001b[38;5;124;43m'\u001b[39;49m\u001b[38;5;124;43msentiment\u001b[39;49m\u001b[38;5;124;43m'\u001b[39;49m\u001b[43m,\u001b[49m\u001b[43m \u001b[49m\u001b[43mdata\u001b[49m\u001b[38;5;241;43m=\u001b[39;49m\u001b[43mmovie_reviews\u001b[49m\u001b[43m,\u001b[49m\u001b[43m \u001b[49m\u001b[43mhue\u001b[49m\u001b[38;5;241;43m=\u001b[39;49m\u001b[38;5;124;43m'\u001b[39;49m\u001b[38;5;124;43msentiment\u001b[39;49m\u001b[38;5;124;43m'\u001b[39;49m\u001b[43m,\u001b[49m\u001b[43m \u001b[49m\u001b[43mpalette\u001b[49m\u001b[38;5;241;43m=\u001b[39;49m\u001b[38;5;124;43m'\u001b[39;49m\u001b[38;5;124;43mpastel\u001b[39;49m\u001b[38;5;124;43m'\u001b[39;49m\u001b[43m)\u001b[49m\n",
      "File \u001b[1;32m~\\anaconda3\\envs\\tf-new\\lib\\site-packages\\seaborn\\categorical.py:2955\u001b[0m, in \u001b[0;36mcountplot\u001b[1;34m(data, x, y, hue, order, hue_order, orient, color, palette, saturation, width, dodge, ax, **kwargs)\u001b[0m\n\u001b[0;32m   2952\u001b[0m \u001b[38;5;28;01mif\u001b[39;00m ax \u001b[38;5;129;01mis\u001b[39;00m \u001b[38;5;28;01mNone\u001b[39;00m:\n\u001b[0;32m   2953\u001b[0m     ax \u001b[38;5;241m=\u001b[39m plt\u001b[38;5;241m.\u001b[39mgca()\n\u001b[1;32m-> 2955\u001b[0m \u001b[43mplotter\u001b[49m\u001b[38;5;241;43m.\u001b[39;49m\u001b[43mplot\u001b[49m\u001b[43m(\u001b[49m\u001b[43max\u001b[49m\u001b[43m,\u001b[49m\u001b[43m \u001b[49m\u001b[43mkwargs\u001b[49m\u001b[43m)\u001b[49m\n\u001b[0;32m   2956\u001b[0m \u001b[38;5;28;01mreturn\u001b[39;00m ax\n",
      "File \u001b[1;32m~\\anaconda3\\envs\\tf-new\\lib\\site-packages\\seaborn\\categorical.py:1587\u001b[0m, in \u001b[0;36m_BarPlotter.plot\u001b[1;34m(self, ax, bar_kws)\u001b[0m\n\u001b[0;32m   1585\u001b[0m \u001b[38;5;250m\u001b[39m\u001b[38;5;124;03m\"\"\"Make the plot.\"\"\"\u001b[39;00m\n\u001b[0;32m   1586\u001b[0m \u001b[38;5;28mself\u001b[39m\u001b[38;5;241m.\u001b[39mdraw_bars(ax, bar_kws)\n\u001b[1;32m-> 1587\u001b[0m \u001b[38;5;28;43mself\u001b[39;49m\u001b[38;5;241;43m.\u001b[39;49m\u001b[43mannotate_axes\u001b[49m\u001b[43m(\u001b[49m\u001b[43max\u001b[49m\u001b[43m)\u001b[49m\n\u001b[0;32m   1588\u001b[0m \u001b[38;5;28;01mif\u001b[39;00m \u001b[38;5;28mself\u001b[39m\u001b[38;5;241m.\u001b[39morient \u001b[38;5;241m==\u001b[39m \u001b[38;5;124m\"\u001b[39m\u001b[38;5;124mh\u001b[39m\u001b[38;5;124m\"\u001b[39m:\n\u001b[0;32m   1589\u001b[0m     ax\u001b[38;5;241m.\u001b[39minvert_yaxis()\n",
      "File \u001b[1;32m~\\anaconda3\\envs\\tf-new\\lib\\site-packages\\seaborn\\categorical.py:767\u001b[0m, in \u001b[0;36m_CategoricalPlotter.annotate_axes\u001b[1;34m(self, ax)\u001b[0m\n\u001b[0;32m    764\u001b[0m     ax\u001b[38;5;241m.\u001b[39mset_ylim(\u001b[38;5;241m-\u001b[39m\u001b[38;5;241m.5\u001b[39m, \u001b[38;5;28mlen\u001b[39m(\u001b[38;5;28mself\u001b[39m\u001b[38;5;241m.\u001b[39mplot_data) \u001b[38;5;241m-\u001b[39m \u001b[38;5;241m.5\u001b[39m, auto\u001b[38;5;241m=\u001b[39m\u001b[38;5;28;01mNone\u001b[39;00m)\n\u001b[0;32m    766\u001b[0m \u001b[38;5;28;01mif\u001b[39;00m \u001b[38;5;28mself\u001b[39m\u001b[38;5;241m.\u001b[39mhue_names \u001b[38;5;129;01mis\u001b[39;00m \u001b[38;5;129;01mnot\u001b[39;00m \u001b[38;5;28;01mNone\u001b[39;00m:\n\u001b[1;32m--> 767\u001b[0m     \u001b[43max\u001b[49m\u001b[38;5;241;43m.\u001b[39;49m\u001b[43mlegend\u001b[49m\u001b[43m(\u001b[49m\u001b[43mloc\u001b[49m\u001b[38;5;241;43m=\u001b[39;49m\u001b[38;5;124;43m\"\u001b[39;49m\u001b[38;5;124;43mbest\u001b[39;49m\u001b[38;5;124;43m\"\u001b[39;49m\u001b[43m,\u001b[49m\u001b[43m \u001b[49m\u001b[43mtitle\u001b[49m\u001b[38;5;241;43m=\u001b[39;49m\u001b[38;5;28;43mself\u001b[39;49m\u001b[38;5;241;43m.\u001b[39;49m\u001b[43mhue_title\u001b[49m\u001b[43m)\u001b[49m\n",
      "File \u001b[1;32m~\\anaconda3\\envs\\tf-new\\lib\\site-packages\\matplotlib\\axes\\_axes.py:322\u001b[0m, in \u001b[0;36mAxes.legend\u001b[1;34m(self, *args, **kwargs)\u001b[0m\n\u001b[0;32m    204\u001b[0m \u001b[38;5;129m@_docstring\u001b[39m\u001b[38;5;241m.\u001b[39mdedent_interpd\n\u001b[0;32m    205\u001b[0m \u001b[38;5;28;01mdef\u001b[39;00m \u001b[38;5;21mlegend\u001b[39m(\u001b[38;5;28mself\u001b[39m, \u001b[38;5;241m*\u001b[39margs, \u001b[38;5;241m*\u001b[39m\u001b[38;5;241m*\u001b[39mkwargs):\n\u001b[0;32m    206\u001b[0m \u001b[38;5;250m    \u001b[39m\u001b[38;5;124;03m\"\"\"\u001b[39;00m\n\u001b[0;32m    207\u001b[0m \u001b[38;5;124;03m    Place a legend on the Axes.\u001b[39;00m\n\u001b[0;32m    208\u001b[0m \n\u001b[1;32m   (...)\u001b[0m\n\u001b[0;32m    320\u001b[0m \u001b[38;5;124;03m    .. plot:: gallery/text_labels_and_annotations/legend.py\u001b[39;00m\n\u001b[0;32m    321\u001b[0m \u001b[38;5;124;03m    \"\"\"\u001b[39;00m\n\u001b[1;32m--> 322\u001b[0m     handles, labels, kwargs \u001b[38;5;241m=\u001b[39m mlegend\u001b[38;5;241m.\u001b[39m_parse_legend_args([\u001b[38;5;28mself\u001b[39m], \u001b[38;5;241m*\u001b[39margs, \u001b[38;5;241m*\u001b[39m\u001b[38;5;241m*\u001b[39mkwargs)\n\u001b[0;32m    323\u001b[0m     \u001b[38;5;28mself\u001b[39m\u001b[38;5;241m.\u001b[39mlegend_ \u001b[38;5;241m=\u001b[39m mlegend\u001b[38;5;241m.\u001b[39mLegend(\u001b[38;5;28mself\u001b[39m, handles, labels, \u001b[38;5;241m*\u001b[39m\u001b[38;5;241m*\u001b[39mkwargs)\n\u001b[0;32m    324\u001b[0m     \u001b[38;5;28mself\u001b[39m\u001b[38;5;241m.\u001b[39mlegend_\u001b[38;5;241m.\u001b[39m_remove_method \u001b[38;5;241m=\u001b[39m \u001b[38;5;28mself\u001b[39m\u001b[38;5;241m.\u001b[39m_remove_legend\n",
      "File \u001b[1;32m~\\anaconda3\\envs\\tf-new\\lib\\site-packages\\matplotlib\\legend.py:1361\u001b[0m, in \u001b[0;36m_parse_legend_args\u001b[1;34m(axs, handles, labels, *args, **kwargs)\u001b[0m\n\u001b[0;32m   1357\u001b[0m     handles \u001b[38;5;241m=\u001b[39m [handle \u001b[38;5;28;01mfor\u001b[39;00m handle, label\n\u001b[0;32m   1358\u001b[0m                \u001b[38;5;129;01min\u001b[39;00m \u001b[38;5;28mzip\u001b[39m(_get_legend_handles(axs, handlers), labels)]\n\u001b[0;32m   1360\u001b[0m \u001b[38;5;28;01melif\u001b[39;00m \u001b[38;5;28mlen\u001b[39m(args) \u001b[38;5;241m==\u001b[39m \u001b[38;5;241m0\u001b[39m:  \u001b[38;5;66;03m# 0 args: automatically detect labels and handles.\u001b[39;00m\n\u001b[1;32m-> 1361\u001b[0m     handles, labels \u001b[38;5;241m=\u001b[39m \u001b[43m_get_legend_handles_labels\u001b[49m\u001b[43m(\u001b[49m\u001b[43maxs\u001b[49m\u001b[43m,\u001b[49m\u001b[43m \u001b[49m\u001b[43mhandlers\u001b[49m\u001b[43m)\u001b[49m\n\u001b[0;32m   1362\u001b[0m     \u001b[38;5;28;01mif\u001b[39;00m \u001b[38;5;129;01mnot\u001b[39;00m handles:\n\u001b[0;32m   1363\u001b[0m         log\u001b[38;5;241m.\u001b[39mwarning(\n\u001b[0;32m   1364\u001b[0m             \u001b[38;5;124m\"\u001b[39m\u001b[38;5;124mNo artists with labels found to put in legend.  Note that \u001b[39m\u001b[38;5;124m\"\u001b[39m\n\u001b[0;32m   1365\u001b[0m             \u001b[38;5;124m\"\u001b[39m\u001b[38;5;124martists whose label start with an underscore are ignored \u001b[39m\u001b[38;5;124m\"\u001b[39m\n\u001b[0;32m   1366\u001b[0m             \u001b[38;5;124m\"\u001b[39m\u001b[38;5;124mwhen legend() is called with no argument.\u001b[39m\u001b[38;5;124m\"\u001b[39m)\n",
      "File \u001b[1;32m~\\anaconda3\\envs\\tf-new\\lib\\site-packages\\matplotlib\\legend.py:1291\u001b[0m, in \u001b[0;36m_get_legend_handles_labels\u001b[1;34m(axs, legend_handler_map)\u001b[0m\n\u001b[0;32m   1289\u001b[0m \u001b[38;5;28;01mfor\u001b[39;00m handle \u001b[38;5;129;01min\u001b[39;00m _get_legend_handles(axs, legend_handler_map):\n\u001b[0;32m   1290\u001b[0m     label \u001b[38;5;241m=\u001b[39m handle\u001b[38;5;241m.\u001b[39mget_label()\n\u001b[1;32m-> 1291\u001b[0m     \u001b[38;5;28;01mif\u001b[39;00m label \u001b[38;5;129;01mand\u001b[39;00m \u001b[38;5;129;01mnot\u001b[39;00m \u001b[43mlabel\u001b[49m\u001b[38;5;241;43m.\u001b[39;49m\u001b[43mstartswith\u001b[49m(\u001b[38;5;124m'\u001b[39m\u001b[38;5;124m_\u001b[39m\u001b[38;5;124m'\u001b[39m):\n\u001b[0;32m   1292\u001b[0m         handles\u001b[38;5;241m.\u001b[39mappend(handle)\n\u001b[0;32m   1293\u001b[0m         labels\u001b[38;5;241m.\u001b[39mappend(label)\n",
      "\u001b[1;31mAttributeError\u001b[0m: 'numpy.float64' object has no attribute 'startswith'"
     ]
    },
    {
     "data": {
      "image/png": "[encoded data removed]",
      "text/plain": [
       "<Figure size 640x480 with 1 Axes>"
      ]
     },
     "metadata": {},
     "output_type": "display_data"
    }
   ],
   "source": [
    "# Plot the count of each sentiment\n",
    "# sns.countplot(x='sentiment', data=movie_reviews, hue='sentiment', palette='pastel', legend=False)\n",
    "\n",
    "# Plot the count of each sentiment\n",
    "# movie_reviews['sentiment'] = movie_reviews['sentiment'].astype(str)\n",
    "sns.countplot(x='sentiment', data=movie_reviews, hue='sentiment', palette='pastel')\n",
    "# plt.legend([],[], frameon=False)"
   ]
  },
  {
   "cell_type": "markdown",
   "id": "6bd6c0560a3862fa",
   "metadata": {
    "id": "6bd6c0560a3862fa"
   },
   "source": [
    "### Split the dataset into training, validation, and test sets"
   ]
  },
  {
   "cell_type": "code",
   "execution_count": 59,
   "id": "0c90f359",
   "metadata": {
    "id": "0c90f359"
   },
   "outputs": [],
   "source": [
    "# 1. Split according to the common ratio:\n",
    "\n",
    "# \t•\tTraining set: 70% (35,000 records)\n",
    "# \t•\tValidation set: 15% (7,500 records)\n",
    "# \t•\tTest set: 15% (7,500 records)\n",
    "\n",
    "train_data, temp_data = train_test_split(movie_reviews, test_size=0.3, random_state=42)\n",
    "\n",
    "val_data, test_data = train_test_split(temp_data, test_size=0.5, random_state=42)\n",
    "\n",
    "# Separate the features (reviews) and labels (sentiments) for each set\n",
    "X_train, y_train = train_data['review'], train_data['sentiment']\n",
    "X_val, y_val = val_data['review'], val_data['sentiment']\n",
    "X_test, y_test = test_data['review'], test_data['sentiment']"
   ]
  },
  {
   "cell_type": "markdown",
   "id": "3c9835598021a497",
   "metadata": {
    "id": "3c9835598021a497"
   },
   "source": [
    "## Preparing embedding layer"
   ]
  },
  {
   "cell_type": "markdown",
   "id": "4c424772-b0ab-4329-89eb-643af3647d37",
   "metadata": {
    "id": "4c424772-b0ab-4329-89eb-643af3647d37"
   },
   "source": [
    "### Manual"
   ]
  },
  {
   "cell_type": "code",
   "execution_count": 60,
   "id": "cc1b6f52-01a8-4a3d-b253-585acbd224fc",
   "metadata": {
    "id": "cc1b6f52-01a8-4a3d-b253-585acbd224fc"
   },
   "outputs": [],
   "source": [
    "# word_tokenizer = Tokenizer()\n",
    "# word_tokenizer.fit_on_texts(X_train) # create a dictionary\n",
    "\n",
    "# X_train = word_tokenizer.texts_to_sequences(X_train) # match the words in the dictionary to the words in the sentences\n",
    "# X_test = word_tokenizer.texts_to_sequences(X_test)\n",
    "# len(word_tokenizer.word_index)\n",
    "# Adding 1 to store dimensions for words for which no pretrained word embeddings exist\n",
    "\n",
    "# vocab_length = len(word_tokenizer.word_index) + 1\n",
    "\n",
    "# vocab_length\n",
    "# len(X_train)\n",
    "# for i in range(10):\n",
    "#     print(len(X_train[i]))\n",
    "# Padding all reviews to fixed length 100\n",
    "\n",
    "# maxlen = 100\n",
    "\n",
    "# X_train = pad_sequences(X_train, padding='post', maxlen=maxlen)\n",
    "# X_test = pad_sequences(X_test, padding='post', maxlen=maxlen)\n",
    "# len(X_train)\n",
    "# for i in range(10):\n",
    "#     print(X_train)"
   ]
  },
  {
   "cell_type": "markdown",
   "id": "b2fe7406-c021-467f-8236-a9f8b1f4363b",
   "metadata": {
    "id": "b2fe7406-c021-467f-8236-a9f8b1f4363b"
   },
   "source": [
    "### Keras TextVectorization"
   ]
  },
  {
   "cell_type": "markdown",
   "id": "acb97e27",
   "metadata": {
    "id": "acb97e27"
   },
   "source": [
    "#### Standardize data"
   ]
  },
  {
   "cell_type": "code",
   "execution_count": 61,
   "id": "8b327a75",
   "metadata": {
    "colab": {
     "base_uri": "https://localhost:8080/"
    },
    "executionInfo": {
     "elapsed": 391,
     "status": "ok",
     "timestamp": 1720821414510,
     "user": {
      "displayName": "Bảo Lộc Tống",
      "userId": "03441218058218262196"
     },
     "user_tz": -420
    },
    "id": "8b327a75",
    "outputId": "93d5bfa0-6d8c-4e0a-fb31-625605bb3fc7"
   },
   "outputs": [
    {
     "name": "stderr",
     "output_type": "stream",
     "text": [
      "[nltk_data] Downloading package stopwords to\n",
      "[nltk_data]     C:\\Users\\ADMIN\\AppData\\Roaming\\nltk_data...\n",
      "[nltk_data]   Package stopwords is already up-to-date!\n"
     ]
    },
    {
     "data": {
      "text/plain": [
       "True"
      ]
     },
     "execution_count": 61,
     "metadata": {},
     "output_type": "execute_result"
    }
   ],
   "source": [
    "nltk.download('stopwords')"
   ]
  },
  {
   "cell_type": "code",
   "execution_count": 62,
   "id": "8dbd362b",
   "metadata": {
    "id": "8dbd362b"
   },
   "outputs": [],
   "source": [
    "import unicodedata\n",
    "\n",
    "# Get the list of English stopwords\n",
    "stop_words = set(stopwords.words('english'))\n",
    "\n",
    "# Convert the stopwords to a TensorFlow constant\n",
    "stopwords_tensor = tf.constant(list(stop_words))\n",
    "\n",
    "def remove_stopwords(sentence):\n",
    "    words = tf.strings.split(sentence)\n",
    "    filtered_words = tf.boolean_mask(words, tf.math.logical_not(tf.reduce_any(tf.equal(words[:, None], stopwords_tensor[None, :]), axis=1)))\n",
    "    sentence = tf.strings.reduce_join(filtered_words, separator=' ')\n",
    "    return sentence\n",
    "\n",
    "def standardization(sen):\n",
    "\n",
    "    lowercase = tf.strings.lower(sen)\n",
    "\n",
    "    # Remove punctuations and numbers\n",
    "    sentence = tf.strings.regex_replace(lowercase, '[^a-z]', ' ')\n",
    "\n",
    "    # Take off of html tag\n",
    "    sentence = tf.strings.regex_replace(sentence, '<[^>]+>', ' ')\n",
    "\n",
    "    # Single character removal\n",
    "    sentence = tf.strings.regex_replace(sentence, r'\\b\\w\\b', ' ')\n",
    "\n",
    "    # Remove multiple spaces\n",
    "    sentence = tf.strings.regex_replace(sentence, ' +', ' ')\n",
    "\n",
    "    # Remove head and tail spaces\n",
    "    sentence = tf.strings.strip(sentence)\n",
    "\n",
    "    # Remove stopwords #FIXME\n",
    "    # sentence = remove_stopwords(sentence)\n",
    "\n",
    "    # Normalize UTF-8 and remove accented characters using standard Python libraries #FIXME\n",
    "    # def normalize_and_remove_accents(text):\n",
    "    #     text = unicodedata.normalize('NFKD', text.numpy().decode('utf-8'))\n",
    "    #     return ''.join(c for c in text if unicodedata.category(c) != 'Mn')\n",
    "\n",
    "    # sentence = tf.py_function(normalize_and_remove_accents, [sentence], tf.string)\n",
    "\n",
    "    return sentence"
   ]
  },
  {
   "cell_type": "code",
   "execution_count": 63,
   "id": "a1013814",
   "metadata": {
    "id": "a1013814"
   },
   "outputs": [
    {
     "data": {
      "text/plain": [
       "<tf.Tensor: shape=(), dtype=string, numpy=b'thought this was wonderful way to spend time on too hot summer weekend sitting in the air conditioned theater and watching light hearted comedy the plot is simplistic but the dialogue is witty and the characters are likable even the well bread suspected serial killer while some may be disappointed when they realize this is not match point risk addiction thought it was proof that woody allen is still fully in control of the style many of us have grown to love br br this was the most laughed at one of woody comedies in years dare say decade while ve never been impressed with scarlet johanson in this she managed to tone down her sexy image and jumped right into average but spirited young woman br br this may not be the crown jewel of his career but it was wittier than devil wears prada and more interesting than superman great comedy to go see with friends'>"
      ]
     },
     "execution_count": 63,
     "metadata": {},
     "output_type": "execute_result"
    }
   ],
   "source": [
    "# movie_reviews['review'][2]\n",
    "# Example usage\n",
    "sentence = tf.constant(\"lộc This is a sample sentence, showing off the stop words filtration.\")\n",
    "standardization(sentence)\n",
    "standardization(movie_reviews['review'][2])"
   ]
  },
  {
   "cell_type": "markdown",
   "id": "dddd86a3",
   "metadata": {
    "id": "dddd86a3"
   },
   "source": [
    "#### **TextVectorization: tokenization, vectorization, and building vocabulary**"
   ]
  },
  {
   "cell_type": "code",
   "execution_count": 64,
   "id": "eaae1f02-21cc-4333-be9d-fdfdb942cdbc",
   "metadata": {
    "id": "eaae1f02-21cc-4333-be9d-fdfdb942cdbc"
   },
   "outputs": [],
   "source": [
    "# Define hyperparameters\n",
    "# 1. Batch size for training and validation (64)\n",
    "BATCH_SIZE=64\n",
    "# 2. Maximum vocabulary size (10,000)\n",
    "VOCAB_SIZE=10000\n",
    "# 3. Maximum sequence length to pad the sentences to (250)\n",
    "SEQUENCE_LENGTH=250\n",
    "\n",
    "# Create a TextVectorization layer to vectorize and standardize text data for the model\n",
    "# Include tokenization, standardization, and vectorization in one layer\n",
    "vectorize_layer = TextVectorization(\n",
    "    standardize=standardization,\n",
    "    max_tokens=VOCAB_SIZE,\n",
    "    output_mode='int',\n",
    "    output_sequence_length=SEQUENCE_LENGTH\n",
    ")"
   ]
  },
  {
   "cell_type": "code",
   "execution_count": 65,
   "id": "1d214b16-f47e-4493-b623-f56ac68446a4",
   "metadata": {
    "colab": {
     "base_uri": "https://localhost:8080/"
    },
    "executionInfo": {
     "elapsed": 61933,
     "status": "ok",
     "timestamp": 1720823238361,
     "user": {
      "displayName": "Bảo Lộc Tống",
      "userId": "03441218058218262196"
     },
     "user_tz": -420
    },
    "id": "1d214b16-f47e-4493-b623-f56ac68446a4",
    "outputId": "73f2b7b5-1590-499c-b307-7d9fc9ebcd0f"
   },
   "outputs": [
    {
     "name": "stdout",
     "output_type": "stream",
     "text": [
      "Building the dictionary...\n",
      "Time taken to build the dictionary:  14.232533931732178\n"
     ]
    }
   ],
   "source": [
    "train_data = tf.data.Dataset.from_tensor_slices((X_train, y_train))\n",
    "val_data = tf.data.Dataset.from_tensor_slices((X_val, y_val))\n",
    "\n",
    "print(\"Building the dictionary...\")\n",
    "\n",
    "start_time = time.time()\n",
    "\n",
    "# Only extract the train from the dataset\n",
    "vectorize_layer.adapt(train_data.map(lambda train, label: train))\n",
    "\n",
    "end_time = time.time()\n",
    "\n",
    "print(\"Time taken to build the dictionary: \", end_time - start_time)\n"
   ]
  },
  {
   "cell_type": "code",
   "execution_count": 66,
   "id": "017d4833-5bde-4e00-8c9b-114a88ed42b1",
   "metadata": {
    "id": "017d4833-5bde-4e00-8c9b-114a88ed42b1",
    "outputId": "42e3fd30-edbf-4069-9204-39dcc9cf3036"
   },
   "outputs": [
    {
     "name": "stdout",
     "output_type": "stream",
     "text": [
      "I watched the DVD (called BLACK WIDOW in the U.S.A.) and felt afterward that it was, indeed, a truly awful movie. But they must have cut quite a bit out of the original film, or I missed a lot. The sex scenes had very little vulgarity and no nudity (not even a breast), but I've read several other comments on IMDb.com mentioning the vulgarity and something about a tampon. I did not see anything like that, just a bad, boring film with unlikable characters and a trite, sophomoric plot. Giada Colagrande is either paralyzed from the mouth up or Botoxed to the gills, and nary an expression touches her face. And her name makes me think of super-sizing a beverage at Taco Bell: \"I'll have the Cola Grande!\" It was actually kind of fun it was so bad, I got to play like I was in my own Mystery Science Theater 3000, noting things like the fact that Dafoe's skin is too big for his face. It's really like silly putty!\n",
      "Dreadful! A friend of mine (who obviously thought I had an abysmal sense of humour) recommended this.<br /><br />It's bobbins. I almost switched it off. It is only my anal desire to not leave things unfinished that prevented me doing so.<br /><br />This was evidently a British attempt to make a movie with a bunch of also ran TV actors using some lame script from their mate in the business. I struggle to think of anything even approaching the paucity of this movie. Less funny than global warming.<br /><br />I'm not normally so vehement, but I watched this well over ten years ago and thought that I wasted an hour or so of my life on it is destructive.<br /><br />Puerile, plot less, useless tosh.<br /><br />I'd rather eat my feet than watch it again.\n",
      "It's the one film I almost walked out of, and would have if my friends hadn't been in the movie theatre with me. Normally, even if I don't like a film, I think it's still worth sitting through it to the end. That way, you can really claim to have given it every chance to redeem itself. But with The Million Dollar Hotel, it was so dreadful I just badly wanted the experience to end as quickly as possible. I think I probably would not have been so sourly disappointed if this film had been made by a lesser director, one I didn't normally like so much. But coming from Wenders, it was all the more shocking to behold. I know Bono from U2, a good friend of Wenders's, wrote the script to this abysmal film, and I wonder why Wenders let him, as buddy-buddy as the two may have been. \"Stick to the day job, Bono\", is a sentence that easily springs to mind whilst viewing this mess. Pretentious, disjointed, a mish-mash of every possible contemporary film stereotype, a naive and transparent attempt at coming across as kooky and daring, with the most irritating characters I have ever set eyes upon, especially the leads, Jeremy Davies, Milla Jovovich and Mel Gibson, none of whom I dislike normally. The happiest ending I could have wished for would have been for a nuclear bomb to be dropped on their collective heads so as to get it all over with as soon as possible. On a positive note, the first five minutes of the film are extremely good, with an extremely stirring soundtrack from U2. But the film's opening shots make the rest of the film (which takes a spectacular nose-dive from then on) all the more disappointing as they are a promise of cinematic quality that's just never delivered, not even close.\n",
      "I keep waiting for Peter Fonda to start acting. For someone who comes from such a talented family, it's a mystery to me why Peter Fonda can only play Peter Fonda trying to play someone else. And, that's the good news in this disappointing dog of an adaptation of The Tempest. A string of loosely connected ideas that only suggest a relationship with the Bard's great play is what we're served. The setting is the Civil War and Prospero's (here Guideon's) evil brother looks like an 1890's melodrama villain, complete with Snidely Whiplash moustache. I kept waiting for him to go \"Uh ha hah!\" which would have been a high point in this dreary presentation. None of the supporting cast was memoriable and Peter Fonda's lack of expression and wooden body movements made the lackadaisical story drag on and on. <br /><br />The Tempest is the Bard's statement about the rage of man's unjust treatment of man. The only believable character was the Gator man, the Caliban counterpart. The transferrence to the swamp had possibilities but the Civil War setting just didn't make it. All in all, a very disappointing production. I saw it on video and would advise, if you want a Willy Shakespeare fix, save your money on this one. Rent something else, like Branagh's Much Ado about Nothing, or Kevin Kline in Midsummer's Night Dream.\n"
     ]
    }
   ],
   "source": [
    "# print 4 first records of X_val\n",
    "for i in range(4):\n",
    "    print(X_val.iloc[i])"
   ]
  },
  {
   "cell_type": "code",
   "execution_count": 67,
   "id": "2c21568ee2cae1ab",
   "metadata": {
    "id": "2c21568ee2cae1ab",
    "outputId": "12554785-52fc-4658-bb25-c7e2ef4eb3bc"
   },
   "outputs": [
    {
     "name": "stdout",
     "output_type": "stream",
     "text": [
      "I watched the DVD (called BLACK WIDOW in the U.S.A.) and felt afterward that it was, indeed, a truly awful movie. But they must have cut quite a bit out of the original film, or I missed a lot. The sex scenes had very little vulgarity and no nudity (not even a breast), but I've read several other comments on IMDb.com mentioning the vulgarity and something about a tampon. I did not see anything like that, just a bad, boring film with unlikable characters and a trite, sophomoric plot. Giada Colagrande is either paralyzed from the mouth up or Botoxed to the gills, and nary an expression touches her face. And her name makes me think of super-sizing a beverage at Taco Bell: \"I'll have the Cola Grande!\" It was actually kind of fun it was so bad, I got to play like I was in my own Mystery Science Theater 3000, noting things like the fact that Dafoe's skin is too big for his face. It's really like silly putty!\n",
      "tf.Tensor(\n",
      "[ 287    2  254  418  314 4043    9    2    3  442 5638   11    8   12\n",
      "  849  356  362   14   17   30  196   25  565  180  220   42    4    2\n",
      "  204   18   38 1018  165    2  373  131   65   51  116    1    3   54\n",
      " 1029   21   57 7015   17  135  331  434   75  742   20  795 2276 4584\n",
      "    2    1    3  136   41    1  117   21   62  225   36   11   39   72\n",
      "  347   18   15 5357  100    3 3240 9586  109    1    1    6  344    1\n",
      "   35    2 1639   53   38    1    5    2    1    3    1   32 2603 2461\n",
      "   40  378    3   40  379  160   67   99    4 1161    1    1   28    1\n",
      " 3487  229   25    2    1    1    8   12  163  235    4  239    8   12\n",
      "   34   72  186    5  283   36   12    9   55  197  777 1016  723 8653\n",
      "  178   36    2  187   11 8818 2265    6   95  185   16   24  378    8\n",
      "   63   36  666    1    0    0    0    0    0    0    0    0    0    0\n",
      "    0    0    0    0    0    0    0    0    0    0    0    0    0    0\n",
      "    0    0    0    0    0    0    0    0    0    0    0    0    0    0\n",
      "    0    0    0    0    0    0    0    0    0    0    0    0    0    0\n",
      "    0    0    0    0    0    0    0    0    0    0    0    0    0    0\n",
      "    0    0    0    0    0    0    0    0    0    0    0    0    0    0\n",
      "    0    0    0    0    0    0    0    0    0    0    0    0], shape=(250,), dtype=int64)\n"
     ]
    }
   ],
   "source": [
    "# Display the words in the vocabulary with their vector representations\n",
    "# for i in range(1):\n",
    "#     print(X_train[i])\n",
    "#     print(vectorize_layer(X_val[i]))\n",
    "\n",
    "# print X_val\n",
    "for i in range(1):\n",
    "    print(X_val.iloc[i])\n",
    "    print(vectorize_layer(X_val.iloc[i]))"
   ]
  },
  {
   "cell_type": "code",
   "execution_count": 68,
   "id": "3e7c2bf2-a837-4640-afd1-1d60b354ad01",
   "metadata": {
    "colab": {
     "base_uri": "https://localhost:8080/",
     "height": 35
    },
    "executionInfo": {
     "elapsed": 474,
     "status": "ok",
     "timestamp": 1720823093196,
     "user": {
      "displayName": "Bảo Lộc Tống",
      "userId": "03441218058218262196"
     },
     "user_tz": -420
    },
    "id": "3e7c2bf2-a837-4640-afd1-1d60b354ad01",
    "outputId": "e1b2654b-3e56-44ec-a72e-6963386c9dc2"
   },
   "outputs": [
    {
     "data": {
      "text/plain": [
       "'he'"
      ]
     },
     "execution_count": 68,
     "metadata": {},
     "output_type": "execute_result"
    }
   ],
   "source": [
    "vectorize_layer.get_vocabulary()[22]"
   ]
  },
  {
   "cell_type": "code",
   "execution_count": 69,
   "id": "e0f92e6b-5da3-4d2f-b627-7a6a42c761f6",
   "metadata": {
    "colab": {
     "base_uri": "https://localhost:8080/"
    },
    "executionInfo": {
     "elapsed": 393,
     "status": "ok",
     "timestamp": 1720823274110,
     "user": {
      "displayName": "Bảo Lộc Tống",
      "userId": "03441218058218262196"
     },
     "user_tz": -420
    },
    "id": "e0f92e6b-5da3-4d2f-b627-7a6a42c761f6",
    "outputId": "75115f02-addd-4d2d-fcd1-d42b10869732"
   },
   "outputs": [
    {
     "name": "stdout",
     "output_type": "stream",
     "text": [
      "Starting vectorization...\n",
      "Time taken to vectorize the dataset:  0.11499714851379395\n"
     ]
    }
   ],
   "source": [
    "print(\"Starting vectorization...\")\n",
    "\n",
    "def vectorizer(review, label):\n",
    "    return vectorize_layer(review),label\n",
    "\n",
    "start_time = time.time()\n",
    "\n",
    "train_dataset = train_data.map(lambda x, y: (vectorize_layer(x), y))\n",
    "val_dataset = val_data.map(lambda x, y: (vectorize_layer(x), y))\n",
    "\n",
    "end_time = time.time()\n",
    "\n",
    "print(\"Time taken to vectorize the dataset: \", end_time - start_time)"
   ]
  },
  {
   "cell_type": "markdown",
   "id": "d9ee48abf76c203f",
   "metadata": {
    "id": "d9ee48abf76c203f"
   },
   "source": [
    "## Models Training:"
   ]
  },
  {
   "cell_type": "markdown",
   "id": "e48ea8c3-a4bc-420b-a8de-6ab8f4541548",
   "metadata": {
    "id": "e48ea8c3-a4bc-420b-a8de-6ab8f4541548"
   },
   "source": [
    "### **Simple RNN:**"
   ]
  },
  {
   "cell_type": "markdown",
   "id": "124ca6ab",
   "metadata": {
    "id": "124ca6ab"
   },
   "source": [
    "#### **Build the model**"
   ]
  },
  {
   "cell_type": "code",
   "execution_count": 70,
   "id": "51d3b5b1d049f39",
   "metadata": {
    "colab": {
     "base_uri": "https://localhost:8080/"
    },
    "executionInfo": {
     "elapsed": 553,
     "status": "ok",
     "timestamp": 1720779684594,
     "user": {
      "displayName": "Bảo Lộc Tống",
      "userId": "03441218058218262196"
     },
     "user_tz": -420
    },
    "id": "51d3b5b1d049f39",
    "outputId": "18d4e830-1604-4e65-89f9-866dca2826a2"
   },
   "outputs": [
    {
     "name": "stdout",
     "output_type": "stream",
     "text": [
      "Model: \"sequential_2\"\n",
      "_________________________________________________________________\n",
      " Layer (type)                Output Shape              Param #   \n",
      "=================================================================\n",
      " embedding_2 (Embedding)     (None, 250, 64)           640000    \n",
      "                                                                 \n",
      " simple_rnn_2 (SimpleRNN)    (None, 32)                3104      \n",
      "                                                                 \n",
      " dense_2 (Dense)             (None, 1)                 33        \n",
      "                                                                 \n",
      "=================================================================\n",
      "Total params: 643,137\n",
      "Trainable params: 643,137\n",
      "Non-trainable params: 0\n",
      "_________________________________________________________________\n"
     ]
    }
   ],
   "source": [
    "# Define hyperparameters\n",
    "# 1. Batch size for training and validation (64)\n",
    "BATCH_SIZE=64\n",
    "# 2. Maximum vocabulary size (10,000)\n",
    "VOCAB_SIZE=10000\n",
    "# 3. Maximum sequence length to pad the sentences to (250)\n",
    "SEQUENCE_LENGTH=250\n",
    "# 4. Embedding dimension (64)\n",
    "EMBEDDING_DIM = 64\n",
    "\n",
    "# Initialize the Sequential model\n",
    "model_simple_rnn=tf.keras.models.Sequential([\n",
    "\n",
    "    # Input layer with the defined sequence length\n",
    "    Input(shape=(SEQUENCE_LENGTH,)),\n",
    "\n",
    "    # Embedding layer converting word indices to dense vectors\n",
    "    Embedding(VOCAB_SIZE, EMBEDDING_DIM),\n",
    "\n",
    "    # Simple RNN layer with 32 units\n",
    "    SimpleRNN(32),\n",
    "\n",
    "    # Output layer with 1 unit and sigmoid activation for binary classification\n",
    "    Dense(1,activation='sigmoid'),\n",
    "])\n",
    "\n",
    "model_simple_rnn.summary()"
   ]
  },
  {
   "cell_type": "code",
   "execution_count": 71,
   "id": "d5ce7a75-4f33-4476-a8b2-272da2eba175",
   "metadata": {
    "id": "d5ce7a75-4f33-4476-a8b2-272da2eba175"
   },
   "outputs": [],
   "source": [
    "model_checkpoint_callback = tf.keras.callbacks.ModelCheckpoint(\n",
    "    filepath=checkpoint_filepath + \"imdb_simple_rnn_checkpoint.keras\" ,\n",
    "    monitor='val_accuracy',\n",
    "    mode='max',\n",
    "    save_best_only=True)"
   ]
  },
  {
   "cell_type": "code",
   "execution_count": 72,
   "id": "db0912f1-fd41-45ad-9c8d-49424d2c1377",
   "metadata": {
    "id": "db0912f1-fd41-45ad-9c8d-49424d2c1377"
   },
   "outputs": [],
   "source": [
    "# Mac M1/M2 happy with legacy: tf.keras.optimizers.legacy.Adam(1e-4)\n",
    "model_simple_rnn.compile(loss=tf.keras.losses.BinaryCrossentropy(),\n",
    "              optimizer= tf.keras.optimizers.Adam(1e-4),\n",
    "              metrics=['accuracy'])"
   ]
  },
  {
   "cell_type": "code",
   "execution_count": 73,
   "id": "5458717c-287b-4c23-b428-7a4a34a7d2d5",
   "metadata": {},
   "outputs": [
    {
     "name": "stdout",
     "output_type": "stream",
     "text": [
      "Requirement already satisfied: tensorflow in c:\\users\\admin\\anaconda3\\envs\\tf-new\\lib\\site-packages (2.9.1)\n",
      "Collecting tensorflow\n",
      "  Downloading tensorflow-2.17.0-cp310-cp310-win_amd64.whl.metadata (3.2 kB)\n",
      "Requirement already satisfied: keras in c:\\users\\admin\\anaconda3\\envs\\tf-new\\lib\\site-packages (2.9.0)\n",
      "Collecting keras\n",
      "  Downloading keras-3.4.1-py3-none-any.whl.metadata (5.8 kB)\n",
      "Collecting tensorflow-intel==2.17.0 (from tensorflow)\n",
      "  Downloading tensorflow_intel-2.17.0-cp310-cp310-win_amd64.whl.metadata (5.0 kB)\n",
      "Requirement already satisfied: absl-py>=1.0.0 in c:\\users\\admin\\anaconda3\\envs\\tf-new\\lib\\site-packages (from tensorflow-intel==2.17.0->tensorflow) (1.4.0)\n",
      "Requirement already satisfied: astunparse>=1.6.0 in c:\\users\\admin\\anaconda3\\envs\\tf-new\\lib\\site-packages (from tensorflow-intel==2.17.0->tensorflow) (1.6.3)\n",
      "Collecting flatbuffers>=24.3.25 (from tensorflow-intel==2.17.0->tensorflow)\n",
      "  Downloading flatbuffers-24.3.25-py2.py3-none-any.whl.metadata (850 bytes)\n",
      "Requirement already satisfied: gast!=0.5.0,!=0.5.1,!=0.5.2,>=0.2.1 in c:\\users\\admin\\anaconda3\\envs\\tf-new\\lib\\site-packages (from tensorflow-intel==2.17.0->tensorflow) (0.4.0)\n",
      "Requirement already satisfied: google-pasta>=0.1.1 in c:\\users\\admin\\anaconda3\\envs\\tf-new\\lib\\site-packages (from tensorflow-intel==2.17.0->tensorflow) (0.2.0)\n",
      "Collecting h5py>=3.10.0 (from tensorflow-intel==2.17.0->tensorflow)\n",
      "  Downloading h5py-3.11.0-cp310-cp310-win_amd64.whl.metadata (2.5 kB)\n",
      "Collecting libclang>=13.0.0 (from tensorflow-intel==2.17.0->tensorflow)\n",
      "  Downloading libclang-18.1.1-py2.py3-none-win_amd64.whl.metadata (5.3 kB)\n",
      "Collecting ml-dtypes<0.5.0,>=0.3.1 (from tensorflow-intel==2.17.0->tensorflow)\n",
      "  Downloading ml_dtypes-0.4.0-cp310-cp310-win_amd64.whl.metadata (20 kB)\n",
      "Requirement already satisfied: opt-einsum>=2.3.2 in c:\\users\\admin\\anaconda3\\envs\\tf-new\\lib\\site-packages (from tensorflow-intel==2.17.0->tensorflow) (3.3.0)\n",
      "Requirement already satisfied: packaging in c:\\users\\admin\\anaconda3\\envs\\tf-new\\lib\\site-packages (from tensorflow-intel==2.17.0->tensorflow) (23.1)\n",
      "Requirement already satisfied: protobuf!=4.21.0,!=4.21.1,!=4.21.2,!=4.21.3,!=4.21.4,!=4.21.5,<5.0.0dev,>=3.20.3 in c:\\users\\admin\\anaconda3\\envs\\tf-new\\lib\\site-packages (from tensorflow-intel==2.17.0->tensorflow) (3.20.3)\n",
      "Requirement already satisfied: requests<3,>=2.21.0 in c:\\users\\admin\\anaconda3\\envs\\tf-new\\lib\\site-packages (from tensorflow-intel==2.17.0->tensorflow) (2.31.0)\n",
      "Requirement already satisfied: setuptools in c:\\users\\admin\\anaconda3\\envs\\tf-new\\lib\\site-packages (from tensorflow-intel==2.17.0->tensorflow) (68.2.2)\n",
      "Requirement already satisfied: six>=1.12.0 in c:\\users\\admin\\anaconda3\\envs\\tf-new\\lib\\site-packages (from tensorflow-intel==2.17.0->tensorflow) (1.16.0)\n",
      "Requirement already satisfied: termcolor>=1.1.0 in c:\\users\\admin\\anaconda3\\envs\\tf-new\\lib\\site-packages (from tensorflow-intel==2.17.0->tensorflow) (2.1.0)\n",
      "Requirement already satisfied: typing-extensions>=3.6.6 in c:\\users\\admin\\anaconda3\\envs\\tf-new\\lib\\site-packages (from tensorflow-intel==2.17.0->tensorflow) (4.9.0)\n",
      "Requirement already satisfied: wrapt>=1.11.0 in c:\\users\\admin\\anaconda3\\envs\\tf-new\\lib\\site-packages (from tensorflow-intel==2.17.0->tensorflow) (1.14.1)\n",
      "Requirement already satisfied: grpcio<2.0,>=1.24.3 in c:\\users\\admin\\anaconda3\\envs\\tf-new\\lib\\site-packages (from tensorflow-intel==2.17.0->tensorflow) (1.42.0)\n",
      "Collecting tensorboard<2.18,>=2.17 (from tensorflow-intel==2.17.0->tensorflow)\n",
      "  Downloading tensorboard-2.17.0-py3-none-any.whl.metadata (1.6 kB)\n",
      "Collecting tensorflow-io-gcs-filesystem>=0.23.1 (from tensorflow-intel==2.17.0->tensorflow)\n",
      "  Downloading tensorflow_io_gcs_filesystem-0.31.0-cp310-cp310-win_amd64.whl.metadata (14 kB)\n",
      "Collecting numpy<2.0.0,>=1.23.5 (from tensorflow-intel==2.17.0->tensorflow)\n",
      "  Downloading numpy-1.26.4-cp310-cp310-win_amd64.whl.metadata (61 kB)\n",
      "     ---------------------------------------- 0.0/61.0 kB ? eta -:--:--\n",
      "     ------------------------- ------------ 41.0/61.0 kB 991.0 kB/s eta 0:00:01\n",
      "     -------------------------------------- 61.0/61.0 kB 806.3 kB/s eta 0:00:00\n",
      "Collecting rich (from keras)\n",
      "  Downloading rich-13.7.1-py3-none-any.whl.metadata (18 kB)\n",
      "Collecting namex (from keras)\n",
      "  Downloading namex-0.0.8-py3-none-any.whl.metadata (246 bytes)\n",
      "Collecting optree (from keras)\n",
      "  Downloading optree-0.12.1-cp310-cp310-win_amd64.whl.metadata (48 kB)\n",
      "     ---------------------------------------- 0.0/48.7 kB ? eta -:--:--\n",
      "     ---------------------------------------- 48.7/48.7 kB 2.4 MB/s eta 0:00:00\n",
      "Collecting markdown-it-py>=2.2.0 (from rich->keras)\n",
      "  Downloading markdown_it_py-3.0.0-py3-none-any.whl.metadata (6.9 kB)\n",
      "Requirement already satisfied: pygments<3.0.0,>=2.13.0 in c:\\users\\admin\\anaconda3\\envs\\tf-new\\lib\\site-packages (from rich->keras) (2.15.1)\n",
      "Requirement already satisfied: wheel<1.0,>=0.23.0 in c:\\users\\admin\\anaconda3\\envs\\tf-new\\lib\\site-packages (from astunparse>=1.6.0->tensorflow-intel==2.17.0->tensorflow) (0.41.2)\n",
      "Collecting mdurl~=0.1 (from markdown-it-py>=2.2.0->rich->keras)\n",
      "  Downloading mdurl-0.1.2-py3-none-any.whl.metadata (1.6 kB)\n",
      "Requirement already satisfied: charset-normalizer<4,>=2 in c:\\users\\admin\\anaconda3\\envs\\tf-new\\lib\\site-packages (from requests<3,>=2.21.0->tensorflow-intel==2.17.0->tensorflow) (2.0.4)\n",
      "Requirement already satisfied: idna<4,>=2.5 in c:\\users\\admin\\anaconda3\\envs\\tf-new\\lib\\site-packages (from requests<3,>=2.21.0->tensorflow-intel==2.17.0->tensorflow) (3.4)\n",
      "Requirement already satisfied: urllib3<3,>=1.21.1 in c:\\users\\admin\\anaconda3\\envs\\tf-new\\lib\\site-packages (from requests<3,>=2.21.0->tensorflow-intel==2.17.0->tensorflow) (2.1.0)\n",
      "Requirement already satisfied: certifi>=2017.4.17 in c:\\users\\admin\\anaconda3\\envs\\tf-new\\lib\\site-packages (from requests<3,>=2.21.0->tensorflow-intel==2.17.0->tensorflow) (2024.7.4)\n",
      "Collecting grpcio<2.0,>=1.24.3 (from tensorflow-intel==2.17.0->tensorflow)\n",
      "  Downloading grpcio-1.65.1-cp310-cp310-win_amd64.whl.metadata (3.4 kB)\n",
      "Requirement already satisfied: markdown>=2.6.8 in c:\\users\\admin\\anaconda3\\envs\\tf-new\\lib\\site-packages (from tensorboard<2.18,>=2.17->tensorflow-intel==2.17.0->tensorflow) (3.4.1)\n",
      "Collecting tensorboard-data-server<0.8.0,>=0.7.0 (from tensorboard<2.18,>=2.17->tensorflow-intel==2.17.0->tensorflow)\n",
      "  Downloading tensorboard_data_server-0.7.2-py3-none-any.whl.metadata (1.1 kB)\n",
      "Requirement already satisfied: werkzeug>=1.0.1 in c:\\users\\admin\\anaconda3\\envs\\tf-new\\lib\\site-packages (from tensorboard<2.18,>=2.17->tensorflow-intel==2.17.0->tensorflow) (2.3.8)\n",
      "Requirement already satisfied: MarkupSafe>=2.1.1 in c:\\users\\admin\\anaconda3\\envs\\tf-new\\lib\\site-packages (from werkzeug>=1.0.1->tensorboard<2.18,>=2.17->tensorflow-intel==2.17.0->tensorflow) (2.1.3)\n",
      "Downloading tensorflow-2.17.0-cp310-cp310-win_amd64.whl (2.0 kB)\n",
      "Downloading tensorflow_intel-2.17.0-cp310-cp310-win_amd64.whl (385.0 MB)\n",
      "   ---------------------------------------- 0.0/385.0 MB ? eta -:--:--\n",
      "   ---------------------------------------- 0.2/385.0 MB 3.7 MB/s eta 0:01:44\n",
      "   ---------------------------------------- 0.3/385.0 MB 3.5 MB/s eta 0:01:51\n",
      "   ---------------------------------------- 0.8/385.0 MB 5.4 MB/s eta 0:01:11\n",
      "   ---------------------------------------- 1.3/385.0 MB 7.0 MB/s eta 0:00:56\n",
      "   ---------------------------------------- 1.6/385.0 MB 7.1 MB/s eta 0:00:54\n",
      "   ---------------------------------------- 1.6/385.0 MB 7.1 MB/s eta 0:00:54\n",
      "   ---------------------------------------- 1.6/385.0 MB 7.1 MB/s eta 0:00:54\n",
      "   ---------------------------------------- 3.4/385.0 MB 9.0 MB/s eta 0:00:43\n",
      "   ---------------------------------------- 3.9/385.0 MB 9.2 MB/s eta 0:00:42\n",
      "   ---------------------------------------- 4.4/385.0 MB 9.4 MB/s eta 0:00:41\n",
      "    --------------------------------------- 5.0/385.0 MB 9.7 MB/s eta 0:00:40\n",
      "    --------------------------------------- 5.5/385.0 MB 9.8 MB/s eta 0:00:39\n",
      "    --------------------------------------- 6.0/385.0 MB 10.2 MB/s eta 0:00:38\n",
      "    --------------------------------------- 6.6/385.0 MB 10.3 MB/s eta 0:00:37\n",
      "    --------------------------------------- 7.1/385.0 MB 10.4 MB/s eta 0:00:37\n",
      "    --------------------------------------- 7.7/385.0 MB 10.4 MB/s eta 0:00:37\n",
      "    --------------------------------------- 8.2/385.0 MB 10.5 MB/s eta 0:00:36\n",
      "    --------------------------------------- 8.7/385.0 MB 10.5 MB/s eta 0:00:36\n",
      "    --------------------------------------- 9.3/385.0 MB 10.6 MB/s eta 0:00:36\n",
      "   - -------------------------------------- 9.8/385.0 MB 10.6 MB/s eta 0:00:36\n",
      "   - -------------------------------------- 10.3/385.0 MB 11.1 MB/s eta 0:00:34\n",
      "   - -------------------------------------- 10.9/385.0 MB 11.5 MB/s eta 0:00:33\n",
      "   - -------------------------------------- 11.4/385.0 MB 11.5 MB/s eta 0:00:33\n",
      "   - -------------------------------------- 11.9/385.0 MB 13.6 MB/s eta 0:00:28\n",
      "   - -------------------------------------- 12.5/385.0 MB 12.8 MB/s eta 0:00:30\n",
      "   - -------------------------------------- 13.0/385.0 MB 12.1 MB/s eta 0:00:31\n",
      "   - -------------------------------------- 13.5/385.0 MB 11.5 MB/s eta 0:00:33\n",
      "   - -------------------------------------- 14.1/385.0 MB 11.7 MB/s eta 0:00:32\n",
      "   - -------------------------------------- 14.2/385.0 MB 11.7 MB/s eta 0:00:32\n",
      "   - -------------------------------------- 14.9/385.0 MB 11.5 MB/s eta 0:00:33\n",
      "   - -------------------------------------- 15.6/385.0 MB 11.7 MB/s eta 0:00:32\n",
      "   - -------------------------------------- 15.6/385.0 MB 11.7 MB/s eta 0:00:32\n",
      "   - -------------------------------------- 16.6/385.0 MB 11.5 MB/s eta 0:00:33\n",
      "   - -------------------------------------- 17.0/385.0 MB 11.5 MB/s eta 0:00:33\n",
      "   - -------------------------------------- 17.4/385.0 MB 11.5 MB/s eta 0:00:33\n",
      "   - -------------------------------------- 17.8/385.0 MB 11.1 MB/s eta 0:00:34\n",
      "   - -------------------------------------- 18.1/385.0 MB 10.7 MB/s eta 0:00:35\n",
      "   - -------------------------------------- 18.3/385.0 MB 10.4 MB/s eta 0:00:36\n",
      "   - -------------------------------------- 18.5/385.0 MB 10.4 MB/s eta 0:00:36\n",
      "   - -------------------------------------- 18.7/385.0 MB 10.1 MB/s eta 0:00:37\n",
      "   - -------------------------------------- 19.0/385.0 MB 9.8 MB/s eta 0:00:38\n",
      "   - -------------------------------------- 19.2/385.0 MB 9.5 MB/s eta 0:00:39\n",
      "   -- ------------------------------------- 19.4/385.0 MB 9.4 MB/s eta 0:00:40\n",
      "   -- ------------------------------------- 19.7/385.0 MB 9.1 MB/s eta 0:00:41\n",
      "   -- ------------------------------------- 19.9/385.0 MB 8.8 MB/s eta 0:00:42\n",
      "   -- ------------------------------------- 20.2/385.0 MB 8.7 MB/s eta 0:00:42\n",
      "   -- ------------------------------------- 20.4/385.0 MB 8.5 MB/s eta 0:00:43\n",
      "   -- ------------------------------------- 20.6/385.0 MB 8.3 MB/s eta 0:00:44\n",
      "   -- ------------------------------------- 20.8/385.0 MB 8.2 MB/s eta 0:00:45\n",
      "   -- ------------------------------------- 21.1/385.0 MB 8.0 MB/s eta 0:00:46\n",
      "   -- ------------------------------------- 21.4/385.0 MB 7.8 MB/s eta 0:00:47\n",
      "   -- ------------------------------------- 21.6/385.0 MB 7.7 MB/s eta 0:00:48\n",
      "   -- ------------------------------------- 21.9/385.0 MB 7.5 MB/s eta 0:00:49\n",
      "   -- ------------------------------------- 22.1/385.0 MB 7.4 MB/s eta 0:00:49\n",
      "   -- ------------------------------------- 22.4/385.0 MB 7.3 MB/s eta 0:00:50\n",
      "   -- ------------------------------------- 22.7/385.0 MB 7.1 MB/s eta 0:00:51\n",
      "   -- ------------------------------------- 22.9/385.0 MB 7.0 MB/s eta 0:00:52\n",
      "   -- ------------------------------------- 23.1/385.0 MB 6.9 MB/s eta 0:00:53\n",
      "   -- ------------------------------------- 23.4/385.0 MB 6.7 MB/s eta 0:00:54\n",
      "   -- ------------------------------------- 23.6/385.0 MB 6.7 MB/s eta 0:00:54\n",
      "   -- ------------------------------------- 23.9/385.0 MB 6.6 MB/s eta 0:00:55\n",
      "   -- ------------------------------------- 24.1/385.0 MB 6.5 MB/s eta 0:00:56\n",
      "   -- ------------------------------------- 24.4/385.0 MB 6.7 MB/s eta 0:00:55\n",
      "   -- ------------------------------------- 24.7/385.0 MB 6.5 MB/s eta 0:00:56\n",
      "   -- ------------------------------------- 24.9/385.0 MB 6.4 MB/s eta 0:00:57\n",
      "   -- ------------------------------------- 25.2/385.0 MB 6.3 MB/s eta 0:00:58\n",
      "   -- ------------------------------------- 25.5/385.0 MB 6.1 MB/s eta 0:00:59\n",
      "   -- ------------------------------------- 25.7/385.0 MB 6.0 MB/s eta 0:01:01\n",
      "   -- ------------------------------------- 26.0/385.0 MB 6.0 MB/s eta 0:01:00\n",
      "   -- ------------------------------------- 26.3/385.0 MB 5.8 MB/s eta 0:01:02\n",
      "   -- ------------------------------------- 26.5/385.0 MB 5.7 MB/s eta 0:01:03\n",
      "   -- ------------------------------------- 26.6/385.0 MB 5.6 MB/s eta 0:01:05\n",
      "   -- ------------------------------------- 26.9/385.0 MB 5.5 MB/s eta 0:01:06\n",
      "   -- ------------------------------------- 27.1/385.0 MB 5.4 MB/s eta 0:01:07\n",
      "   -- ------------------------------------- 27.3/385.0 MB 5.5 MB/s eta 0:01:06\n",
      "   -- ------------------------------------- 27.5/385.0 MB 5.3 MB/s eta 0:01:08\n",
      "   -- ------------------------------------- 27.7/385.0 MB 5.3 MB/s eta 0:01:08\n",
      "   -- ------------------------------------- 27.9/385.0 MB 5.2 MB/s eta 0:01:10\n",
      "   -- ------------------------------------- 28.1/385.0 MB 5.1 MB/s eta 0:01:10\n",
      "   -- ------------------------------------- 28.3/385.0 MB 5.1 MB/s eta 0:01:10\n",
      "   -- ------------------------------------- 28.5/385.0 MB 5.1 MB/s eta 0:01:11\n",
      "   -- ------------------------------------- 28.7/385.0 MB 5.1 MB/s eta 0:01:11\n",
      "   -- ------------------------------------- 28.9/385.0 MB 5.0 MB/s eta 0:01:11\n",
      "   --- ------------------------------------ 29.1/385.0 MB 5.0 MB/s eta 0:01:11\n",
      "   --- ------------------------------------ 29.3/385.0 MB 5.0 MB/s eta 0:01:12\n",
      "   --- ------------------------------------ 29.5/385.0 MB 5.0 MB/s eta 0:01:12\n",
      "   --- ------------------------------------ 29.6/385.0 MB 5.0 MB/s eta 0:01:12\n",
      "   --- ------------------------------------ 29.9/385.0 MB 5.0 MB/s eta 0:01:12\n",
      "   --- ------------------------------------ 30.1/385.0 MB 4.9 MB/s eta 0:01:13\n",
      "   --- ------------------------------------ 30.3/385.0 MB 4.9 MB/s eta 0:01:13\n",
      "   --- ------------------------------------ 30.5/385.0 MB 4.9 MB/s eta 0:01:13\n",
      "   --- ------------------------------------ 30.7/385.0 MB 4.9 MB/s eta 0:01:12\n",
      "   --- ------------------------------------ 30.9/385.0 MB 4.9 MB/s eta 0:01:13\n",
      "   --- ------------------------------------ 31.1/385.0 MB 4.9 MB/s eta 0:01:13\n",
      "   --- ------------------------------------ 31.3/385.0 MB 4.9 MB/s eta 0:01:13\n",
      "   --- ------------------------------------ 31.5/385.0 MB 4.8 MB/s eta 0:01:13\n",
      "   --- ------------------------------------ 31.7/385.0 MB 4.9 MB/s eta 0:01:13\n",
      "   --- ------------------------------------ 32.0/385.0 MB 4.8 MB/s eta 0:01:14\n",
      "   --- ------------------------------------ 32.2/385.0 MB 4.8 MB/s eta 0:01:14\n",
      "   --- ------------------------------------ 32.4/385.0 MB 4.8 MB/s eta 0:01:14\n",
      "   --- ------------------------------------ 32.6/385.0 MB 4.8 MB/s eta 0:01:14\n",
      "   --- ------------------------------------ 32.8/385.0 MB 4.7 MB/s eta 0:01:15\n",
      "   --- ------------------------------------ 33.0/385.0 MB 4.7 MB/s eta 0:01:15\n",
      "   --- ------------------------------------ 33.2/385.0 MB 4.7 MB/s eta 0:01:16\n",
      "   --- ------------------------------------ 33.4/385.0 MB 4.7 MB/s eta 0:01:16\n",
      "   --- ------------------------------------ 33.6/385.0 MB 4.7 MB/s eta 0:01:16\n",
      "   --- ------------------------------------ 33.9/385.0 MB 4.7 MB/s eta 0:01:16\n",
      "   --- ------------------------------------ 34.1/385.0 MB 4.6 MB/s eta 0:01:16\n",
      "   --- ------------------------------------ 34.3/385.0 MB 4.6 MB/s eta 0:01:17\n",
      "   --- ------------------------------------ 34.5/385.0 MB 4.6 MB/s eta 0:01:17\n",
      "   --- ------------------------------------ 34.8/385.0 MB 4.6 MB/s eta 0:01:16\n",
      "   --- ------------------------------------ 35.0/385.0 MB 4.6 MB/s eta 0:01:16\n",
      "   --- ------------------------------------ 35.2/385.0 MB 4.5 MB/s eta 0:01:17\n",
      "   --- ------------------------------------ 35.4/385.0 MB 4.5 MB/s eta 0:01:17\n",
      "   --- ------------------------------------ 35.6/385.0 MB 4.5 MB/s eta 0:01:17\n",
      "   --- ------------------------------------ 35.9/385.0 MB 4.5 MB/s eta 0:01:17\n",
      "   --- ------------------------------------ 36.1/385.0 MB 4.5 MB/s eta 0:01:18\n",
      "   --- ------------------------------------ 36.3/385.0 MB 4.5 MB/s eta 0:01:18\n",
      "   --- ------------------------------------ 36.5/385.0 MB 4.5 MB/s eta 0:01:18\n",
      "   --- ------------------------------------ 36.7/385.0 MB 4.5 MB/s eta 0:01:18\n",
      "   --- ------------------------------------ 37.0/385.0 MB 4.6 MB/s eta 0:01:17\n",
      "   --- ------------------------------------ 37.2/385.0 MB 4.5 MB/s eta 0:01:17\n",
      "   --- ------------------------------------ 37.5/385.0 MB 4.6 MB/s eta 0:01:16\n",
      "   --- ------------------------------------ 37.7/385.0 MB 4.6 MB/s eta 0:01:15\n",
      "   --- ------------------------------------ 37.9/385.0 MB 4.6 MB/s eta 0:01:15\n",
      "   --- ------------------------------------ 38.2/385.0 MB 4.6 MB/s eta 0:01:15\n",
      "   --- ------------------------------------ 38.4/385.0 MB 4.7 MB/s eta 0:01:15\n",
      "   ---- ----------------------------------- 38.6/385.0 MB 4.7 MB/s eta 0:01:15\n",
      "   ---- ----------------------------------- 38.9/385.0 MB 4.7 MB/s eta 0:01:13\n",
      "   ---- ----------------------------------- 39.1/385.0 MB 4.8 MB/s eta 0:01:13\n",
      "   ---- ----------------------------------- 39.3/385.0 MB 4.8 MB/s eta 0:01:13\n",
      "   ---- ----------------------------------- 39.6/385.0 MB 4.8 MB/s eta 0:01:13\n",
      "   ---- ----------------------------------- 39.8/385.0 MB 4.8 MB/s eta 0:01:12\n",
      "   ---- ----------------------------------- 40.1/385.0 MB 4.8 MB/s eta 0:01:12\n",
      "   ---- ----------------------------------- 40.3/385.0 MB 4.9 MB/s eta 0:01:12\n",
      "   ---- ----------------------------------- 40.6/385.0 MB 4.9 MB/s eta 0:01:11\n",
      "   ---- ----------------------------------- 40.8/385.0 MB 4.9 MB/s eta 0:01:11\n",
      "   ---- ----------------------------------- 41.1/385.0 MB 4.9 MB/s eta 0:01:10\n",
      "   ---- ----------------------------------- 41.3/385.0 MB 4.9 MB/s eta 0:01:10\n",
      "   ---- ----------------------------------- 41.6/385.0 MB 5.0 MB/s eta 0:01:10\n",
      "   ---- ----------------------------------- 41.8/385.0 MB 5.0 MB/s eta 0:01:10\n",
      "   ---- ----------------------------------- 42.1/385.0 MB 5.0 MB/s eta 0:01:09\n",
      "   ---- ----------------------------------- 42.3/385.0 MB 5.0 MB/s eta 0:01:09\n",
      "   ---- ----------------------------------- 42.6/385.0 MB 5.0 MB/s eta 0:01:08\n",
      "   ---- ----------------------------------- 42.9/385.0 MB 5.1 MB/s eta 0:01:08\n",
      "   ---- ----------------------------------- 43.1/385.0 MB 5.1 MB/s eta 0:01:08\n",
      "   ---- ----------------------------------- 43.3/385.0 MB 5.2 MB/s eta 0:01:07\n",
      "   ---- ----------------------------------- 43.6/385.0 MB 5.2 MB/s eta 0:01:07\n",
      "   ---- ----------------------------------- 43.8/385.0 MB 5.2 MB/s eta 0:01:06\n",
      "   ---- ----------------------------------- 44.1/385.0 MB 5.2 MB/s eta 0:01:06\n",
      "   ---- ----------------------------------- 44.4/385.0 MB 5.2 MB/s eta 0:01:06\n",
      "   ---- ----------------------------------- 44.6/385.0 MB 5.2 MB/s eta 0:01:05\n",
      "   ---- ----------------------------------- 44.9/385.0 MB 5.3 MB/s eta 0:01:05\n",
      "   ---- ----------------------------------- 45.2/385.0 MB 5.3 MB/s eta 0:01:05\n",
      "   ---- ----------------------------------- 45.4/385.0 MB 5.3 MB/s eta 0:01:04\n",
      "   ---- ----------------------------------- 45.7/385.0 MB 5.4 MB/s eta 0:01:04\n",
      "   ---- ----------------------------------- 46.0/385.0 MB 5.4 MB/s eta 0:01:04\n",
      "   ---- ----------------------------------- 46.2/385.0 MB 5.4 MB/s eta 0:01:03\n",
      "   ---- ----------------------------------- 46.5/385.0 MB 5.4 MB/s eta 0:01:03\n",
      "   ---- ----------------------------------- 46.8/385.0 MB 5.5 MB/s eta 0:01:02\n",
      "   ---- ----------------------------------- 47.1/385.0 MB 5.5 MB/s eta 0:01:02\n",
      "   ---- ----------------------------------- 47.4/385.0 MB 5.5 MB/s eta 0:01:02\n",
      "   ---- ----------------------------------- 47.6/385.0 MB 5.5 MB/s eta 0:01:01\n",
      "   ---- ----------------------------------- 47.9/385.0 MB 5.5 MB/s eta 0:01:01\n",
      "   ----- ---------------------------------- 48.2/385.0 MB 5.5 MB/s eta 0:01:01\n",
      "   ----- ---------------------------------- 48.5/385.0 MB 5.6 MB/s eta 0:01:00\n",
      "   ----- ---------------------------------- 48.8/385.0 MB 5.6 MB/s eta 0:01:00\n",
      "   ----- ---------------------------------- 49.0/385.0 MB 5.7 MB/s eta 0:01:00\n",
      "   ----- ---------------------------------- 49.3/385.0 MB 5.7 MB/s eta 0:00:59\n",
      "   ----- ---------------------------------- 49.6/385.0 MB 5.7 MB/s eta 0:00:59\n",
      "   ----- ---------------------------------- 49.9/385.0 MB 5.7 MB/s eta 0:00:59\n",
      "   ----- ---------------------------------- 50.2/385.0 MB 5.8 MB/s eta 0:00:58\n",
      "   ----- ---------------------------------- 50.5/385.0 MB 5.8 MB/s eta 0:00:58\n",
      "   ----- ---------------------------------- 50.7/385.0 MB 5.8 MB/s eta 0:00:58\n",
      "   ----- ---------------------------------- 51.0/385.0 MB 5.8 MB/s eta 0:00:58\n",
      "   ----- ---------------------------------- 51.3/385.0 MB 5.8 MB/s eta 0:00:58\n",
      "   ----- ---------------------------------- 51.6/385.0 MB 5.9 MB/s eta 0:00:57\n",
      "   ----- ---------------------------------- 51.9/385.0 MB 5.9 MB/s eta 0:00:57\n",
      "   ----- ---------------------------------- 52.2/385.0 MB 6.0 MB/s eta 0:00:56\n",
      "   ----- ---------------------------------- 52.5/385.0 MB 6.0 MB/s eta 0:00:56\n",
      "   ----- ---------------------------------- 52.8/385.0 MB 6.0 MB/s eta 0:00:56\n",
      "   ----- ---------------------------------- 53.1/385.0 MB 6.0 MB/s eta 0:00:56\n",
      "   ----- ---------------------------------- 53.4/385.0 MB 6.1 MB/s eta 0:00:55\n",
      "   ----- ---------------------------------- 53.7/385.0 MB 6.1 MB/s eta 0:00:55\n",
      "   ----- ---------------------------------- 54.0/385.0 MB 6.1 MB/s eta 0:00:55\n",
      "   ----- ---------------------------------- 54.3/385.0 MB 6.2 MB/s eta 0:00:54\n",
      "   ----- ---------------------------------- 54.5/385.0 MB 6.1 MB/s eta 0:00:55\n",
      "   ----- ---------------------------------- 54.8/385.0 MB 6.2 MB/s eta 0:00:54\n",
      "   ----- ---------------------------------- 55.2/385.0 MB 6.2 MB/s eta 0:00:54\n",
      "   ----- ---------------------------------- 55.4/385.0 MB 6.2 MB/s eta 0:00:53\n",
      "   ----- ---------------------------------- 55.7/385.0 MB 6.2 MB/s eta 0:00:54\n",
      "   ----- ---------------------------------- 56.0/385.0 MB 6.2 MB/s eta 0:00:53\n",
      "   ----- ---------------------------------- 56.3/385.0 MB 6.2 MB/s eta 0:00:53\n",
      "   ----- ---------------------------------- 56.6/385.0 MB 6.2 MB/s eta 0:00:53\n",
      "   ----- ---------------------------------- 56.9/385.0 MB 6.3 MB/s eta 0:00:53\n",
      "   ----- ---------------------------------- 57.2/385.0 MB 6.3 MB/s eta 0:00:53\n",
      "   ----- ---------------------------------- 57.5/385.0 MB 6.3 MB/s eta 0:00:53\n",
      "   ------ --------------------------------- 57.8/385.0 MB 6.3 MB/s eta 0:00:52\n",
      "   ------ --------------------------------- 58.1/385.0 MB 6.4 MB/s eta 0:00:52\n",
      "   ------ --------------------------------- 58.4/385.0 MB 6.4 MB/s eta 0:00:52\n",
      "   ------ --------------------------------- 58.8/385.0 MB 6.4 MB/s eta 0:00:52\n",
      "   ------ --------------------------------- 59.1/385.0 MB 6.5 MB/s eta 0:00:51\n",
      "   ------ --------------------------------- 59.4/385.0 MB 6.5 MB/s eta 0:00:51\n",
      "   ------ --------------------------------- 59.7/385.0 MB 6.4 MB/s eta 0:00:51\n",
      "   ------ --------------------------------- 60.0/385.0 MB 6.4 MB/s eta 0:00:51\n",
      "   ------ --------------------------------- 60.4/385.0 MB 6.5 MB/s eta 0:00:50\n",
      "   ------ --------------------------------- 60.6/385.0 MB 6.5 MB/s eta 0:00:51\n",
      "   ------ --------------------------------- 60.9/385.0 MB 6.5 MB/s eta 0:00:50\n",
      "   ------ --------------------------------- 61.3/385.0 MB 6.5 MB/s eta 0:00:50\n",
      "   ------ --------------------------------- 61.6/385.0 MB 6.6 MB/s eta 0:00:49\n",
      "   ------ --------------------------------- 61.9/385.0 MB 6.5 MB/s eta 0:00:50\n",
      "   ------ --------------------------------- 62.2/385.0 MB 6.6 MB/s eta 0:00:49\n",
      "   ------ --------------------------------- 62.6/385.0 MB 6.6 MB/s eta 0:00:49\n",
      "   ------ --------------------------------- 62.9/385.0 MB 6.6 MB/s eta 0:00:49\n",
      "   ------ --------------------------------- 63.2/385.0 MB 6.6 MB/s eta 0:00:49\n",
      "   ------ --------------------------------- 63.5/385.0 MB 6.7 MB/s eta 0:00:49\n",
      "   ------ --------------------------------- 63.8/385.0 MB 6.7 MB/s eta 0:00:49\n",
      "   ------ --------------------------------- 64.1/385.0 MB 6.7 MB/s eta 0:00:49\n",
      "   ------ --------------------------------- 64.5/385.0 MB 6.7 MB/s eta 0:00:48\n",
      "   ------ --------------------------------- 64.8/385.0 MB 6.8 MB/s eta 0:00:48\n",
      "   ------ --------------------------------- 65.1/385.0 MB 6.8 MB/s eta 0:00:48\n",
      "   ------ --------------------------------- 65.5/385.0 MB 6.8 MB/s eta 0:00:47\n",
      "   ------ --------------------------------- 65.8/385.0 MB 6.8 MB/s eta 0:00:47\n",
      "   ------ --------------------------------- 66.1/385.0 MB 6.9 MB/s eta 0:00:47\n",
      "   ------ --------------------------------- 66.4/385.0 MB 6.9 MB/s eta 0:00:47\n",
      "   ------ --------------------------------- 66.8/385.0 MB 6.9 MB/s eta 0:00:47\n",
      "   ------ --------------------------------- 67.0/385.0 MB 6.9 MB/s eta 0:00:47\n",
      "   ------- -------------------------------- 67.4/385.0 MB 6.9 MB/s eta 0:00:47\n",
      "   ------- -------------------------------- 67.7/385.0 MB 6.9 MB/s eta 0:00:47\n",
      "   ------- -------------------------------- 68.1/385.0 MB 7.0 MB/s eta 0:00:46\n",
      "   ------- -------------------------------- 68.4/385.0 MB 7.0 MB/s eta 0:00:46\n",
      "   ------- -------------------------------- 68.8/385.0 MB 7.0 MB/s eta 0:00:46\n",
      "   ------- -------------------------------- 69.1/385.0 MB 7.0 MB/s eta 0:00:45\n",
      "   ------- -------------------------------- 69.4/385.0 MB 7.0 MB/s eta 0:00:45\n",
      "   ------- -------------------------------- 69.8/385.0 MB 7.1 MB/s eta 0:00:45\n",
      "   ------- -------------------------------- 70.1/385.0 MB 7.0 MB/s eta 0:00:45\n",
      "   ------- -------------------------------- 70.5/385.0 MB 7.1 MB/s eta 0:00:45\n",
      "   ------- -------------------------------- 70.8/385.0 MB 7.2 MB/s eta 0:00:44\n",
      "   ------- -------------------------------- 71.2/385.0 MB 7.3 MB/s eta 0:00:44\n",
      "   ------- -------------------------------- 71.6/385.0 MB 7.3 MB/s eta 0:00:44\n",
      "   ------- -------------------------------- 71.9/385.0 MB 7.3 MB/s eta 0:00:44\n",
      "   ------- -------------------------------- 72.3/385.0 MB 7.3 MB/s eta 0:00:43\n",
      "   ------- -------------------------------- 72.6/385.0 MB 7.4 MB/s eta 0:00:43\n",
      "   ------- -------------------------------- 73.0/385.0 MB 7.4 MB/s eta 0:00:43\n",
      "   ------- -------------------------------- 73.3/385.0 MB 7.4 MB/s eta 0:00:43\n",
      "   ------- -------------------------------- 73.7/385.0 MB 7.4 MB/s eta 0:00:43\n",
      "   ------- -------------------------------- 74.1/385.0 MB 7.4 MB/s eta 0:00:42\n",
      "   ------- -------------------------------- 74.5/385.0 MB 7.5 MB/s eta 0:00:42\n",
      "   ------- -------------------------------- 74.8/385.0 MB 7.5 MB/s eta 0:00:42\n",
      "   ------- -------------------------------- 75.2/385.0 MB 7.5 MB/s eta 0:00:42\n",
      "   ------- -------------------------------- 75.6/385.0 MB 7.6 MB/s eta 0:00:41\n",
      "   ------- -------------------------------- 75.9/385.0 MB 7.6 MB/s eta 0:00:41\n",
      "   ------- -------------------------------- 76.3/385.0 MB 7.6 MB/s eta 0:00:41\n",
      "   ------- -------------------------------- 76.6/385.0 MB 7.6 MB/s eta 0:00:41\n",
      "   ------- -------------------------------- 77.0/385.0 MB 7.6 MB/s eta 0:00:41\n",
      "   -------- ------------------------------- 77.5/385.0 MB 7.7 MB/s eta 0:00:40\n",
      "   -------- ------------------------------- 77.9/385.0 MB 7.7 MB/s eta 0:00:40\n",
      "   -------- ------------------------------- 78.2/385.0 MB 7.9 MB/s eta 0:00:39\n",
      "   -------- ------------------------------- 78.6/385.0 MB 7.9 MB/s eta 0:00:39\n",
      "   -------- ------------------------------- 79.0/385.0 MB 7.9 MB/s eta 0:00:39\n",
      "   -------- ------------------------------- 79.4/385.0 MB 7.9 MB/s eta 0:00:39\n",
      "   -------- ------------------------------- 79.7/385.0 MB 8.0 MB/s eta 0:00:39\n",
      "   -------- ------------------------------- 80.1/385.0 MB 8.0 MB/s eta 0:00:39\n",
      "   -------- ------------------------------- 80.5/385.0 MB 8.0 MB/s eta 0:00:39\n",
      "   -------- ------------------------------- 80.9/385.0 MB 8.0 MB/s eta 0:00:39\n",
      "   -------- ------------------------------- 81.3/385.0 MB 8.0 MB/s eta 0:00:39\n",
      "   -------- ------------------------------- 81.6/385.0 MB 8.0 MB/s eta 0:00:38\n",
      "   -------- ------------------------------- 82.0/385.0 MB 8.0 MB/s eta 0:00:38\n",
      "   -------- ------------------------------- 82.4/385.0 MB 8.0 MB/s eta 0:00:38\n",
      "   -------- ------------------------------- 82.7/385.0 MB 8.0 MB/s eta 0:00:38\n",
      "   -------- ------------------------------- 83.1/385.0 MB 8.1 MB/s eta 0:00:38\n",
      "   -------- ------------------------------- 83.4/385.0 MB 8.0 MB/s eta 0:00:38\n",
      "   -------- ------------------------------- 83.6/385.0 MB 7.9 MB/s eta 0:00:39\n",
      "   -------- ------------------------------- 83.6/385.0 MB 7.9 MB/s eta 0:00:39\n",
      "   -------- ------------------------------- 84.1/385.0 MB 7.7 MB/s eta 0:00:40\n",
      "   -------- ------------------------------- 84.3/385.0 MB 7.6 MB/s eta 0:00:40\n",
      "   -------- ------------------------------- 84.5/385.0 MB 7.5 MB/s eta 0:00:40\n",
      "   -------- ------------------------------- 84.8/385.0 MB 7.4 MB/s eta 0:00:41\n",
      "   -------- ------------------------------- 85.1/385.0 MB 7.4 MB/s eta 0:00:41\n",
      "   -------- ------------------------------- 85.3/385.0 MB 7.3 MB/s eta 0:00:42\n",
      "   -------- ------------------------------- 85.6/385.0 MB 7.3 MB/s eta 0:00:42\n",
      "   -------- ------------------------------- 85.9/385.0 MB 7.2 MB/s eta 0:00:42\n",
      "   -------- ------------------------------- 86.1/385.0 MB 7.1 MB/s eta 0:00:43\n",
      "   -------- ------------------------------- 86.4/385.0 MB 7.1 MB/s eta 0:00:42\n",
      "   --------- ------------------------------ 86.8/385.0 MB 7.0 MB/s eta 0:00:43\n",
      "   --------- ------------------------------ 87.1/385.0 MB 7.0 MB/s eta 0:00:43\n",
      "   --------- ------------------------------ 87.3/385.0 MB 7.0 MB/s eta 0:00:43\n",
      "   --------- ------------------------------ 87.6/385.0 MB 7.0 MB/s eta 0:00:43\n",
      "   --------- ------------------------------ 87.9/385.0 MB 6.9 MB/s eta 0:00:44\n",
      "   --------- ------------------------------ 88.2/385.0 MB 6.9 MB/s eta 0:00:44\n",
      "   --------- ------------------------------ 88.5/385.0 MB 6.8 MB/s eta 0:00:44\n",
      "   --------- ------------------------------ 88.9/385.0 MB 6.8 MB/s eta 0:00:44\n",
      "   --------- ------------------------------ 89.2/385.0 MB 6.7 MB/s eta 0:00:44\n",
      "   --------- ------------------------------ 89.5/385.0 MB 6.7 MB/s eta 0:00:45\n",
      "   --------- ------------------------------ 89.8/385.0 MB 6.7 MB/s eta 0:00:45\n",
      "   --------- ------------------------------ 90.1/385.0 MB 6.6 MB/s eta 0:00:45\n",
      "   --------- ------------------------------ 90.4/385.0 MB 6.6 MB/s eta 0:00:45\n",
      "   --------- ------------------------------ 90.7/385.0 MB 6.6 MB/s eta 0:00:45\n",
      "   --------- ------------------------------ 91.0/385.0 MB 6.5 MB/s eta 0:00:45\n",
      "   --------- ------------------------------ 91.4/385.0 MB 6.5 MB/s eta 0:00:46\n",
      "   --------- ------------------------------ 91.7/385.0 MB 6.5 MB/s eta 0:00:46\n",
      "   --------- ------------------------------ 92.0/385.0 MB 6.4 MB/s eta 0:00:46\n",
      "   --------- ------------------------------ 92.3/385.0 MB 6.4 MB/s eta 0:00:46\n",
      "   --------- ------------------------------ 92.5/385.0 MB 6.4 MB/s eta 0:00:47\n",
      "   --------- ------------------------------ 92.7/385.0 MB 6.2 MB/s eta 0:00:48\n",
      "   --------- ------------------------------ 93.0/385.0 MB 6.2 MB/s eta 0:00:48\n",
      "   --------- ------------------------------ 93.3/385.0 MB 6.1 MB/s eta 0:00:48\n",
      "   --------- ------------------------------ 93.6/385.0 MB 6.1 MB/s eta 0:00:48\n",
      "   --------- ------------------------------ 93.9/385.0 MB 6.4 MB/s eta 0:00:46\n",
      "   --------- ------------------------------ 94.3/385.0 MB 6.3 MB/s eta 0:00:47\n",
      "   --------- ------------------------------ 94.6/385.0 MB 6.4 MB/s eta 0:00:46\n",
      "   --------- ------------------------------ 95.0/385.0 MB 6.5 MB/s eta 0:00:45\n",
      "   --------- ------------------------------ 95.4/385.0 MB 6.6 MB/s eta 0:00:44\n",
      "   --------- ------------------------------ 95.7/385.0 MB 6.7 MB/s eta 0:00:44\n",
      "   --------- ------------------------------ 96.0/385.0 MB 6.7 MB/s eta 0:00:44\n",
      "   ---------- ----------------------------- 96.4/385.0 MB 6.8 MB/s eta 0:00:43\n",
      "   ---------- ----------------------------- 96.8/385.0 MB 6.7 MB/s eta 0:00:43\n",
      "   ---------- ----------------------------- 97.1/385.0 MB 6.8 MB/s eta 0:00:43\n",
      "   ---------- ----------------------------- 97.5/385.0 MB 6.9 MB/s eta 0:00:42\n",
      "   ---------- ----------------------------- 97.8/385.0 MB 6.9 MB/s eta 0:00:42\n",
      "   ---------- ----------------------------- 98.1/385.0 MB 6.9 MB/s eta 0:00:42\n",
      "   ---------- ----------------------------- 98.5/385.0 MB 7.0 MB/s eta 0:00:42\n",
      "   ---------- ----------------------------- 98.8/385.0 MB 7.0 MB/s eta 0:00:42\n",
      "   ---------- ----------------------------- 99.2/385.0 MB 7.0 MB/s eta 0:00:41\n",
      "   ---------- ----------------------------- 99.6/385.0 MB 7.2 MB/s eta 0:00:40\n",
      "   ---------- ----------------------------- 100.0/385.0 MB 7.2 MB/s eta 0:00:40\n",
      "   ---------- ----------------------------- 100.3/385.0 MB 7.2 MB/s eta 0:00:40\n",
      "   ---------- ----------------------------- 100.7/385.0 MB 7.2 MB/s eta 0:00:40\n",
      "   ---------- ----------------------------- 101.0/385.0 MB 7.3 MB/s eta 0:00:40\n",
      "   ---------- ----------------------------- 101.3/385.0 MB 7.3 MB/s eta 0:00:39\n",
      "   ---------- ----------------------------- 101.7/385.0 MB 7.3 MB/s eta 0:00:39\n",
      "   ---------- ----------------------------- 102.1/385.0 MB 7.3 MB/s eta 0:00:39\n",
      "   ---------- ----------------------------- 102.5/385.0 MB 7.4 MB/s eta 0:00:39\n",
      "   ---------- ----------------------------- 102.8/385.0 MB 7.6 MB/s eta 0:00:38\n",
      "   ---------- ----------------------------- 103.2/385.0 MB 7.7 MB/s eta 0:00:37\n",
      "   ---------- ----------------------------- 103.6/385.0 MB 7.7 MB/s eta 0:00:37\n",
      "   ---------- ----------------------------- 104.0/385.0 MB 7.8 MB/s eta 0:00:37\n",
      "   ---------- ----------------------------- 104.3/385.0 MB 7.7 MB/s eta 0:00:37\n",
      "   ---------- ----------------------------- 104.7/385.0 MB 7.9 MB/s eta 0:00:36\n",
      "   ---------- ----------------------------- 105.0/385.0 MB 7.9 MB/s eta 0:00:36\n",
      "   ---------- ----------------------------- 105.4/385.0 MB 7.8 MB/s eta 0:00:36\n",
      "   ---------- ----------------------------- 105.8/385.0 MB 7.9 MB/s eta 0:00:36\n",
      "   ----------- ---------------------------- 106.2/385.0 MB 7.9 MB/s eta 0:00:36\n",
      "   ----------- ---------------------------- 106.6/385.0 MB 8.0 MB/s eta 0:00:35\n",
      "   ----------- ---------------------------- 106.9/385.0 MB 8.0 MB/s eta 0:00:35\n",
      "   ----------- ---------------------------- 107.3/385.0 MB 8.0 MB/s eta 0:00:35\n",
      "   ----------- ---------------------------- 107.7/385.0 MB 8.0 MB/s eta 0:00:35\n",
      "   ----------- ---------------------------- 108.0/385.0 MB 8.0 MB/s eta 0:00:35\n",
      "   ----------- ---------------------------- 108.4/385.0 MB 8.0 MB/s eta 0:00:35\n",
      "   ----------- ---------------------------- 108.8/385.0 MB 8.0 MB/s eta 0:00:35\n",
      "   ----------- ---------------------------- 109.1/385.0 MB 8.0 MB/s eta 0:00:35\n",
      "   ----------- ---------------------------- 109.5/385.0 MB 8.0 MB/s eta 0:00:35\n",
      "   ----------- ---------------------------- 109.9/385.0 MB 8.1 MB/s eta 0:00:35\n",
      "   ----------- ---------------------------- 110.3/385.0 MB 8.1 MB/s eta 0:00:34\n",
      "   ----------- ---------------------------- 110.7/385.0 MB 8.1 MB/s eta 0:00:34\n",
      "   ----------- ---------------------------- 111.0/385.0 MB 8.1 MB/s eta 0:00:34\n",
      "   ----------- ---------------------------- 111.4/385.0 MB 8.2 MB/s eta 0:00:34\n",
      "   ----------- ---------------------------- 111.8/385.0 MB 8.1 MB/s eta 0:00:34\n",
      "   ----------- ---------------------------- 112.2/385.0 MB 8.1 MB/s eta 0:00:34\n",
      "   ----------- ---------------------------- 112.6/385.0 MB 8.1 MB/s eta 0:00:34\n",
      "   ----------- ---------------------------- 113.0/385.0 MB 8.1 MB/s eta 0:00:34\n",
      "   ----------- ---------------------------- 113.4/385.0 MB 8.2 MB/s eta 0:00:34\n",
      "   ----------- ---------------------------- 113.7/385.0 MB 8.1 MB/s eta 0:00:34\n",
      "   ----------- ---------------------------- 114.1/385.0 MB 8.1 MB/s eta 0:00:34\n",
      "   ----------- ---------------------------- 114.5/385.0 MB 8.2 MB/s eta 0:00:34\n",
      "   ----------- ---------------------------- 114.9/385.0 MB 8.3 MB/s eta 0:00:33\n",
      "   ----------- ---------------------------- 115.3/385.0 MB 8.3 MB/s eta 0:00:33\n",
      "   ------------ --------------------------- 115.7/385.0 MB 8.3 MB/s eta 0:00:33\n",
      "   ------------ --------------------------- 116.1/385.0 MB 8.3 MB/s eta 0:00:33\n",
      "   ------------ --------------------------- 116.5/385.0 MB 8.3 MB/s eta 0:00:33\n",
      "   ------------ --------------------------- 116.9/385.0 MB 8.3 MB/s eta 0:00:33\n",
      "   ------------ --------------------------- 117.2/385.0 MB 8.3 MB/s eta 0:00:33\n",
      "   ------------ --------------------------- 117.6/385.0 MB 8.3 MB/s eta 0:00:33\n",
      "   ------------ --------------------------- 118.0/385.0 MB 8.3 MB/s eta 0:00:33\n",
      "   ------------ --------------------------- 118.4/385.0 MB 8.3 MB/s eta 0:00:33\n",
      "   ------------ --------------------------- 118.8/385.0 MB 8.3 MB/s eta 0:00:33\n",
      "   ------------ --------------------------- 119.1/385.0 MB 8.3 MB/s eta 0:00:33\n",
      "   ------------ --------------------------- 119.5/385.0 MB 8.3 MB/s eta 0:00:33\n",
      "   ------------ --------------------------- 119.9/385.0 MB 8.4 MB/s eta 0:00:32\n",
      "   ------------ --------------------------- 120.3/385.0 MB 8.3 MB/s eta 0:00:32\n",
      "   ------------ --------------------------- 120.7/385.0 MB 8.5 MB/s eta 0:00:32\n",
      "   ------------ --------------------------- 121.0/385.0 MB 8.4 MB/s eta 0:00:32\n",
      "   ------------ --------------------------- 121.4/385.0 MB 8.4 MB/s eta 0:00:32\n",
      "   ------------ --------------------------- 121.8/385.0 MB 8.4 MB/s eta 0:00:32\n",
      "   ------------ --------------------------- 122.2/385.0 MB 8.4 MB/s eta 0:00:32\n",
      "   ------------ --------------------------- 122.5/385.0 MB 8.4 MB/s eta 0:00:32\n",
      "   ------------ --------------------------- 122.9/385.0 MB 8.3 MB/s eta 0:00:32\n",
      "   ------------ --------------------------- 123.3/385.0 MB 8.3 MB/s eta 0:00:32\n",
      "   ------------ --------------------------- 123.7/385.0 MB 8.3 MB/s eta 0:00:32\n",
      "   ------------ --------------------------- 124.1/385.0 MB 8.4 MB/s eta 0:00:32\n",
      "   ------------ --------------------------- 124.5/385.0 MB 8.4 MB/s eta 0:00:32\n",
      "   ------------ --------------------------- 124.9/385.0 MB 8.3 MB/s eta 0:00:32\n",
      "   ------------- -------------------------- 125.2/385.0 MB 8.3 MB/s eta 0:00:32\n",
      "   ------------- -------------------------- 125.6/385.0 MB 8.3 MB/s eta 0:00:32\n",
      "   ------------- -------------------------- 126.0/385.0 MB 8.3 MB/s eta 0:00:32\n",
      "   ------------- -------------------------- 126.4/385.0 MB 8.4 MB/s eta 0:00:31\n",
      "   ------------- -------------------------- 126.7/385.0 MB 8.2 MB/s eta 0:00:32\n",
      "   ------------- -------------------------- 127.2/385.0 MB 8.3 MB/s eta 0:00:32\n",
      "   ------------- -------------------------- 127.5/385.0 MB 8.3 MB/s eta 0:00:32\n",
      "   ------------- -------------------------- 127.9/385.0 MB 8.2 MB/s eta 0:00:32\n",
      "   ------------- -------------------------- 128.3/385.0 MB 8.3 MB/s eta 0:00:31\n",
      "   ------------- -------------------------- 128.7/385.0 MB 8.3 MB/s eta 0:00:31\n",
      "   ------------- -------------------------- 129.1/385.0 MB 8.3 MB/s eta 0:00:31\n",
      "   ------------- -------------------------- 129.5/385.0 MB 8.3 MB/s eta 0:00:31\n",
      "   ------------- -------------------------- 129.8/385.0 MB 8.3 MB/s eta 0:00:31\n",
      "   ------------- -------------------------- 130.3/385.0 MB 8.3 MB/s eta 0:00:31\n",
      "   ------------- -------------------------- 130.7/385.0 MB 8.4 MB/s eta 0:00:31\n",
      "   ------------- -------------------------- 131.0/385.0 MB 8.4 MB/s eta 0:00:31\n",
      "   ------------- -------------------------- 131.4/385.0 MB 8.4 MB/s eta 0:00:31\n",
      "   ------------- -------------------------- 131.8/385.0 MB 8.4 MB/s eta 0:00:31\n",
      "   ------------- -------------------------- 132.3/385.0 MB 8.4 MB/s eta 0:00:31\n",
      "   ------------- -------------------------- 132.7/385.0 MB 8.4 MB/s eta 0:00:31\n",
      "   ------------- -------------------------- 133.1/385.0 MB 8.4 MB/s eta 0:00:31\n",
      "   ------------- -------------------------- 133.5/385.0 MB 8.4 MB/s eta 0:00:30\n",
      "   ------------- -------------------------- 133.9/385.0 MB 8.5 MB/s eta 0:00:30\n",
      "   ------------- -------------------------- 134.4/385.0 MB 8.5 MB/s eta 0:00:30\n",
      "   -------------- ------------------------- 134.8/385.0 MB 8.5 MB/s eta 0:00:30\n",
      "   -------------- ------------------------- 135.2/385.0 MB 8.6 MB/s eta 0:00:29\n",
      "   -------------- ------------------------- 135.6/385.0 MB 8.6 MB/s eta 0:00:29\n",
      "   -------------- ------------------------- 136.0/385.0 MB 8.6 MB/s eta 0:00:29\n",
      "   -------------- ------------------------- 136.4/385.0 MB 8.6 MB/s eta 0:00:29\n",
      "   -------------- ------------------------- 136.8/385.0 MB 8.6 MB/s eta 0:00:29\n",
      "   -------------- ------------------------- 137.2/385.0 MB 8.6 MB/s eta 0:00:29\n",
      "   -------------- ------------------------- 137.6/385.0 MB 8.7 MB/s eta 0:00:29\n",
      "   -------------- ------------------------- 138.0/385.0 MB 8.7 MB/s eta 0:00:29\n",
      "   -------------- ------------------------- 138.5/385.0 MB 8.7 MB/s eta 0:00:29\n",
      "   -------------- ------------------------- 138.9/385.0 MB 8.7 MB/s eta 0:00:29\n",
      "   -------------- ------------------------- 139.3/385.0 MB 8.8 MB/s eta 0:00:28\n",
      "   -------------- ------------------------- 139.7/385.0 MB 8.8 MB/s eta 0:00:28\n",
      "   -------------- ------------------------- 140.1/385.0 MB 8.8 MB/s eta 0:00:28\n",
      "   -------------- ------------------------- 140.5/385.0 MB 8.8 MB/s eta 0:00:28\n",
      "   -------------- ------------------------- 141.0/385.0 MB 9.0 MB/s eta 0:00:28\n",
      "   -------------- ------------------------- 141.3/385.0 MB 9.0 MB/s eta 0:00:28\n",
      "   -------------- ------------------------- 141.8/385.0 MB 9.0 MB/s eta 0:00:28\n",
      "   -------------- ------------------------- 142.2/385.0 MB 9.0 MB/s eta 0:00:28\n",
      "   -------------- ------------------------- 142.7/385.0 MB 9.1 MB/s eta 0:00:27\n",
      "   -------------- ------------------------- 143.0/385.0 MB 9.1 MB/s eta 0:00:27\n",
      "   -------------- ------------------------- 143.4/385.0 MB 9.0 MB/s eta 0:00:27\n",
      "   -------------- ------------------------- 143.9/385.0 MB 9.0 MB/s eta 0:00:27\n",
      "   -------------- ------------------------- 144.3/385.0 MB 9.0 MB/s eta 0:00:27\n",
      "   --------------- ------------------------ 144.8/385.0 MB 9.1 MB/s eta 0:00:27\n",
      "   --------------- ------------------------ 145.1/385.0 MB 9.1 MB/s eta 0:00:27\n",
      "   --------------- ------------------------ 145.5/385.0 MB 9.1 MB/s eta 0:00:27\n",
      "   --------------- ------------------------ 145.9/385.0 MB 9.0 MB/s eta 0:00:27\n",
      "   --------------- ------------------------ 146.4/385.0 MB 9.0 MB/s eta 0:00:27\n",
      "   --------------- ------------------------ 146.8/385.0 MB 9.1 MB/s eta 0:00:27\n",
      "   --------------- ------------------------ 147.3/385.0 MB 9.2 MB/s eta 0:00:26\n",
      "   --------------- ------------------------ 147.7/385.0 MB 9.2 MB/s eta 0:00:26\n",
      "   --------------- ------------------------ 148.1/385.0 MB 9.2 MB/s eta 0:00:26\n",
      "   --------------- ------------------------ 148.6/385.0 MB 9.2 MB/s eta 0:00:26\n",
      "   --------------- ------------------------ 149.0/385.0 MB 9.2 MB/s eta 0:00:26\n",
      "   --------------- ------------------------ 149.5/385.0 MB 9.2 MB/s eta 0:00:26\n",
      "   --------------- ------------------------ 149.9/385.0 MB 9.4 MB/s eta 0:00:26\n",
      "   --------------- ------------------------ 150.4/385.0 MB 9.4 MB/s eta 0:00:26\n",
      "   --------------- ------------------------ 150.8/385.0 MB 9.4 MB/s eta 0:00:26\n",
      "   --------------- ------------------------ 151.3/385.0 MB 9.4 MB/s eta 0:00:25\n",
      "   --------------- ------------------------ 151.8/385.0 MB 9.4 MB/s eta 0:00:25\n",
      "   --------------- ------------------------ 152.2/385.0 MB 9.4 MB/s eta 0:00:25\n",
      "   --------------- ------------------------ 152.6/385.0 MB 9.4 MB/s eta 0:00:25\n",
      "   --------------- ------------------------ 153.0/385.0 MB 9.4 MB/s eta 0:00:25\n",
      "   --------------- ------------------------ 153.5/385.0 MB 9.5 MB/s eta 0:00:25\n",
      "   --------------- ------------------------ 154.0/385.0 MB 9.5 MB/s eta 0:00:25\n",
      "   ---------------- ----------------------- 154.4/385.0 MB 9.5 MB/s eta 0:00:25\n",
      "   ---------------- ----------------------- 154.8/385.0 MB 9.6 MB/s eta 0:00:24\n",
      "   ---------------- ----------------------- 155.3/385.0 MB 9.6 MB/s eta 0:00:24\n",
      "   ---------------- ----------------------- 155.8/385.0 MB 9.8 MB/s eta 0:00:24\n",
      "   ---------------- ----------------------- 156.2/385.0 MB 9.8 MB/s eta 0:00:24\n",
      "   ---------------- ----------------------- 156.7/385.0 MB 9.8 MB/s eta 0:00:24\n",
      "   ---------------- ----------------------- 157.1/385.0 MB 9.8 MB/s eta 0:00:24\n",
      "   ---------------- ----------------------- 157.6/385.0 MB 9.8 MB/s eta 0:00:24\n",
      "   ---------------- ----------------------- 158.0/385.0 MB 9.8 MB/s eta 0:00:24\n",
      "   ---------------- ----------------------- 158.4/385.0 MB 9.8 MB/s eta 0:00:24\n",
      "   ---------------- ----------------------- 158.9/385.0 MB 9.8 MB/s eta 0:00:24\n",
      "   ---------------- ----------------------- 159.1/385.0 MB 9.5 MB/s eta 0:00:24\n",
      "   ---------------- ----------------------- 159.4/385.0 MB 9.4 MB/s eta 0:00:25\n",
      "   ---------------- ----------------------- 159.9/385.0 MB 9.4 MB/s eta 0:00:25\n",
      "   ---------------- ----------------------- 160.2/385.0 MB 9.2 MB/s eta 0:00:25\n",
      "   ---------------- ----------------------- 160.7/385.0 MB 9.2 MB/s eta 0:00:25\n",
      "   ---------------- ----------------------- 161.1/385.0 MB 9.2 MB/s eta 0:00:25\n",
      "   ---------------- ----------------------- 161.6/385.0 MB 9.4 MB/s eta 0:00:24\n",
      "   ---------------- ----------------------- 162.0/385.0 MB 9.4 MB/s eta 0:00:24\n",
      "   ---------------- ----------------------- 162.5/385.0 MB 9.5 MB/s eta 0:00:24\n",
      "   ---------------- ----------------------- 163.0/385.0 MB 9.5 MB/s eta 0:00:24\n",
      "   ---------------- ----------------------- 163.4/385.0 MB 9.5 MB/s eta 0:00:24\n",
      "   ----------------- ---------------------- 163.9/385.0 MB 9.5 MB/s eta 0:00:24\n",
      "   ----------------- ---------------------- 164.4/385.0 MB 9.5 MB/s eta 0:00:24\n",
      "   ----------------- ---------------------- 164.9/385.0 MB 9.5 MB/s eta 0:00:24\n",
      "   ----------------- ---------------------- 165.3/385.0 MB 9.5 MB/s eta 0:00:24\n",
      "   ----------------- ---------------------- 165.8/385.0 MB 9.5 MB/s eta 0:00:24\n",
      "   ----------------- ---------------------- 166.3/385.0 MB 9.5 MB/s eta 0:00:24\n",
      "   ----------------- ---------------------- 166.7/385.0 MB 9.5 MB/s eta 0:00:23\n",
      "   ----------------- ---------------------- 167.1/385.0 MB 9.5 MB/s eta 0:00:23\n",
      "   ----------------- ---------------------- 167.6/385.0 MB 9.5 MB/s eta 0:00:23\n",
      "   ----------------- ---------------------- 168.1/385.0 MB 9.6 MB/s eta 0:00:23\n",
      "   ----------------- ---------------------- 168.6/385.0 MB 9.6 MB/s eta 0:00:23\n",
      "   ----------------- ---------------------- 169.1/385.0 MB 9.6 MB/s eta 0:00:23\n",
      "   ----------------- ---------------------- 169.6/385.0 MB 9.9 MB/s eta 0:00:22\n",
      "   ----------------- --------------------- 170.1/385.0 MB 10.1 MB/s eta 0:00:22\n",
      "   ----------------- --------------------- 170.6/385.0 MB 10.2 MB/s eta 0:00:21\n",
      "   ----------------- --------------------- 171.1/385.0 MB 10.4 MB/s eta 0:00:21\n",
      "   ----------------- --------------------- 171.5/385.0 MB 10.4 MB/s eta 0:00:21\n",
      "   ----------------- --------------------- 172.0/385.0 MB 10.4 MB/s eta 0:00:21\n",
      "   ----------------- --------------------- 172.5/385.0 MB 10.4 MB/s eta 0:00:21\n",
      "   ----------------- --------------------- 173.0/385.0 MB 10.4 MB/s eta 0:00:21\n",
      "   ----------------- --------------------- 173.5/385.0 MB 10.6 MB/s eta 0:00:21\n",
      "   ----------------- --------------------- 174.1/385.0 MB 10.6 MB/s eta 0:00:20\n",
      "   ----------------- --------------------- 174.6/385.0 MB 10.6 MB/s eta 0:00:20\n",
      "   ----------------- --------------------- 175.1/385.0 MB 10.6 MB/s eta 0:00:20\n",
      "   ----------------- --------------------- 175.6/385.0 MB 10.6 MB/s eta 0:00:20\n",
      "   ----------------- --------------------- 176.1/385.0 MB 10.6 MB/s eta 0:00:20\n",
      "   ----------------- --------------------- 176.6/385.0 MB 10.7 MB/s eta 0:00:20\n",
      "   ----------------- --------------------- 177.1/385.0 MB 10.7 MB/s eta 0:00:20\n",
      "   ----------------- --------------------- 177.6/385.0 MB 10.7 MB/s eta 0:00:20\n",
      "   ------------------ -------------------- 178.1/385.0 MB 10.7 MB/s eta 0:00:20\n",
      "   ------------------ -------------------- 178.6/385.0 MB 10.7 MB/s eta 0:00:20\n",
      "   ------------------ -------------------- 179.1/385.0 MB 10.7 MB/s eta 0:00:20\n",
      "   ------------------ -------------------- 179.7/385.0 MB 10.9 MB/s eta 0:00:19\n",
      "   ------------------ -------------------- 180.2/385.0 MB 10.9 MB/s eta 0:00:19\n",
      "   ------------------ -------------------- 180.7/385.0 MB 10.9 MB/s eta 0:00:19\n",
      "   ------------------ -------------------- 181.2/385.0 MB 10.9 MB/s eta 0:00:19\n",
      "   ------------------ -------------------- 181.7/385.0 MB 10.9 MB/s eta 0:00:19\n",
      "   ------------------ -------------------- 182.1/385.0 MB 10.9 MB/s eta 0:00:19\n",
      "   ------------------ -------------------- 182.7/385.0 MB 10.9 MB/s eta 0:00:19\n",
      "   ------------------ -------------------- 183.2/385.0 MB 10.9 MB/s eta 0:00:19\n",
      "   ------------------ -------------------- 183.7/385.0 MB 10.9 MB/s eta 0:00:19\n",
      "   ------------------ -------------------- 184.2/385.0 MB 10.9 MB/s eta 0:00:19\n",
      "   ------------------ -------------------- 184.7/385.0 MB 10.9 MB/s eta 0:00:19\n",
      "   ------------------ -------------------- 185.2/385.0 MB 10.9 MB/s eta 0:00:19\n",
      "   ------------------ -------------------- 185.7/385.0 MB 11.1 MB/s eta 0:00:18\n",
      "   ------------------ -------------------- 186.3/385.0 MB 11.1 MB/s eta 0:00:18\n",
      "   ------------------ -------------------- 186.8/385.0 MB 11.1 MB/s eta 0:00:18\n",
      "   ------------------ -------------------- 187.3/385.0 MB 11.1 MB/s eta 0:00:18\n",
      "   ------------------- ------------------- 187.9/385.0 MB 11.3 MB/s eta 0:00:18\n",
      "   ------------------- ------------------- 188.4/385.0 MB 11.3 MB/s eta 0:00:18\n",
      "   ------------------- ------------------- 188.9/385.0 MB 11.3 MB/s eta 0:00:18\n",
      "   ------------------- ------------------- 189.5/385.0 MB 11.3 MB/s eta 0:00:18\n",
      "   ------------------- ------------------- 190.0/385.0 MB 11.3 MB/s eta 0:00:18\n",
      "   ------------------- ------------------- 190.5/385.0 MB 11.3 MB/s eta 0:00:18\n",
      "   ------------------- ------------------- 191.0/385.0 MB 11.3 MB/s eta 0:00:18\n",
      "   ------------------- ------------------- 191.5/385.0 MB 11.3 MB/s eta 0:00:18\n",
      "   ------------------- ------------------- 192.1/385.0 MB 11.3 MB/s eta 0:00:18\n",
      "   ------------------- ------------------- 192.6/385.0 MB 11.3 MB/s eta 0:00:18\n",
      "   ------------------- ------------------- 193.2/385.0 MB 11.3 MB/s eta 0:00:17\n",
      "   ------------------- ------------------- 193.7/385.0 MB 11.5 MB/s eta 0:00:17\n",
      "   ------------------- ------------------- 194.2/385.0 MB 11.5 MB/s eta 0:00:17\n",
      "   ------------------- ------------------- 194.8/385.0 MB 11.5 MB/s eta 0:00:17\n",
      "   ------------------- ------------------- 195.3/385.0 MB 11.7 MB/s eta 0:00:17\n",
      "   ------------------- ------------------- 195.8/385.0 MB 11.7 MB/s eta 0:00:17\n",
      "   ------------------- ------------------- 196.4/385.0 MB 11.7 MB/s eta 0:00:17\n",
      "   ------------------- ------------------- 196.9/385.0 MB 11.5 MB/s eta 0:00:17\n",
      "   ------------------- ------------------- 197.3/385.0 MB 11.5 MB/s eta 0:00:17\n",
      "   -------------------- ------------------ 197.9/385.0 MB 11.5 MB/s eta 0:00:17\n",
      "   -------------------- ------------------ 198.4/385.0 MB 11.5 MB/s eta 0:00:17\n",
      "   -------------------- ------------------ 198.8/385.0 MB 11.3 MB/s eta 0:00:17\n",
      "   -------------------- ------------------ 199.0/385.0 MB 11.3 MB/s eta 0:00:17\n",
      "   -------------------- ------------------ 199.6/385.0 MB 11.1 MB/s eta 0:00:17\n",
      "   -------------------- ------------------ 199.9/385.0 MB 10.7 MB/s eta 0:00:18\n",
      "   -------------------- ------------------ 200.2/385.0 MB 10.6 MB/s eta 0:00:18\n",
      "   -------------------- ------------------ 200.6/385.0 MB 10.4 MB/s eta 0:00:18\n",
      "   -------------------- ------------------ 200.9/385.0 MB 10.4 MB/s eta 0:00:18\n",
      "   -------------------- ------------------ 201.2/385.0 MB 10.2 MB/s eta 0:00:18\n",
      "   -------------------- ------------------- 201.5/385.0 MB 9.9 MB/s eta 0:00:19\n",
      "   -------------------- ------------------- 201.9/385.0 MB 9.8 MB/s eta 0:00:19\n",
      "   --------------------- ------------------ 202.2/385.0 MB 9.6 MB/s eta 0:00:19\n",
      "   --------------------- ------------------ 202.5/385.0 MB 9.5 MB/s eta 0:00:20\n",
      "   --------------------- ------------------ 202.8/385.0 MB 9.4 MB/s eta 0:00:20\n",
      "   --------------------- ------------------ 203.2/385.0 MB 9.2 MB/s eta 0:00:20\n",
      "   --------------------- ------------------ 203.5/385.0 MB 9.0 MB/s eta 0:00:21\n",
      "   --------------------- ------------------ 203.8/385.0 MB 8.8 MB/s eta 0:00:21\n",
      "   --------------------- ------------------ 204.1/385.0 MB 8.7 MB/s eta 0:00:21\n",
      "   --------------------- ------------------ 204.4/385.0 MB 8.6 MB/s eta 0:00:21\n",
      "   --------------------- ------------------ 204.8/385.0 MB 8.4 MB/s eta 0:00:22\n",
      "   --------------------- ------------------ 205.1/385.0 MB 8.3 MB/s eta 0:00:22\n",
      "   --------------------- ------------------ 205.3/385.0 MB 8.2 MB/s eta 0:00:22\n",
      "   --------------------- ------------------ 205.6/385.0 MB 8.1 MB/s eta 0:00:23\n",
      "   --------------------- ------------------ 206.0/385.0 MB 8.0 MB/s eta 0:00:23\n",
      "   --------------------- ------------------ 206.3/385.0 MB 7.9 MB/s eta 0:00:23\n",
      "   --------------------- ------------------ 206.7/385.0 MB 7.8 MB/s eta 0:00:23\n",
      "   --------------------- ------------------ 207.1/385.0 MB 7.7 MB/s eta 0:00:24\n",
      "   --------------------- ------------------ 207.4/385.0 MB 7.6 MB/s eta 0:00:24\n",
      "   --------------------- ------------------ 207.7/385.0 MB 7.7 MB/s eta 0:00:24\n",
      "   --------------------- ------------------ 208.1/385.0 MB 7.4 MB/s eta 0:00:24\n",
      "   --------------------- ------------------ 208.4/385.0 MB 7.4 MB/s eta 0:00:25\n",
      "   --------------------- ------------------ 208.8/385.0 MB 7.3 MB/s eta 0:00:25\n",
      "   --------------------- ------------------ 209.2/385.0 MB 7.3 MB/s eta 0:00:25\n",
      "   --------------------- ------------------ 209.5/385.0 MB 7.3 MB/s eta 0:00:25\n",
      "   --------------------- ------------------ 209.8/385.0 MB 7.2 MB/s eta 0:00:25\n",
      "   --------------------- ------------------ 210.2/385.0 MB 7.3 MB/s eta 0:00:25\n",
      "   --------------------- ------------------ 210.5/385.0 MB 7.3 MB/s eta 0:00:25\n",
      "   --------------------- ------------------ 210.8/385.0 MB 7.3 MB/s eta 0:00:24\n",
      "   --------------------- ------------------ 211.2/385.0 MB 7.3 MB/s eta 0:00:24\n",
      "   --------------------- ------------------ 211.6/385.0 MB 7.4 MB/s eta 0:00:24\n",
      "   ---------------------- ----------------- 211.9/385.0 MB 7.4 MB/s eta 0:00:24\n",
      "   ---------------------- ----------------- 212.3/385.0 MB 7.4 MB/s eta 0:00:24\n",
      "   ---------------------- ----------------- 212.7/385.0 MB 7.4 MB/s eta 0:00:24\n",
      "   ---------------------- ----------------- 213.0/385.0 MB 7.4 MB/s eta 0:00:24\n",
      "   ---------------------- ----------------- 213.4/385.0 MB 7.4 MB/s eta 0:00:24\n",
      "   ---------------------- ----------------- 213.7/385.0 MB 7.4 MB/s eta 0:00:24\n",
      "   ---------------------- ----------------- 214.1/385.0 MB 7.4 MB/s eta 0:00:23\n",
      "   ---------------------- ----------------- 214.5/385.0 MB 7.5 MB/s eta 0:00:23\n",
      "   ---------------------- ----------------- 214.9/385.0 MB 7.6 MB/s eta 0:00:23\n",
      "   ---------------------- ----------------- 215.1/385.0 MB 7.6 MB/s eta 0:00:23\n",
      "   ---------------------- ----------------- 215.5/385.0 MB 7.6 MB/s eta 0:00:23\n",
      "   ---------------------- ----------------- 215.8/385.0 MB 7.6 MB/s eta 0:00:23\n",
      "   ---------------------- ----------------- 216.2/385.0 MB 7.7 MB/s eta 0:00:22\n",
      "   ---------------------- ----------------- 216.6/385.0 MB 7.7 MB/s eta 0:00:22\n",
      "   ---------------------- ----------------- 216.9/385.0 MB 7.7 MB/s eta 0:00:22\n",
      "   ---------------------- ----------------- 217.3/385.0 MB 7.8 MB/s eta 0:00:22\n",
      "   ---------------------- ----------------- 217.7/385.0 MB 7.8 MB/s eta 0:00:22\n",
      "   ---------------------- ----------------- 218.0/385.0 MB 7.8 MB/s eta 0:00:22\n",
      "   ---------------------- ----------------- 218.4/385.0 MB 7.7 MB/s eta 0:00:22\n",
      "   ---------------------- ----------------- 218.7/385.0 MB 7.7 MB/s eta 0:00:22\n",
      "   ---------------------- ----------------- 219.1/385.0 MB 7.8 MB/s eta 0:00:22\n",
      "   ---------------------- ----------------- 219.3/385.0 MB 7.7 MB/s eta 0:00:22\n",
      "   ---------------------- ----------------- 219.6/385.0 MB 7.6 MB/s eta 0:00:22\n",
      "   ---------------------- ----------------- 220.0/385.0 MB 7.6 MB/s eta 0:00:22\n",
      "   ---------------------- ----------------- 220.3/385.0 MB 7.6 MB/s eta 0:00:22\n",
      "   ---------------------- ----------------- 220.7/385.0 MB 7.7 MB/s eta 0:00:22\n",
      "   ---------------------- ----------------- 221.1/385.0 MB 7.7 MB/s eta 0:00:22\n",
      "   ----------------------- ---------------- 221.5/385.0 MB 7.8 MB/s eta 0:00:21\n",
      "   ----------------------- ---------------- 221.8/385.0 MB 7.8 MB/s eta 0:00:21\n",
      "   ----------------------- ---------------- 222.2/385.0 MB 7.8 MB/s eta 0:00:21\n",
      "   ----------------------- ---------------- 222.6/385.0 MB 7.8 MB/s eta 0:00:21\n",
      "   ----------------------- ---------------- 223.0/385.0 MB 7.8 MB/s eta 0:00:21\n",
      "   ----------------------- ---------------- 223.3/385.0 MB 7.8 MB/s eta 0:00:21\n",
      "   ----------------------- ---------------- 223.7/385.0 MB 7.8 MB/s eta 0:00:21\n",
      "   ----------------------- ---------------- 224.1/385.0 MB 7.8 MB/s eta 0:00:21\n",
      "   ----------------------- ---------------- 224.5/385.0 MB 7.8 MB/s eta 0:00:21\n",
      "   ----------------------- ---------------- 224.8/385.0 MB 7.9 MB/s eta 0:00:21\n",
      "   ----------------------- ---------------- 225.2/385.0 MB 7.9 MB/s eta 0:00:21\n",
      "   ----------------------- ---------------- 225.6/385.0 MB 8.0 MB/s eta 0:00:20\n",
      "   ----------------------- ---------------- 226.0/385.0 MB 8.0 MB/s eta 0:00:20\n",
      "   ----------------------- ---------------- 226.4/385.0 MB 8.0 MB/s eta 0:00:20\n",
      "   ----------------------- ---------------- 226.8/385.0 MB 8.0 MB/s eta 0:00:20\n",
      "   ----------------------- ---------------- 227.1/385.0 MB 8.0 MB/s eta 0:00:20\n",
      "   ----------------------- ---------------- 227.5/385.0 MB 8.0 MB/s eta 0:00:20\n",
      "   ----------------------- ---------------- 227.9/385.0 MB 8.0 MB/s eta 0:00:20\n",
      "   ----------------------- ---------------- 228.3/385.0 MB 8.1 MB/s eta 0:00:20\n",
      "   ----------------------- ---------------- 228.7/385.0 MB 8.1 MB/s eta 0:00:20\n",
      "   ----------------------- ---------------- 229.1/385.0 MB 8.1 MB/s eta 0:00:20\n",
      "   ----------------------- ---------------- 229.5/385.0 MB 8.1 MB/s eta 0:00:20\n",
      "   ----------------------- ---------------- 229.9/385.0 MB 8.3 MB/s eta 0:00:19\n",
      "   ----------------------- ---------------- 230.3/385.0 MB 8.3 MB/s eta 0:00:19\n",
      "   ----------------------- ---------------- 230.6/385.0 MB 8.3 MB/s eta 0:00:19\n",
      "   ------------------------ --------------- 231.1/385.0 MB 8.3 MB/s eta 0:00:19\n",
      "   ------------------------ --------------- 231.5/385.0 MB 8.3 MB/s eta 0:00:19\n",
      "   ------------------------ --------------- 231.8/385.0 MB 8.4 MB/s eta 0:00:19\n",
      "   ------------------------ --------------- 232.2/385.0 MB 8.4 MB/s eta 0:00:19\n",
      "   ------------------------ --------------- 232.6/385.0 MB 8.5 MB/s eta 0:00:18\n",
      "   ------------------------ --------------- 233.0/385.0 MB 8.5 MB/s eta 0:00:18\n",
      "   ------------------------ --------------- 233.4/385.0 MB 8.5 MB/s eta 0:00:18\n",
      "   ------------------------ --------------- 233.8/385.0 MB 8.5 MB/s eta 0:00:18\n",
      "   ------------------------ --------------- 234.2/385.0 MB 8.5 MB/s eta 0:00:18\n",
      "   ------------------------ --------------- 234.6/385.0 MB 8.5 MB/s eta 0:00:18\n",
      "   ------------------------ --------------- 235.0/385.0 MB 8.5 MB/s eta 0:00:18\n",
      "   ------------------------ --------------- 235.4/385.0 MB 8.5 MB/s eta 0:00:18\n",
      "   ------------------------ --------------- 235.8/385.0 MB 8.5 MB/s eta 0:00:18\n",
      "   ------------------------ --------------- 236.2/385.0 MB 8.5 MB/s eta 0:00:18\n",
      "   ------------------------ --------------- 236.6/385.0 MB 8.6 MB/s eta 0:00:18\n",
      "   ------------------------ --------------- 237.0/385.0 MB 8.6 MB/s eta 0:00:18\n",
      "   ------------------------ --------------- 237.5/385.0 MB 8.6 MB/s eta 0:00:18\n",
      "   ------------------------ --------------- 237.8/385.0 MB 8.6 MB/s eta 0:00:18\n",
      "   ------------------------ --------------- 238.3/385.0 MB 8.6 MB/s eta 0:00:18\n",
      "   ------------------------ --------------- 238.6/385.0 MB 8.6 MB/s eta 0:00:17\n",
      "   ------------------------ --------------- 239.1/385.0 MB 8.6 MB/s eta 0:00:17\n",
      "   ------------------------ --------------- 239.5/385.0 MB 8.6 MB/s eta 0:00:17\n",
      "   ------------------------ --------------- 239.9/385.0 MB 8.6 MB/s eta 0:00:17\n",
      "   ------------------------ --------------- 240.3/385.0 MB 8.7 MB/s eta 0:00:17\n",
      "   ------------------------- -------------- 240.7/385.0 MB 8.7 MB/s eta 0:00:17\n",
      "   ------------------------- -------------- 241.0/385.0 MB 8.7 MB/s eta 0:00:17\n",
      "   ------------------------- -------------- 241.4/385.0 MB 8.7 MB/s eta 0:00:17\n",
      "   ------------------------- -------------- 241.9/385.0 MB 8.7 MB/s eta 0:00:17\n",
      "   ------------------------- -------------- 242.3/385.0 MB 8.7 MB/s eta 0:00:17\n",
      "   ------------------------- -------------- 242.7/385.0 MB 8.7 MB/s eta 0:00:17\n",
      "   ------------------------- -------------- 243.1/385.0 MB 8.8 MB/s eta 0:00:17\n",
      "   ------------------------- -------------- 243.6/385.0 MB 8.8 MB/s eta 0:00:16\n",
      "   ------------------------- -------------- 243.8/385.0 MB 8.7 MB/s eta 0:00:17\n",
      "   ------------------------- -------------- 243.8/385.0 MB 8.6 MB/s eta 0:00:17\n",
      "   ------------------------- -------------- 244.4/385.0 MB 8.5 MB/s eta 0:00:17\n",
      "   ------------------------- -------------- 244.7/385.0 MB 8.4 MB/s eta 0:00:17\n",
      "   ------------------------- -------------- 244.9/385.0 MB 8.3 MB/s eta 0:00:17\n",
      "   ------------------------- -------------- 245.2/385.0 MB 8.2 MB/s eta 0:00:18\n",
      "   ------------------------- -------------- 245.5/385.0 MB 8.1 MB/s eta 0:00:18\n",
      "   ------------------------- -------------- 245.8/385.0 MB 8.1 MB/s eta 0:00:18\n",
      "   ------------------------- -------------- 246.1/385.0 MB 8.1 MB/s eta 0:00:18\n",
      "   ------------------------- -------------- 246.5/385.0 MB 8.0 MB/s eta 0:00:18\n",
      "   ------------------------- -------------- 246.8/385.0 MB 7.9 MB/s eta 0:00:18\n",
      "   ------------------------- -------------- 247.1/385.0 MB 7.8 MB/s eta 0:00:18\n",
      "   ------------------------- -------------- 247.4/385.0 MB 7.7 MB/s eta 0:00:18\n",
      "   ------------------------- -------------- 247.6/385.0 MB 7.7 MB/s eta 0:00:18\n",
      "   ------------------------- -------------- 248.0/385.0 MB 7.6 MB/s eta 0:00:18\n",
      "   ------------------------- -------------- 248.3/385.0 MB 7.5 MB/s eta 0:00:19\n",
      "   ------------------------- -------------- 248.6/385.0 MB 7.5 MB/s eta 0:00:19\n",
      "   ------------------------- -------------- 249.0/385.0 MB 7.4 MB/s eta 0:00:19\n",
      "   ------------------------- -------------- 249.4/385.0 MB 7.4 MB/s eta 0:00:19\n",
      "   ------------------------- -------------- 249.7/385.0 MB 7.4 MB/s eta 0:00:19\n",
      "   ------------------------- -------------- 250.0/385.0 MB 7.4 MB/s eta 0:00:19\n",
      "   -------------------------- ------------- 250.4/385.0 MB 7.4 MB/s eta 0:00:19\n",
      "   -------------------------- ------------- 250.8/385.0 MB 7.4 MB/s eta 0:00:19\n",
      "   -------------------------- ------------- 251.1/385.0 MB 7.4 MB/s eta 0:00:19\n",
      "   -------------------------- ------------- 251.5/385.0 MB 7.4 MB/s eta 0:00:19\n",
      "   -------------------------- ------------- 251.8/385.0 MB 7.3 MB/s eta 0:00:19\n",
      "   -------------------------- ------------- 252.2/385.0 MB 7.3 MB/s eta 0:00:19\n",
      "   -------------------------- ------------- 252.6/385.0 MB 7.3 MB/s eta 0:00:19\n",
      "   -------------------------- ------------- 252.9/385.0 MB 7.2 MB/s eta 0:00:19\n",
      "   -------------------------- ------------- 253.3/385.0 MB 7.1 MB/s eta 0:00:19\n",
      "   -------------------------- ------------- 253.6/385.0 MB 7.1 MB/s eta 0:00:19\n",
      "   -------------------------- ------------- 254.0/385.0 MB 7.5 MB/s eta 0:00:18\n",
      "   -------------------------- ------------- 254.4/385.0 MB 7.3 MB/s eta 0:00:18\n",
      "   -------------------------- ------------- 254.8/385.0 MB 7.3 MB/s eta 0:00:18\n",
      "   -------------------------- ------------- 255.1/385.0 MB 7.4 MB/s eta 0:00:18\n",
      "   -------------------------- ------------- 255.5/385.0 MB 7.4 MB/s eta 0:00:18\n",
      "   -------------------------- ------------- 255.9/385.0 MB 7.5 MB/s eta 0:00:18\n",
      "   -------------------------- ------------- 256.3/385.0 MB 7.5 MB/s eta 0:00:18\n",
      "   -------------------------- ------------- 256.7/385.0 MB 7.6 MB/s eta 0:00:17\n",
      "   -------------------------- ------------- 257.0/385.0 MB 7.8 MB/s eta 0:00:17\n",
      "   -------------------------- ------------- 257.4/385.0 MB 7.8 MB/s eta 0:00:17\n",
      "   -------------------------- ------------- 257.8/385.0 MB 7.9 MB/s eta 0:00:17\n",
      "   -------------------------- ------------- 258.2/385.0 MB 8.0 MB/s eta 0:00:16\n",
      "   -------------------------- ------------- 258.6/385.0 MB 7.9 MB/s eta 0:00:17\n",
      "   -------------------------- ------------- 259.0/385.0 MB 8.1 MB/s eta 0:00:16\n",
      "   -------------------------- ------------- 259.4/385.0 MB 8.1 MB/s eta 0:00:16\n",
      "   -------------------------- ------------- 259.8/385.0 MB 8.1 MB/s eta 0:00:16\n",
      "   --------------------------- ------------ 260.2/385.0 MB 8.2 MB/s eta 0:00:16\n",
      "   --------------------------- ------------ 260.6/385.0 MB 8.2 MB/s eta 0:00:16\n",
      "   --------------------------- ------------ 261.0/385.0 MB 8.3 MB/s eta 0:00:15\n",
      "   --------------------------- ------------ 261.4/385.0 MB 8.3 MB/s eta 0:00:15\n",
      "   --------------------------- ------------ 261.8/385.0 MB 8.3 MB/s eta 0:00:15\n",
      "   --------------------------- ------------ 262.2/385.0 MB 8.3 MB/s eta 0:00:15\n",
      "   --------------------------- ------------ 262.6/385.0 MB 8.4 MB/s eta 0:00:15\n",
      "   --------------------------- ------------ 263.0/385.0 MB 8.4 MB/s eta 0:00:15\n",
      "   --------------------------- ------------ 263.4/385.0 MB 8.4 MB/s eta 0:00:15\n",
      "   --------------------------- ------------ 263.8/385.0 MB 8.5 MB/s eta 0:00:15\n",
      "   --------------------------- ------------ 264.2/385.0 MB 8.6 MB/s eta 0:00:15\n",
      "   --------------------------- ------------ 264.6/385.0 MB 8.6 MB/s eta 0:00:14\n",
      "   --------------------------- ------------ 265.0/385.0 MB 8.6 MB/s eta 0:00:14\n",
      "   --------------------------- ------------ 265.3/385.0 MB 8.6 MB/s eta 0:00:14\n",
      "   --------------------------- ------------ 265.8/385.0 MB 8.6 MB/s eta 0:00:14\n",
      "   --------------------------- ------------ 266.1/385.0 MB 8.6 MB/s eta 0:00:14\n",
      "   --------------------------- ------------ 266.5/385.0 MB 8.6 MB/s eta 0:00:14\n",
      "   --------------------------- ------------ 266.9/385.0 MB 8.6 MB/s eta 0:00:14\n",
      "   --------------------------- ------------ 267.4/385.0 MB 8.7 MB/s eta 0:00:14\n",
      "   --------------------------- ------------ 267.8/385.0 MB 8.7 MB/s eta 0:00:14\n",
      "   --------------------------- ------------ 268.2/385.0 MB 8.7 MB/s eta 0:00:14\n",
      "   --------------------------- ------------ 268.6/385.0 MB 8.7 MB/s eta 0:00:14\n",
      "   --------------------------- ------------ 269.0/385.0 MB 8.7 MB/s eta 0:00:14\n",
      "   --------------------------- ------------ 269.4/385.0 MB 8.7 MB/s eta 0:00:14\n",
      "   ---------------------------- ----------- 269.8/385.0 MB 8.7 MB/s eta 0:00:14\n",
      "   ---------------------------- ----------- 270.2/385.0 MB 8.7 MB/s eta 0:00:14\n",
      "   ---------------------------- ----------- 270.7/385.0 MB 8.7 MB/s eta 0:00:14\n",
      "   ---------------------------- ----------- 271.1/385.0 MB 8.8 MB/s eta 0:00:13\n",
      "   ---------------------------- ----------- 271.5/385.0 MB 8.8 MB/s eta 0:00:13\n",
      "   ---------------------------- ----------- 271.9/385.0 MB 8.7 MB/s eta 0:00:13\n",
      "   ---------------------------- ----------- 272.4/385.0 MB 8.7 MB/s eta 0:00:13\n",
      "   ---------------------------- ----------- 272.8/385.0 MB 9.0 MB/s eta 0:00:13\n",
      "   ---------------------------- ----------- 273.2/385.0 MB 8.8 MB/s eta 0:00:13\n",
      "   ---------------------------- ----------- 273.6/385.0 MB 8.8 MB/s eta 0:00:13\n",
      "   ---------------------------- ----------- 274.0/385.0 MB 8.8 MB/s eta 0:00:13\n",
      "   ---------------------------- ----------- 274.5/385.0 MB 8.8 MB/s eta 0:00:13\n",
      "   ---------------------------- ----------- 274.9/385.0 MB 9.0 MB/s eta 0:00:13\n",
      "   ---------------------------- ----------- 275.3/385.0 MB 9.0 MB/s eta 0:00:13\n",
      "   ---------------------------- ----------- 275.7/385.0 MB 9.0 MB/s eta 0:00:13\n",
      "   ---------------------------- ----------- 276.1/385.0 MB 9.0 MB/s eta 0:00:13\n",
      "   ---------------------------- ----------- 276.5/385.0 MB 9.1 MB/s eta 0:00:12\n",
      "   ---------------------------- ----------- 276.9/385.0 MB 9.0 MB/s eta 0:00:13\n",
      "   ---------------------------- ----------- 277.3/385.0 MB 9.0 MB/s eta 0:00:12\n",
      "   ---------------------------- ----------- 277.8/385.0 MB 9.0 MB/s eta 0:00:12\n",
      "   ---------------------------- ----------- 278.2/385.0 MB 9.1 MB/s eta 0:00:12\n",
      "   ---------------------------- ----------- 278.6/385.0 MB 9.1 MB/s eta 0:00:12\n",
      "   ---------------------------- ----------- 279.0/385.0 MB 9.0 MB/s eta 0:00:12\n",
      "   ----------------------------- ---------- 279.4/385.0 MB 9.0 MB/s eta 0:00:12\n",
      "   ----------------------------- ---------- 279.8/385.0 MB 9.0 MB/s eta 0:00:12\n",
      "   ----------------------------- ---------- 280.2/385.0 MB 9.0 MB/s eta 0:00:12\n",
      "   ----------------------------- ---------- 280.6/385.0 MB 9.1 MB/s eta 0:00:12\n",
      "   ----------------------------- ---------- 281.0/385.0 MB 9.1 MB/s eta 0:00:12\n",
      "   ----------------------------- ---------- 281.5/385.0 MB 9.1 MB/s eta 0:00:12\n",
      "   ----------------------------- ---------- 281.9/385.0 MB 9.1 MB/s eta 0:00:12\n",
      "   ----------------------------- ---------- 282.3/385.0 MB 9.1 MB/s eta 0:00:12\n",
      "   ----------------------------- ---------- 282.7/385.0 MB 9.1 MB/s eta 0:00:12\n",
      "   ----------------------------- ---------- 283.1/385.0 MB 9.1 MB/s eta 0:00:12\n",
      "   ----------------------------- ---------- 283.6/385.0 MB 9.1 MB/s eta 0:00:12\n",
      "   ----------------------------- ---------- 284.0/385.0 MB 9.1 MB/s eta 0:00:12\n",
      "   ----------------------------- ---------- 284.4/385.0 MB 9.0 MB/s eta 0:00:12\n",
      "   ----------------------------- ---------- 284.8/385.0 MB 9.0 MB/s eta 0:00:12\n",
      "   ----------------------------- ---------- 285.2/385.0 MB 9.0 MB/s eta 0:00:12\n",
      "   ----------------------------- ---------- 285.6/385.0 MB 9.0 MB/s eta 0:00:12\n",
      "   ----------------------------- ---------- 286.0/385.0 MB 9.0 MB/s eta 0:00:12\n",
      "   ----------------------------- ---------- 286.5/385.0 MB 9.0 MB/s eta 0:00:11\n",
      "   ----------------------------- ---------- 286.9/385.0 MB 9.0 MB/s eta 0:00:11\n",
      "   ----------------------------- ---------- 287.3/385.0 MB 9.0 MB/s eta 0:00:11\n",
      "   ----------------------------- ---------- 287.8/385.0 MB 9.0 MB/s eta 0:00:11\n",
      "   ----------------------------- ---------- 288.2/385.0 MB 9.0 MB/s eta 0:00:11\n",
      "   ----------------------------- ---------- 288.6/385.0 MB 9.0 MB/s eta 0:00:11\n",
      "   ------------------------------ --------- 289.0/385.0 MB 9.1 MB/s eta 0:00:11\n",
      "   ------------------------------ --------- 289.4/385.0 MB 9.1 MB/s eta 0:00:11\n",
      "   ------------------------------ --------- 289.8/385.0 MB 9.1 MB/s eta 0:00:11\n",
      "   ------------------------------ --------- 290.2/385.0 MB 9.1 MB/s eta 0:00:11\n",
      "   ------------------------------ --------- 290.6/385.0 MB 9.1 MB/s eta 0:00:11\n",
      "   ------------------------------ --------- 291.1/385.0 MB 9.1 MB/s eta 0:00:11\n",
      "   ------------------------------ --------- 291.5/385.0 MB 9.1 MB/s eta 0:00:11\n",
      "   ------------------------------ --------- 291.9/385.0 MB 9.1 MB/s eta 0:00:11\n",
      "   ------------------------------ --------- 292.3/385.0 MB 9.1 MB/s eta 0:00:11\n",
      "   ------------------------------ --------- 292.8/385.0 MB 9.1 MB/s eta 0:00:11\n",
      "   ------------------------------ --------- 293.1/385.0 MB 9.1 MB/s eta 0:00:11\n",
      "   ------------------------------ --------- 293.5/385.0 MB 9.1 MB/s eta 0:00:11\n",
      "   ------------------------------ --------- 293.9/385.0 MB 9.1 MB/s eta 0:00:11\n",
      "   ------------------------------ --------- 294.3/385.0 MB 9.1 MB/s eta 0:00:10\n",
      "   ------------------------------ --------- 294.8/385.0 MB 9.1 MB/s eta 0:00:10\n",
      "   ------------------------------ --------- 295.2/385.0 MB 9.1 MB/s eta 0:00:10\n",
      "   ------------------------------ --------- 295.6/385.0 MB 9.1 MB/s eta 0:00:10\n",
      "   ------------------------------ --------- 296.1/385.0 MB 9.1 MB/s eta 0:00:10\n",
      "   ------------------------------ --------- 296.5/385.0 MB 9.1 MB/s eta 0:00:10\n",
      "   ------------------------------ --------- 296.9/385.0 MB 9.1 MB/s eta 0:00:10\n",
      "   ------------------------------ --------- 297.3/385.0 MB 9.1 MB/s eta 0:00:10\n",
      "   ------------------------------ --------- 297.7/385.0 MB 9.1 MB/s eta 0:00:10\n",
      "   ------------------------------ --------- 298.0/385.0 MB 9.1 MB/s eta 0:00:10\n",
      "   ------------------------------- -------- 298.5/385.0 MB 9.1 MB/s eta 0:00:10\n",
      "   ------------------------------- -------- 298.9/385.0 MB 9.0 MB/s eta 0:00:10\n",
      "   ------------------------------- -------- 299.2/385.0 MB 8.8 MB/s eta 0:00:10\n",
      "   ------------------------------- -------- 299.6/385.0 MB 8.7 MB/s eta 0:00:10\n",
      "   ------------------------------- -------- 299.9/385.0 MB 8.7 MB/s eta 0:00:10\n",
      "   ------------------------------- -------- 300.2/385.0 MB 8.6 MB/s eta 0:00:10\n",
      "   ------------------------------- -------- 300.5/385.0 MB 8.6 MB/s eta 0:00:10\n",
      "   ------------------------------- -------- 300.8/385.0 MB 8.5 MB/s eta 0:00:10\n",
      "   ------------------------------- -------- 301.2/385.0 MB 8.4 MB/s eta 0:00:10\n",
      "   ------------------------------- -------- 301.5/385.0 MB 8.4 MB/s eta 0:00:10\n",
      "   ------------------------------- -------- 301.8/385.0 MB 8.3 MB/s eta 0:00:11\n",
      "   ------------------------------- -------- 302.2/385.0 MB 8.2 MB/s eta 0:00:11\n",
      "   ------------------------------- -------- 302.5/385.0 MB 8.1 MB/s eta 0:00:11\n",
      "   ------------------------------- -------- 302.8/385.0 MB 8.1 MB/s eta 0:00:11\n",
      "   ------------------------------- -------- 303.2/385.0 MB 8.0 MB/s eta 0:00:11\n",
      "   ------------------------------- -------- 303.5/385.0 MB 8.0 MB/s eta 0:00:11\n",
      "   ------------------------------- -------- 303.9/385.0 MB 8.0 MB/s eta 0:00:11\n",
      "   ------------------------------- -------- 304.2/385.0 MB 7.9 MB/s eta 0:00:11\n",
      "   ------------------------------- -------- 304.6/385.0 MB 8.0 MB/s eta 0:00:11\n",
      "   ------------------------------- -------- 304.9/385.0 MB 7.9 MB/s eta 0:00:11\n",
      "   ------------------------------- -------- 305.3/385.0 MB 7.8 MB/s eta 0:00:11\n",
      "   ------------------------------- -------- 305.6/385.0 MB 7.8 MB/s eta 0:00:11\n",
      "   ------------------------------- -------- 306.0/385.0 MB 7.7 MB/s eta 0:00:11\n",
      "   ------------------------------- -------- 306.4/385.0 MB 7.7 MB/s eta 0:00:11\n",
      "   ------------------------------- -------- 306.7/385.0 MB 7.6 MB/s eta 0:00:11\n",
      "   ------------------------------- -------- 307.1/385.0 MB 7.5 MB/s eta 0:00:11\n",
      "   ------------------------------- -------- 307.4/385.0 MB 7.5 MB/s eta 0:00:11\n",
      "   ------------------------------- -------- 307.8/385.0 MB 7.5 MB/s eta 0:00:11\n",
      "   -------------------------------- ------- 308.2/385.0 MB 7.4 MB/s eta 0:00:11\n",
      "   -------------------------------- ------- 308.6/385.0 MB 7.5 MB/s eta 0:00:11\n",
      "   -------------------------------- ------- 308.9/385.0 MB 7.5 MB/s eta 0:00:11\n",
      "   -------------------------------- ------- 309.3/385.0 MB 7.5 MB/s eta 0:00:11\n",
      "   -------------------------------- ------- 309.7/385.0 MB 7.6 MB/s eta 0:00:10\n",
      "   -------------------------------- ------- 310.1/385.0 MB 7.7 MB/s eta 0:00:10\n",
      "   -------------------------------- ------- 310.5/385.0 MB 7.8 MB/s eta 0:00:10\n",
      "   -------------------------------- ------- 310.9/385.0 MB 7.8 MB/s eta 0:00:10\n",
      "   -------------------------------- ------- 311.2/385.0 MB 7.8 MB/s eta 0:00:10\n",
      "   -------------------------------- ------- 311.6/385.0 MB 7.9 MB/s eta 0:00:10\n",
      "   -------------------------------- ------- 312.1/385.0 MB 8.0 MB/s eta 0:00:10\n",
      "   -------------------------------- ------- 312.5/385.0 MB 8.1 MB/s eta 0:00:09\n",
      "   -------------------------------- ------- 312.9/385.0 MB 8.1 MB/s eta 0:00:09\n",
      "   -------------------------------- ------- 313.2/385.0 MB 8.1 MB/s eta 0:00:09\n",
      "   -------------------------------- ------- 313.6/385.0 MB 8.1 MB/s eta 0:00:09\n",
      "   -------------------------------- ------- 314.1/385.0 MB 8.2 MB/s eta 0:00:09\n",
      "   -------------------------------- ------- 314.5/385.0 MB 8.3 MB/s eta 0:00:09\n",
      "   -------------------------------- ------- 314.9/385.0 MB 8.3 MB/s eta 0:00:09\n",
      "   -------------------------------- ------- 315.2/385.0 MB 8.3 MB/s eta 0:00:09\n",
      "   -------------------------------- ------- 315.6/385.0 MB 8.3 MB/s eta 0:00:09\n",
      "   -------------------------------- ------- 316.1/385.0 MB 8.4 MB/s eta 0:00:09\n",
      "   -------------------------------- ------- 316.5/385.0 MB 8.4 MB/s eta 0:00:09\n",
      "   -------------------------------- ------- 316.9/385.0 MB 8.4 MB/s eta 0:00:09\n",
      "   -------------------------------- ------- 317.3/385.0 MB 8.5 MB/s eta 0:00:08\n",
      "   --------------------------------- ------ 317.7/385.0 MB 8.5 MB/s eta 0:00:08\n",
      "   --------------------------------- ------ 318.1/385.0 MB 8.5 MB/s eta 0:00:08\n",
      "   --------------------------------- ------ 318.5/385.0 MB 8.5 MB/s eta 0:00:08\n",
      "   --------------------------------- ------ 318.9/385.0 MB 8.6 MB/s eta 0:00:08\n",
      "   --------------------------------- ------ 319.3/385.0 MB 8.5 MB/s eta 0:00:08\n",
      "   --------------------------------- ------ 319.7/385.0 MB 8.6 MB/s eta 0:00:08\n",
      "   --------------------------------- ------ 320.1/385.0 MB 8.7 MB/s eta 0:00:08\n",
      "   --------------------------------- ------ 320.5/385.0 MB 8.7 MB/s eta 0:00:08\n",
      "   --------------------------------- ------ 320.9/385.0 MB 8.7 MB/s eta 0:00:08\n",
      "   --------------------------------- ------ 321.2/385.0 MB 8.6 MB/s eta 0:00:08\n",
      "   --------------------------------- ------ 321.5/385.0 MB 8.5 MB/s eta 0:00:08\n",
      "   --------------------------------- ------ 321.8/385.0 MB 8.5 MB/s eta 0:00:08\n",
      "   --------------------------------- ------ 322.2/385.0 MB 8.5 MB/s eta 0:00:08\n",
      "   --------------------------------- ------ 322.6/385.0 MB 8.5 MB/s eta 0:00:08\n",
      "   --------------------------------- ------ 323.0/385.0 MB 8.5 MB/s eta 0:00:08\n",
      "   --------------------------------- ------ 323.4/385.0 MB 8.5 MB/s eta 0:00:08\n",
      "   --------------------------------- ------ 323.9/385.0 MB 8.6 MB/s eta 0:00:08\n",
      "   --------------------------------- ------ 324.3/385.0 MB 8.6 MB/s eta 0:00:08\n",
      "   --------------------------------- ------ 324.7/385.0 MB 8.6 MB/s eta 0:00:07\n",
      "   --------------------------------- ------ 325.2/385.0 MB 8.7 MB/s eta 0:00:07\n",
      "   --------------------------------- ------ 325.6/385.0 MB 8.7 MB/s eta 0:00:07\n",
      "   --------------------------------- ------ 326.0/385.0 MB 8.7 MB/s eta 0:00:07\n",
      "   --------------------------------- ------ 326.4/385.0 MB 8.7 MB/s eta 0:00:07\n",
      "   --------------------------------- ------ 326.8/385.0 MB 8.7 MB/s eta 0:00:07\n",
      "   ---------------------------------- ----- 327.3/385.0 MB 8.7 MB/s eta 0:00:07\n",
      "   ---------------------------------- ----- 327.7/385.0 MB 8.8 MB/s eta 0:00:07\n",
      "   ---------------------------------- ----- 328.2/385.0 MB 8.8 MB/s eta 0:00:07\n",
      "   ---------------------------------- ----- 328.6/385.0 MB 8.8 MB/s eta 0:00:07\n",
      "   ---------------------------------- ----- 329.0/385.0 MB 9.0 MB/s eta 0:00:07\n",
      "   ---------------------------------- ----- 329.4/385.0 MB 8.8 MB/s eta 0:00:07\n",
      "   ---------------------------------- ----- 329.8/385.0 MB 8.8 MB/s eta 0:00:07\n",
      "   ---------------------------------- ----- 330.2/385.0 MB 9.0 MB/s eta 0:00:07\n",
      "   ---------------------------------- ----- 330.6/385.0 MB 8.8 MB/s eta 0:00:07\n",
      "   ---------------------------------- ----- 331.0/385.0 MB 8.8 MB/s eta 0:00:07\n",
      "   ---------------------------------- ----- 331.5/385.0 MB 9.1 MB/s eta 0:00:06\n",
      "   ---------------------------------- ----- 331.9/385.0 MB 9.2 MB/s eta 0:00:06\n",
      "   ---------------------------------- ----- 332.4/385.0 MB 9.4 MB/s eta 0:00:06\n",
      "   ---------------------------------- ----- 332.8/385.0 MB 9.2 MB/s eta 0:00:06\n",
      "   ---------------------------------- ----- 333.2/385.0 MB 9.2 MB/s eta 0:00:06\n",
      "   ---------------------------------- ----- 333.6/385.0 MB 9.2 MB/s eta 0:00:06\n",
      "   ---------------------------------- ----- 334.1/385.0 MB 9.2 MB/s eta 0:00:06\n",
      "   ---------------------------------- ----- 334.5/385.0 MB 9.2 MB/s eta 0:00:06\n",
      "   ---------------------------------- ----- 334.9/385.0 MB 9.2 MB/s eta 0:00:06\n",
      "   ---------------------------------- ----- 335.3/385.0 MB 9.2 MB/s eta 0:00:06\n",
      "   ---------------------------------- ----- 335.8/385.0 MB 9.2 MB/s eta 0:00:06\n",
      "   ---------------------------------- ----- 336.2/385.0 MB 9.2 MB/s eta 0:00:06\n",
      "   ---------------------------------- ----- 336.6/385.0 MB 9.2 MB/s eta 0:00:06\n",
      "   ----------------------------------- ---- 337.0/385.0 MB 9.2 MB/s eta 0:00:06\n",
      "   ----------------------------------- ---- 337.5/385.0 MB 9.2 MB/s eta 0:00:06\n",
      "   ----------------------------------- ---- 337.9/385.0 MB 9.2 MB/s eta 0:00:06\n",
      "   ----------------------------------- ---- 338.4/385.0 MB 9.2 MB/s eta 0:00:06\n",
      "   ----------------------------------- ---- 338.8/385.0 MB 9.2 MB/s eta 0:00:06\n",
      "   ----------------------------------- ---- 339.2/385.0 MB 9.2 MB/s eta 0:00:05\n",
      "   ----------------------------------- ---- 339.6/385.0 MB 9.2 MB/s eta 0:00:05\n",
      "   ----------------------------------- ---- 340.1/385.0 MB 9.4 MB/s eta 0:00:05\n",
      "   ----------------------------------- ---- 340.3/385.0 MB 9.2 MB/s eta 0:00:05\n",
      "   ----------------------------------- ---- 340.5/385.0 MB 9.0 MB/s eta 0:00:05\n",
      "   ----------------------------------- ---- 341.0/385.0 MB 9.0 MB/s eta 0:00:05\n",
      "   ----------------------------------- ---- 341.4/385.0 MB 9.0 MB/s eta 0:00:05\n",
      "   ----------------------------------- ---- 341.8/385.0 MB 9.0 MB/s eta 0:00:05\n",
      "   ----------------------------------- ---- 342.2/385.0 MB 9.0 MB/s eta 0:00:05\n",
      "   ----------------------------------- ---- 342.7/385.0 MB 9.0 MB/s eta 0:00:05\n",
      "   ----------------------------------- ---- 343.1/385.0 MB 9.0 MB/s eta 0:00:05\n",
      "   ----------------------------------- ---- 343.5/385.0 MB 9.0 MB/s eta 0:00:05\n",
      "   ----------------------------------- ---- 344.0/385.0 MB 9.0 MB/s eta 0:00:05\n",
      "   ----------------------------------- ---- 344.4/385.0 MB 9.0 MB/s eta 0:00:05\n",
      "   ----------------------------------- ---- 344.8/385.0 MB 9.1 MB/s eta 0:00:05\n",
      "   ----------------------------------- ---- 345.3/385.0 MB 9.1 MB/s eta 0:00:05\n",
      "   ----------------------------------- ---- 345.7/385.0 MB 9.1 MB/s eta 0:00:05\n",
      "   ----------------------------------- ---- 346.1/385.0 MB 9.1 MB/s eta 0:00:05\n",
      "   ----------------------------------- ---- 346.5/385.0 MB 9.0 MB/s eta 0:00:05\n",
      "   ------------------------------------ --- 346.9/385.0 MB 9.0 MB/s eta 0:00:05\n",
      "   ------------------------------------ --- 347.3/385.0 MB 9.0 MB/s eta 0:00:05\n",
      "   ------------------------------------ --- 347.7/385.0 MB 9.0 MB/s eta 0:00:05\n",
      "   ------------------------------------ --- 348.2/385.0 MB 9.0 MB/s eta 0:00:05\n",
      "   ------------------------------------ --- 348.6/385.0 MB 9.0 MB/s eta 0:00:05\n",
      "   ------------------------------------ --- 349.1/385.0 MB 9.0 MB/s eta 0:00:05\n",
      "   ------------------------------------ --- 349.6/385.0 MB 9.0 MB/s eta 0:00:04\n",
      "   ------------------------------------ --- 350.0/385.0 MB 9.0 MB/s eta 0:00:04\n",
      "   ------------------------------------ --- 350.3/385.0 MB 9.1 MB/s eta 0:00:04\n",
      "   ------------------------------------ --- 350.8/385.0 MB 9.4 MB/s eta 0:00:04\n",
      "   ------------------------------------ --- 351.2/385.0 MB 9.4 MB/s eta 0:00:04\n",
      "   ------------------------------------ --- 351.7/385.0 MB 9.4 MB/s eta 0:00:04\n",
      "   ------------------------------------ --- 352.1/385.0 MB 9.2 MB/s eta 0:00:04\n",
      "   ------------------------------------ --- 352.5/385.0 MB 9.2 MB/s eta 0:00:04\n",
      "   ------------------------------------ --- 352.9/385.0 MB 9.4 MB/s eta 0:00:04\n",
      "   ------------------------------------ --- 353.4/385.0 MB 9.2 MB/s eta 0:00:04\n",
      "   ------------------------------------ --- 353.8/385.0 MB 9.4 MB/s eta 0:00:04\n",
      "   ------------------------------------ --- 354.2/385.0 MB 9.4 MB/s eta 0:00:04\n",
      "   ------------------------------------ --- 354.6/385.0 MB 9.4 MB/s eta 0:00:04\n",
      "   ------------------------------------ --- 355.1/385.0 MB 9.2 MB/s eta 0:00:04\n",
      "   ------------------------------------ --- 355.5/385.0 MB 9.4 MB/s eta 0:00:04\n",
      "   ------------------------------------ --- 356.0/385.0 MB 9.4 MB/s eta 0:00:04\n",
      "   ------------------------------------- -- 356.4/385.0 MB 9.4 MB/s eta 0:00:04\n",
      "   ------------------------------------- -- 356.9/385.0 MB 9.4 MB/s eta 0:00:04\n",
      "   ------------------------------------- -- 357.3/385.0 MB 9.4 MB/s eta 0:00:03\n",
      "   ------------------------------------- -- 357.8/385.0 MB 9.4 MB/s eta 0:00:03\n",
      "   ------------------------------------- -- 358.2/385.0 MB 9.4 MB/s eta 0:00:03\n",
      "   ------------------------------------- -- 358.7/385.0 MB 9.4 MB/s eta 0:00:03\n",
      "   ------------------------------------- -- 359.1/385.0 MB 9.5 MB/s eta 0:00:03\n",
      "   ------------------------------------- -- 359.5/385.0 MB 9.4 MB/s eta 0:00:03\n",
      "   ------------------------------------- -- 360.0/385.0 MB 9.4 MB/s eta 0:00:03\n",
      "   ------------------------------------- -- 360.4/385.0 MB 9.5 MB/s eta 0:00:03\n",
      "   ------------------------------------- -- 360.9/385.0 MB 9.6 MB/s eta 0:00:03\n",
      "   ------------------------------------- -- 361.3/385.0 MB 9.6 MB/s eta 0:00:03\n",
      "   ------------------------------------- -- 361.8/385.0 MB 9.6 MB/s eta 0:00:03\n",
      "   ------------------------------------- -- 362.3/385.0 MB 9.6 MB/s eta 0:00:03\n",
      "   ------------------------------------- -- 362.7/385.0 MB 9.6 MB/s eta 0:00:03\n",
      "   ------------------------------------- -- 363.1/385.0 MB 9.6 MB/s eta 0:00:03\n",
      "   ------------------------------------- -- 363.6/385.0 MB 9.6 MB/s eta 0:00:03\n",
      "   ------------------------------------- -- 364.1/385.0 MB 9.8 MB/s eta 0:00:03\n",
      "   ------------------------------------- -- 364.5/385.0 MB 9.8 MB/s eta 0:00:03\n",
      "   ------------------------------------- -- 365.0/385.0 MB 9.8 MB/s eta 0:00:03\n",
      "   ------------------------------------- -- 365.5/385.0 MB 9.8 MB/s eta 0:00:02\n",
      "   -------------------------------------- - 365.9/385.0 MB 9.8 MB/s eta 0:00:02\n",
      "   -------------------------------------- - 366.4/385.0 MB 9.8 MB/s eta 0:00:02\n",
      "   -------------------------------------- - 366.8/385.0 MB 9.8 MB/s eta 0:00:02\n",
      "   -------------------------------------- - 367.3/385.0 MB 9.8 MB/s eta 0:00:02\n",
      "   -------------------------------------- - 367.5/385.0 MB 9.6 MB/s eta 0:00:02\n",
      "   -------------------------------------- - 368.0/385.0 MB 9.6 MB/s eta 0:00:02\n",
      "   -------------------------------------- - 368.5/385.0 MB 9.6 MB/s eta 0:00:02\n",
      "   -------------------------------------- - 369.0/385.0 MB 9.8 MB/s eta 0:00:02\n",
      "   -------------------------------------- - 369.4/385.0 MB 9.9 MB/s eta 0:00:02\n",
      "   -------------------------------------- - 369.9/385.0 MB 9.9 MB/s eta 0:00:02\n",
      "   -------------------------------------- - 370.4/385.0 MB 9.9 MB/s eta 0:00:02\n",
      "   -------------------------------------- - 370.8/385.0 MB 9.8 MB/s eta 0:00:02\n",
      "   -------------------------------------- - 371.3/385.0 MB 9.9 MB/s eta 0:00:02\n",
      "   -------------------------------------- - 371.8/385.0 MB 9.9 MB/s eta 0:00:02\n",
      "   -------------------------------------- - 372.3/385.0 MB 9.9 MB/s eta 0:00:02\n",
      "   -------------------------------------- - 372.7/385.0 MB 9.9 MB/s eta 0:00:02\n",
      "   -------------------------------------- - 373.2/385.0 MB 9.9 MB/s eta 0:00:02\n",
      "   -------------------------------------- - 373.7/385.0 MB 9.9 MB/s eta 0:00:02\n",
      "   -------------------------------------- - 374.1/385.0 MB 9.9 MB/s eta 0:00:02\n",
      "   ------------------------------------- - 374.6/385.0 MB 10.1 MB/s eta 0:00:02\n",
      "   ------------------------------------- - 375.1/385.0 MB 10.1 MB/s eta 0:00:01\n",
      "   --------------------------------------  375.6/385.0 MB 10.1 MB/s eta 0:00:01\n",
      "   --------------------------------------  376.1/385.0 MB 10.1 MB/s eta 0:00:01\n",
      "   --------------------------------------  376.5/385.0 MB 10.1 MB/s eta 0:00:01\n",
      "   --------------------------------------  377.0/385.0 MB 10.1 MB/s eta 0:00:01\n",
      "   --------------------------------------  377.5/385.0 MB 10.2 MB/s eta 0:00:01\n",
      "   --------------------------------------  378.0/385.0 MB 10.4 MB/s eta 0:00:01\n",
      "   --------------------------------------  378.4/385.0 MB 10.4 MB/s eta 0:00:01\n",
      "   --------------------------------------  378.9/385.0 MB 10.4 MB/s eta 0:00:01\n",
      "   --------------------------------------  379.4/385.0 MB 10.4 MB/s eta 0:00:01\n",
      "   --------------------------------------  379.9/385.0 MB 10.4 MB/s eta 0:00:01\n",
      "   --------------------------------------  380.4/385.0 MB 10.4 MB/s eta 0:00:01\n",
      "   --------------------------------------  380.9/385.0 MB 10.6 MB/s eta 0:00:01\n",
      "   --------------------------------------  381.4/385.0 MB 10.6 MB/s eta 0:00:01\n",
      "   --------------------------------------  381.8/385.0 MB 10.6 MB/s eta 0:00:01\n",
      "   --------------------------------------  382.3/385.0 MB 10.6 MB/s eta 0:00:01\n",
      "   --------------------------------------  382.7/385.0 MB 10.4 MB/s eta 0:00:01\n",
      "   --------------------------------------  383.2/385.0 MB 10.4 MB/s eta 0:00:01\n",
      "   --------------------------------------  383.7/385.0 MB 10.6 MB/s eta 0:00:01\n",
      "   --------------------------------------  384.2/385.0 MB 10.6 MB/s eta 0:00:01\n",
      "   --------------------------------------  384.7/385.0 MB 10.6 MB/s eta 0:00:01\n",
      "   --------------------------------------  385.0/385.0 MB 10.6 MB/s eta 0:00:01\n",
      "   --------------------------------------  385.0/385.0 MB 10.6 MB/s eta 0:00:01\n",
      "   --------------------------------------  385.0/385.0 MB 10.6 MB/s eta 0:00:01\n",
      "   --------------------------------------  385.0/385.0 MB 10.6 MB/s eta 0:00:01\n",
      "   --------------------------------------  385.0/385.0 MB 10.6 MB/s eta 0:00:01\n",
      "   --------------------------------------  385.0/385.0 MB 10.6 MB/s eta 0:00:01\n",
      "   --------------------------------------  385.0/385.0 MB 10.6 MB/s eta 0:00:01\n",
      "   --------------------------------------  385.0/385.0 MB 10.6 MB/s eta 0:00:01\n",
      "   --------------------------------------  385.0/385.0 MB 10.6 MB/s eta 0:00:01\n",
      "   ---------------------------------------- 385.0/385.0 MB 7.4 MB/s eta 0:00:00\n",
      "Downloading keras-3.4.1-py3-none-any.whl (1.1 MB)\n",
      "   ---------------------------------------- 0.0/1.1 MB ? eta -:--:--\n",
      "   -------------- ------------------------- 0.4/1.1 MB 13.2 MB/s eta 0:00:01\n",
      "   ------------------------------- -------- 0.9/1.1 MB 11.4 MB/s eta 0:00:01\n",
      "   ---------------------------------------- 1.1/1.1 MB 10.3 MB/s eta 0:00:00\n",
      "Downloading h5py-3.11.0-cp310-cp310-win_amd64.whl (3.0 MB)\n",
      "   ---------------------------------------- 0.0/3.0 MB ? eta -:--:--\n",
      "   ------- -------------------------------- 0.6/3.0 MB 11.5 MB/s eta 0:00:01\n",
      "   -------------- ------------------------- 1.0/3.0 MB 11.0 MB/s eta 0:00:01\n",
      "   -------------------- ------------------- 1.6/3.0 MB 11.0 MB/s eta 0:00:01\n",
      "   --------------------------- ------------ 2.0/3.0 MB 10.9 MB/s eta 0:00:01\n",
      "   ---------------------------------- ----- 2.5/3.0 MB 10.9 MB/s eta 0:00:01\n",
      "   ---------------------------------------  3.0/3.0 MB 10.5 MB/s eta 0:00:01\n",
      "   ---------------------------------------- 3.0/3.0 MB 10.0 MB/s eta 0:00:00\n",
      "Downloading ml_dtypes-0.4.0-cp310-cp310-win_amd64.whl (126 kB)\n",
      "   ---------------------------------------- 0.0/126.6 kB ? eta -:--:--\n",
      "   ---------------------------------------- 126.6/126.6 kB 7.8 MB/s eta 0:00:00\n",
      "Downloading numpy-1.26.4-cp310-cp310-win_amd64.whl (15.8 MB)\n",
      "   ---------------------------------------- 0.0/15.8 MB ? eta -:--:--\n",
      "   - -------------------------------------- 0.5/15.8 MB 11.1 MB/s eta 0:00:02\n",
      "   -- ------------------------------------- 1.1/15.8 MB 11.3 MB/s eta 0:00:02\n",
      "   ---- ----------------------------------- 1.6/15.8 MB 11.2 MB/s eta 0:00:02\n",
      "   ----- ---------------------------------- 2.1/15.8 MB 11.1 MB/s eta 0:00:02\n",
      "   ------ --------------------------------- 2.6/15.8 MB 10.9 MB/s eta 0:00:02\n",
      "   ------- -------------------------------- 3.1/15.8 MB 11.6 MB/s eta 0:00:02\n",
      "   --------- ------------------------------ 3.6/15.8 MB 11.5 MB/s eta 0:00:02\n",
      "   ---------- ----------------------------- 4.1/15.8 MB 11.4 MB/s eta 0:00:02\n",
      "   ----------- ---------------------------- 4.6/15.8 MB 11.3 MB/s eta 0:00:01\n",
      "   ------------ --------------------------- 5.1/15.8 MB 11.2 MB/s eta 0:00:01\n",
      "   -------------- ------------------------- 5.6/15.8 MB 11.2 MB/s eta 0:00:01\n",
      "   --------------- ------------------------ 6.2/15.8 MB 11.2 MB/s eta 0:00:01\n",
      "   ---------------- ----------------------- 6.7/15.8 MB 11.3 MB/s eta 0:00:01\n",
      "   ----------------- ---------------------- 6.9/15.8 MB 10.8 MB/s eta 0:00:01\n",
      "   ----------------- ---------------------- 7.0/15.8 MB 10.6 MB/s eta 0:00:01\n",
      "   ------------------- -------------------- 7.6/15.8 MB 10.3 MB/s eta 0:00:01\n",
      "   ------------------- -------------------- 7.9/15.8 MB 10.1 MB/s eta 0:00:01\n",
      "   -------------------- ------------------- 8.2/15.8 MB 9.9 MB/s eta 0:00:01\n",
      "   --------------------- ------------------ 8.5/15.8 MB 9.7 MB/s eta 0:00:01\n",
      "   ---------------------- ----------------- 8.8/15.8 MB 9.6 MB/s eta 0:00:01\n",
      "   ----------------------- ---------------- 9.2/15.8 MB 9.4 MB/s eta 0:00:01\n",
      "   ------------------------ --------------- 9.5/15.8 MB 9.5 MB/s eta 0:00:01\n",
      "   ------------------------- -------------- 9.9/15.8 MB 9.5 MB/s eta 0:00:01\n",
      "   -------------------------- ------------- 10.3/15.8 MB 9.4 MB/s eta 0:00:01\n",
      "   --------------------------- ------------ 10.7/15.8 MB 9.4 MB/s eta 0:00:01\n",
      "   ---------------------------- ----------- 11.1/15.8 MB 9.2 MB/s eta 0:00:01\n",
      "   ----------------------------- ---------- 11.5/15.8 MB 9.1 MB/s eta 0:00:01\n",
      "   ------------------------------ --------- 11.9/15.8 MB 9.0 MB/s eta 0:00:01\n",
      "   ------------------------------- -------- 12.3/15.8 MB 9.0 MB/s eta 0:00:01\n",
      "   -------------------------------- ------- 12.7/15.8 MB 8.8 MB/s eta 0:00:01\n",
      "   --------------------------------- ------ 13.1/15.8 MB 8.7 MB/s eta 0:00:01\n",
      "   ---------------------------------- ----- 13.5/15.8 MB 8.7 MB/s eta 0:00:01\n",
      "   ----------------------------------- ---- 14.0/15.8 MB 8.6 MB/s eta 0:00:01\n",
      "   ------------------------------------ --- 14.4/15.8 MB 8.6 MB/s eta 0:00:01\n",
      "   ------------------------------------- -- 14.8/15.8 MB 8.5 MB/s eta 0:00:01\n",
      "   -------------------------------------- - 15.2/15.8 MB 8.5 MB/s eta 0:00:01\n",
      "   ---------------------------------------  15.7/15.8 MB 8.4 MB/s eta 0:00:01\n",
      "   ---------------------------------------- 15.8/15.8 MB 8.3 MB/s eta 0:00:00\n",
      "Downloading namex-0.0.8-py3-none-any.whl (5.8 kB)\n",
      "Downloading optree-0.12.1-cp310-cp310-win_amd64.whl (267 kB)\n",
      "   ---------------------------------------- 0.0/267.2 kB ? eta -:--:--\n",
      "   --------------------------------------- 267.2/267.2 kB 17.1 MB/s eta 0:00:00\n",
      "Downloading rich-13.7.1-py3-none-any.whl (240 kB)\n",
      "   ---------------------------------------- 0.0/240.7 kB ? eta -:--:--\n",
      "   ---------------------------------------- 240.7/240.7 kB 7.2 MB/s eta 0:00:00\n",
      "Downloading flatbuffers-24.3.25-py2.py3-none-any.whl (26 kB)\n",
      "Downloading libclang-18.1.1-py2.py3-none-win_amd64.whl (26.4 MB)\n",
      "   ---------------------------------------- 0.0/26.4 MB ? eta -:--:--\n",
      "   ---------------------------------------- 0.2/26.4 MB 5.1 MB/s eta 0:00:06\n",
      "   ---------------------------------------- 0.2/26.4 MB 2.5 MB/s eta 0:00:11\n",
      "    --------------------------------------- 0.4/26.4 MB 2.8 MB/s eta 0:00:10\n",
      "   - -------------------------------------- 0.7/26.4 MB 4.2 MB/s eta 0:00:07\n",
      "   - -------------------------------------- 1.1/26.4 MB 5.0 MB/s eta 0:00:06\n",
      "   -- ------------------------------------- 1.5/26.4 MB 5.7 MB/s eta 0:00:05\n",
      "   -- ------------------------------------- 2.0/26.4 MB 6.3 MB/s eta 0:00:04\n",
      "   --- ------------------------------------ 2.4/26.4 MB 6.7 MB/s eta 0:00:04\n",
      "   ---- ----------------------------------- 2.9/26.4 MB 7.0 MB/s eta 0:00:04\n",
      "   ----- ---------------------------------- 3.3/26.4 MB 7.3 MB/s eta 0:00:04\n",
      "   ----- ---------------------------------- 3.7/26.4 MB 7.5 MB/s eta 0:00:04\n",
      "   ------ --------------------------------- 4.2/26.4 MB 7.8 MB/s eta 0:00:03\n",
      "   ------ --------------------------------- 4.6/26.4 MB 7.8 MB/s eta 0:00:03\n",
      "   ------- -------------------------------- 5.1/26.4 MB 7.9 MB/s eta 0:00:03\n",
      "   -------- ------------------------------- 5.6/26.4 MB 8.2 MB/s eta 0:00:03\n",
      "   --------- ------------------------------ 6.0/26.4 MB 8.3 MB/s eta 0:00:03\n",
      "   --------- ------------------------------ 6.4/26.4 MB 8.4 MB/s eta 0:00:03\n",
      "   ---------- ----------------------------- 6.9/26.4 MB 8.5 MB/s eta 0:00:03\n",
      "   ----------- ---------------------------- 7.4/26.4 MB 8.6 MB/s eta 0:00:03\n",
      "   ----------- ---------------------------- 7.8/26.4 MB 8.6 MB/s eta 0:00:03\n",
      "   ------------ --------------------------- 8.3/26.4 MB 8.7 MB/s eta 0:00:03\n",
      "   ------------- -------------------------- 8.7/26.4 MB 8.7 MB/s eta 0:00:03\n",
      "   ------------- -------------------------- 9.2/26.4 MB 8.7 MB/s eta 0:00:02\n",
      "   -------------- ------------------------- 9.6/26.4 MB 8.8 MB/s eta 0:00:02\n",
      "   --------------- ------------------------ 10.1/26.4 MB 8.8 MB/s eta 0:00:02\n",
      "   ---------------- ----------------------- 10.6/26.4 MB 9.8 MB/s eta 0:00:02\n",
      "   ---------------- ----------------------- 11.1/26.4 MB 9.9 MB/s eta 0:00:02\n",
      "   ----------------- ---------------------- 11.6/26.4 MB 10.1 MB/s eta 0:00:02\n",
      "   ------------------ --------------------- 12.1/26.4 MB 10.1 MB/s eta 0:00:02\n",
      "   ------------------- -------------------- 12.6/26.4 MB 10.1 MB/s eta 0:00:02\n",
      "   ------------------- -------------------- 13.0/26.4 MB 10.2 MB/s eta 0:00:02\n",
      "   -------------------- ------------------- 13.6/26.4 MB 10.2 MB/s eta 0:00:02\n",
      "   --------------------- ------------------ 14.1/26.4 MB 10.4 MB/s eta 0:00:02\n",
      "   ---------------------- ----------------- 14.5/26.4 MB 10.4 MB/s eta 0:00:02\n",
      "   ---------------------- ----------------- 15.0/26.4 MB 10.4 MB/s eta 0:00:02\n",
      "   ----------------------- ---------------- 15.6/26.4 MB 10.4 MB/s eta 0:00:02\n",
      "   ------------------------ --------------- 16.0/26.4 MB 10.4 MB/s eta 0:00:01\n",
      "   ------------------------- -------------- 16.6/26.4 MB 10.6 MB/s eta 0:00:01\n",
      "   ------------------------- -------------- 17.0/26.4 MB 10.6 MB/s eta 0:00:01\n",
      "   -------------------------- ------------- 17.5/26.4 MB 10.6 MB/s eta 0:00:01\n",
      "   --------------------------- ------------ 18.0/26.4 MB 10.6 MB/s eta 0:00:01\n",
      "   ---------------------------- ----------- 18.5/26.4 MB 10.6 MB/s eta 0:00:01\n",
      "   ---------------------------- ----------- 19.1/26.4 MB 10.7 MB/s eta 0:00:01\n",
      "   ----------------------------- ---------- 19.6/26.4 MB 10.7 MB/s eta 0:00:01\n",
      "   ------------------------------ --------- 20.1/26.4 MB 10.7 MB/s eta 0:00:01\n",
      "   ------------------------------- -------- 20.6/26.4 MB 10.7 MB/s eta 0:00:01\n",
      "   ------------------------------- -------- 21.1/26.4 MB 10.7 MB/s eta 0:00:01\n",
      "   -------------------------------- ------- 21.6/26.4 MB 10.7 MB/s eta 0:00:01\n",
      "   --------------------------------- ------ 22.1/26.4 MB 10.9 MB/s eta 0:00:01\n",
      "   ---------------------------------- ----- 22.6/26.4 MB 10.9 MB/s eta 0:00:01\n",
      "   ---------------------------------- ----- 23.1/26.4 MB 10.9 MB/s eta 0:00:01\n",
      "   ----------------------------------- ---- 23.6/26.4 MB 10.9 MB/s eta 0:00:01\n",
      "   ------------------------------------ --- 24.1/26.4 MB 10.9 MB/s eta 0:00:01\n",
      "   ------------------------------------- -- 24.6/26.4 MB 10.9 MB/s eta 0:00:01\n",
      "   -------------------------------------- - 25.1/26.4 MB 10.9 MB/s eta 0:00:01\n",
      "   -------------------------------------- - 25.6/26.4 MB 10.9 MB/s eta 0:00:01\n",
      "   ---------------------------------------  26.1/26.4 MB 10.9 MB/s eta 0:00:01\n",
      "   ---------------------------------------  26.4/26.4 MB 11.1 MB/s eta 0:00:01\n",
      "   ---------------------------------------- 26.4/26.4 MB 10.7 MB/s eta 0:00:00\n",
      "Downloading markdown_it_py-3.0.0-py3-none-any.whl (87 kB)\n",
      "   ---------------------------------------- 0.0/87.5 kB ? eta -:--:--\n",
      "   ---------------------------------------- 87.5/87.5 kB 4.8 MB/s eta 0:00:00\n",
      "Downloading tensorboard-2.17.0-py3-none-any.whl (5.5 MB)\n",
      "   ---------------------------------------- 0.0/5.5 MB ? eta -:--:--\n",
      "   ---- ----------------------------------- 0.6/5.5 MB 12.6 MB/s eta 0:00:01\n",
      "   -------- ------------------------------- 1.1/5.5 MB 11.7 MB/s eta 0:00:01\n",
      "   ----------- ---------------------------- 1.6/5.5 MB 11.5 MB/s eta 0:00:01\n",
      "   --------------- ------------------------ 2.2/5.5 MB 11.5 MB/s eta 0:00:01\n",
      "   ------------------- -------------------- 2.7/5.5 MB 12.1 MB/s eta 0:00:01\n",
      "   ----------------------- ---------------- 3.2/5.5 MB 11.3 MB/s eta 0:00:01\n",
      "   --------------------------- ------------ 3.7/5.5 MB 11.3 MB/s eta 0:00:01\n",
      "   ------------------------------ --------- 4.2/5.5 MB 11.3 MB/s eta 0:00:01\n",
      "   ---------------------------------- ----- 4.7/5.5 MB 11.6 MB/s eta 0:00:01\n",
      "   -------------------------------------- - 5.3/5.5 MB 11.6 MB/s eta 0:00:01\n",
      "   ---------------------------------------  5.5/5.5 MB 11.3 MB/s eta 0:00:01\n",
      "   ---------------------------------------- 5.5/5.5 MB 10.6 MB/s eta 0:00:00\n",
      "Downloading grpcio-1.65.1-cp310-cp310-win_amd64.whl (4.1 MB)\n",
      "   ---------------------------------------- 0.0/4.1 MB ? eta -:--:--\n",
      "   ---- ----------------------------------- 0.5/4.1 MB 10.5 MB/s eta 0:00:01\n",
      "   --------- ------------------------------ 1.0/4.1 MB 10.8 MB/s eta 0:00:01\n",
      "   -------------- ------------------------- 1.5/4.1 MB 10.9 MB/s eta 0:00:01\n",
      "   ------------------- -------------------- 2.1/4.1 MB 11.0 MB/s eta 0:00:01\n",
      "   ------------------------ --------------- 2.5/4.1 MB 11.5 MB/s eta 0:00:01\n",
      "   ----------------------------- ---------- 3.0/4.1 MB 10.8 MB/s eta 0:00:01\n",
      "   ---------------------------------- ----- 3.6/4.1 MB 10.8 MB/s eta 0:00:01\n",
      "   ---------------------------------------  4.1/4.1 MB 11.3 MB/s eta 0:00:01\n",
      "   ---------------------------------------- 4.1/4.1 MB 10.6 MB/s eta 0:00:00\n",
      "Downloading tensorflow_io_gcs_filesystem-0.31.0-cp310-cp310-win_amd64.whl (1.5 MB)\n",
      "   ---------------------------------------- 0.0/1.5 MB ? eta -:--:--\n",
      "   --------------- ------------------------ 0.6/1.5 MB 17.3 MB/s eta 0:00:01\n",
      "   --------------------------- ------------ 1.0/1.5 MB 13.0 MB/s eta 0:00:01\n",
      "   ---------------------------------------  1.5/1.5 MB 11.8 MB/s eta 0:00:01\n",
      "   ---------------------------------------- 1.5/1.5 MB 11.8 MB/s eta 0:00:00\n",
      "Downloading mdurl-0.1.2-py3-none-any.whl (10.0 kB)\n",
      "Downloading tensorboard_data_server-0.7.2-py3-none-any.whl (2.4 kB)\n",
      "Installing collected packages: namex, libclang, flatbuffers, tensorflow-io-gcs-filesystem, tensorboard-data-server, optree, numpy, mdurl, grpcio, tensorboard, ml-dtypes, markdown-it-py, h5py, rich, keras, tensorflow-intel, tensorflow\n",
      "  Attempting uninstall: flatbuffers\n",
      "    Found existing installation: flatbuffers 2.0\n",
      "    Uninstalling flatbuffers-2.0:\n",
      "      Successfully uninstalled flatbuffers-2.0\n",
      "  Attempting uninstall: tensorboard-data-server\n",
      "    Found existing installation: tensorboard-data-server 0.6.1\n",
      "    Uninstalling tensorboard-data-server-0.6.1:\n",
      "      Successfully uninstalled tensorboard-data-server-0.6.1\n",
      "  Attempting uninstall: numpy\n",
      "    Found existing installation: numpy 1.22.3\n",
      "    Uninstalling numpy-1.22.3:\n",
      "      Successfully uninstalled numpy-1.22.3\n",
      "  Attempting uninstall: grpcio\n",
      "    Found existing installation: grpcio 1.42.0\n",
      "    Uninstalling grpcio-1.42.0:\n",
      "      Successfully uninstalled grpcio-1.42.0\n",
      "  Attempting uninstall: tensorboard\n",
      "    Found existing installation: tensorboard 2.9.0\n",
      "    Uninstalling tensorboard-2.9.0:\n",
      "      Successfully uninstalled tensorboard-2.9.0\n",
      "  Attempting uninstall: h5py\n",
      "    Found existing installation: h5py 3.9.0\n",
      "    Uninstalling h5py-3.9.0:\n",
      "      Successfully uninstalled h5py-3.9.0\n",
      "  Attempting uninstall: keras\n",
      "    Found existing installation: keras 2.9.0\n",
      "    Uninstalling keras-2.9.0:\n",
      "      Successfully uninstalled keras-2.9.0\n"
     ]
    },
    {
     "name": "stderr",
     "output_type": "stream",
     "text": [
      "  WARNING: Failed to remove contents in a temporary directory 'C:\\Users\\ADMIN\\anaconda3\\envs\\tf-new\\Lib\\site-packages\\~umpy'.\n",
      "  You can safely remove it manually.\n",
      "  WARNING: Failed to remove contents in a temporary directory 'C:\\Users\\ADMIN\\anaconda3\\envs\\tf-new\\Lib\\site-packages\\~5py'.\n",
      "  You can safely remove it manually.\n",
      "ERROR: Could not install packages due to an OSError: [WinError 5] Access is denied: 'C:\\\\Users\\\\ADMIN\\\\anaconda3\\\\envs\\\\tf-new\\\\Lib\\\\site-packages\\\\tensorflow\\\\compiler\\\\tf2tensorrt\\\\_pywrap_py_utils.pyd'\n",
      "Consider using the `--user` option or check the permissions.\n",
      "\n"
     ]
    }
   ],
   "source": [
    "!pip install --upgrade tensorflow keras"
   ]
  },
  {
   "cell_type": "code",
   "execution_count": 74,
   "id": "f0d4a320-b21b-4543-9e3d-7a10040db4a4",
   "metadata": {
    "colab": {
     "base_uri": "https://localhost:8080/"
    },
    "executionInfo": {
     "elapsed": 1343222,
     "status": "ok",
     "timestamp": 1720781745928,
     "user": {
      "displayName": "Bảo Lộc Tống",
      "userId": "03441218058218262196"
     },
     "user_tz": -420
    },
    "id": "f0d4a320-b21b-4543-9e3d-7a10040db4a4",
    "outputId": "f676cba3-9181-49ac-8993-d4e3d79a35dd"
   },
   "outputs": [
    {
     "name": "stdout",
     "output_type": "stream",
     "text": [
      "Training the model...\n",
      "Epoch 1/15\n",
      "542/543 [============================>.] - ETA: 0s - loss: 0.6940 - accuracy: 0.5144WARNING:tensorflow:AutoGraph could not transform <function Model.make_test_function.<locals>.test_function at 0x0000023029FF1CF0> and will run it as-is.\n",
      "Cause: Unable to locate the source code of <function Model.make_test_function.<locals>.test_function at 0x0000023029FF1CF0>. Note that functions defined in certain environments, like the interactive Python shell, do not expose their source code. If that is the case, you should define them in a .py source file. If you are certain the code is graph-compatible, wrap the call using @tf.autograph.experimental.do_not_convert. Original error: could not get source code\n",
      "To silence this warning, decorate the function with @tf.autograph.experimental.do_not_convert\n",
      "WARNING: AutoGraph could not transform <function Model.make_test_function.<locals>.test_function at 0x0000023029FF1CF0> and will run it as-is.\n",
      "Cause: Unable to locate the source code of <function Model.make_test_function.<locals>.test_function at 0x0000023029FF1CF0>. Note that functions defined in certain environments, like the interactive Python shell, do not expose their source code. If that is the case, you should define them in a .py source file. If you are certain the code is graph-compatible, wrap the call using @tf.autograph.experimental.do_not_convert. Original error: could not get source code\n",
      "To silence this warning, decorate the function with @tf.autograph.experimental.do_not_convert\n",
      "543/543 [==============================] - 20s 35ms/step - loss: 0.6940 - accuracy: 0.5144 - val_loss: 0.6939 - val_accuracy: 0.5026\n",
      "Epoch 2/15\n",
      "543/543 [==============================] - 18s 34ms/step - loss: 0.6857 - accuracy: 0.5428 - val_loss: 0.6929 - val_accuracy: 0.5338\n",
      "Epoch 3/15\n",
      "543/543 [==============================] - 18s 34ms/step - loss: 0.6755 - accuracy: 0.5757 - val_loss: 0.6940 - val_accuracy: 0.5206\n",
      "Epoch 4/15\n",
      "543/543 [==============================] - 18s 34ms/step - loss: 0.5585 - accuracy: 0.7433 - val_loss: 0.4881 - val_accuracy: 0.7974\n",
      "Epoch 5/15\n",
      "543/543 [==============================] - 19s 34ms/step - loss: 0.3769 - accuracy: 0.8630 - val_loss: 0.4125 - val_accuracy: 0.8415\n",
      "Epoch 6/15\n",
      "543/543 [==============================] - 19s 35ms/step - loss: 0.2921 - accuracy: 0.9021 - val_loss: 0.3599 - val_accuracy: 0.8603\n",
      "Epoch 7/15\n",
      "543/543 [==============================] - 19s 34ms/step - loss: 0.2415 - accuracy: 0.9231 - val_loss: 0.3758 - val_accuracy: 0.8390\n",
      "Epoch 8/15\n",
      "543/543 [==============================] - 19s 35ms/step - loss: 0.2107 - accuracy: 0.9362 - val_loss: 0.3690 - val_accuracy: 0.8331\n",
      "Epoch 9/15\n",
      "543/543 [==============================] - 20s 36ms/step - loss: 0.1831 - accuracy: 0.9466 - val_loss: 0.3504 - val_accuracy: 0.8581\n",
      "Epoch 10/15\n",
      "543/543 [==============================] - 19s 36ms/step - loss: 0.1685 - accuracy: 0.9521 - val_loss: 0.3769 - val_accuracy: 0.8658\n",
      "Epoch 11/15\n",
      "543/543 [==============================] - 18s 33ms/step - loss: 0.1517 - accuracy: 0.9574 - val_loss: 0.4081 - val_accuracy: 0.8550\n",
      "Epoch 12/15\n",
      "543/543 [==============================] - 18s 34ms/step - loss: 0.1344 - accuracy: 0.9635 - val_loss: 0.3980 - val_accuracy: 0.8618\n",
      "Epoch 13/15\n",
      "543/543 [==============================] - 18s 33ms/step - loss: 0.1185 - accuracy: 0.9694 - val_loss: 0.4513 - val_accuracy: 0.8599\n",
      "Epoch 14/15\n",
      "543/543 [==============================] - 18s 33ms/step - loss: 0.1063 - accuracy: 0.9733 - val_loss: 0.4823 - val_accuracy: 0.8516\n",
      "Epoch 15/15\n",
      "543/543 [==============================] - 18s 34ms/step - loss: 0.1025 - accuracy: 0.9746 - val_loss: 0.4479 - val_accuracy: 0.8592\n",
      "Time taken to train the model:  279.7931318283081\n"
     ]
    }
   ],
   "source": [
    "# Model training\n",
    "start_time = time.time()\n",
    "\n",
    "print(\"Training the model...\")\n",
    "\n",
    "BATCH_SIZE=64\n",
    "\n",
    "# Batch and prefetch the dataset\n",
    "train_data = train_dataset.batch(BATCH_SIZE).prefetch(buffer_size=tf.data.AUTOTUNE)\n",
    "val_data = val_dataset.batch(BATCH_SIZE).prefetch(buffer_size=tf.data.AUTOTUNE)\n",
    "\n",
    "history=model_simple_rnn.fit(\n",
    "    train_data,\n",
    "    validation_data=val_data,\n",
    "    epochs=15,\n",
    "    batch_size=BATCH_SIZE,\n",
    "    callbacks=[model_checkpoint_callback])\n",
    "\n",
    "model_simple_rnn.save(saved_model_path + \"imdb_simple_rnn.keras\")\n",
    "\n",
    "end_time = time.time()\n",
    "\n",
    "print(\"Time taken to train the model: \", end_time - start_time)"
   ]
  },
  {
   "cell_type": "markdown",
   "id": "EOjvuzdqMLP7",
   "metadata": {
    "id": "EOjvuzdqMLP7"
   },
   "source": [
    "#### **Plotting model loss and accuracy**"
   ]
  },
  {
   "cell_type": "code",
   "execution_count": 75,
   "id": "b9e2d09c-2c8e-4cbc-a79f-83aa71e79bce",
   "metadata": {
    "colab": {
     "base_uri": "https://localhost:8080/",
     "height": 472
    },
    "executionInfo": {
     "elapsed": 1075,
     "status": "ok",
     "timestamp": 1720782057044,
     "user": {
      "displayName": "Bảo Lộc Tống",
      "userId": "03441218058218262196"
     },
     "user_tz": -420
    },
    "id": "b9e2d09c-2c8e-4cbc-a79f-83aa71e79bce",
    "outputId": "997af4fa-2389-4623-b262-8663a7f6f3d2"
   },
   "outputs": [
    {
     "data": {
      "image/png": "[encoded data removed]",
      "text/plain": [
       "<Figure size 640x480 with 1 Axes>"
      ]
     },
     "metadata": {},
     "output_type": "display_data"
    }
   ],
   "source": [
    "plt.plot(history.history['loss'])\n",
    "plt.plot(history.history['val_loss'])\n",
    "plt.title('model_loss')\n",
    "plt.ylabel('loss')\n",
    "plt.xlabel('epoch')\n",
    "plt.legend(['train', 'val'], loc='upper left')\n",
    "plt.show()"
   ]
  },
  {
   "cell_type": "code",
   "execution_count": 76,
   "id": "d282e414-ec08-47be-bc41-71ea50ab1f75",
   "metadata": {
    "colab": {
     "base_uri": "https://localhost:8080/",
     "height": 472
    },
    "executionInfo": {
     "elapsed": 8,
     "status": "ok",
     "timestamp": 1720782058995,
     "user": {
      "displayName": "Bảo Lộc Tống",
      "userId": "03441218058218262196"
     },
     "user_tz": -420
    },
    "id": "d282e414-ec08-47be-bc41-71ea50ab1f75",
    "outputId": "243d7c9b-e437-4fd2-b7d9-7b7b49fe640d"
   },
   "outputs": [
    {
     "data": {
      "image/png": "[encoded data removed]",
      "text/plain": [
       "<Figure size 640x480 with 1 Axes>"
      ]
     },
     "metadata": {},
     "output_type": "display_data"
    }
   ],
   "source": [
    "plt.plot(history.history['accuracy'])\n",
    "plt.plot(history.history['val_accuracy'])\n",
    "\n",
    "plt.title('model_accuracy')\n",
    "plt.ylabel('accuracy')\n",
    "plt.xlabel('epoch')\n",
    "plt.legend(['train', 'val'], loc='upper left')\n",
    "plt.show()"
   ]
  },
  {
   "cell_type": "markdown",
   "id": "b76b5c57",
   "metadata": {
    "id": "b76b5c57"
   },
   "source": [
    "#### **Evaluate the model**"
   ]
  },
  {
   "cell_type": "code",
   "execution_count": 77,
   "id": "25ac50ba",
   "metadata": {
    "colab": {
     "base_uri": "https://localhost:8080/"
    },
    "executionInfo": {
     "elapsed": 2958,
     "status": "ok",
     "timestamp": 1720784774579,
     "user": {
      "displayName": "Bảo Lộc Tống",
      "userId": "03441218058218262196"
     },
     "user_tz": -420
    },
    "id": "25ac50ba",
    "outputId": "346f4060-440d-4717-ba4c-d79a28527a56"
   },
   "outputs": [
    {
     "name": "stdout",
     "output_type": "stream",
     "text": [
      "117/117 [==============================] - 2s 14ms/step - loss: 0.4300 - accuracy: 0.8629\n"
     ]
    },
    {
     "data": {
      "text/plain": [
       "[0.42998144030570984, 0.8628663420677185]"
      ]
     },
     "execution_count": 77,
     "metadata": {},
     "output_type": "execute_result"
    }
   ],
   "source": [
    "test_data = tf.data.Dataset.from_tensor_slices((X_test, y_test))\n",
    "\n",
    "test_dataset=test_data.map(vectorizer)\n",
    "test_dataset=test_dataset.batch(BATCH_SIZE)\n",
    "model_simple_rnn.evaluate(test_dataset)"
   ]
  },
  {
   "cell_type": "markdown",
   "id": "13789e6df7f89749",
   "metadata": {
    "id": "13789e6df7f89749"
   },
   "source": [
    "### **LSTM (MultiLayer and Bidirectional):**"
   ]
  },
  {
   "cell_type": "markdown",
   "id": "3ae311dc",
   "metadata": {
    "id": "3ae311dc"
   },
   "source": [
    "#### **Build the model**"
   ]
  },
  {
   "cell_type": "code",
   "execution_count": 78,
   "id": "fNy6ZQR0sMPe",
   "metadata": {
    "id": "fNy6ZQR0sMPe"
   },
   "outputs": [],
   "source": [
    "# 2. Early Stopping with Lower Patience: Reduce the patience parameter in the early stopping callback to prevent overfitting.\n",
    "early_stopping = EarlyStopping(\n",
    "    monitor='val_loss',  # Monitor the validation loss\n",
    "    patience=2,  # Number of epochs with no improvement after which training will be stopped\n",
    "  restore_best_weights=True  # Restore model weights from the epoch with the best value of the monitored quantity\n",
    ")\n",
    "\n",
    "# Add More Data: If possible, augment the training dataset to provide more examples for the model to learn from. ??"
   ]
  },
  {
   "cell_type": "code",
   "execution_count": 79,
   "id": "94eb7266ccda0173",
   "metadata": {
    "colab": {
     "base_uri": "https://localhost:8080/"
    },
    "executionInfo": {
     "elapsed": 1469,
     "status": "ok",
     "timestamp": 1720823291029,
     "user": {
      "displayName": "Bảo Lộc Tống",
      "userId": "03441218058218262196"
     },
     "user_tz": -420
    },
    "id": "94eb7266ccda0173",
    "outputId": "d407a84c-6319-4371-bb8e-6f94881280fb"
   },
   "outputs": [
    {
     "name": "stdout",
     "output_type": "stream",
     "text": [
      "Model: \"sequential_3\"\n",
      "_________________________________________________________________\n",
      " Layer (type)                Output Shape              Param #   \n",
      "=================================================================\n",
      " embedding_3 (Embedding)     (None, 250, 64)           640000    \n",
      "                                                                 \n",
      " bidirectional (Bidirectiona  (None, 250, 128)         66048     \n",
      " l)                                                              \n",
      "                                                                 \n",
      " dropout (Dropout)           (None, 250, 128)          0         \n",
      "                                                                 \n",
      " bidirectional_1 (Bidirectio  (None, 64)               41216     \n",
      " nal)                                                            \n",
      "                                                                 \n",
      " dense_3 (Dense)             (None, 64)                4160      \n",
      "                                                                 \n",
      " dropout_1 (Dropout)         (None, 64)                0         \n",
      "                                                                 \n",
      " dense_4 (Dense)             (None, 1)                 65        \n",
      "                                                                 \n",
      "=================================================================\n",
      "Total params: 751,489\n",
      "Trainable params: 751,489\n",
      "Non-trainable params: 0\n",
      "_________________________________________________________________\n"
     ]
    }
   ],
   "source": [
    "# Define hyperparameters\n",
    "# 1. Batch size for training and validation (64)\n",
    "BATCH_SIZE=64\n",
    "# 2. Maximum vocabulary size (10,000)\n",
    "VOCAB_SIZE=10000\n",
    "# 3. Maximum sequence length to pad the sentences to (250)\n",
    "SEQUENCE_LENGTH=250\n",
    "# 4. Embedding dimension (64)\n",
    "EMBEDDING_DIM = 64\n",
    "\n",
    "model_lstm =tf.keras.models.Sequential([\n",
    "    Input(shape=(SEQUENCE_LENGTH,)),\n",
    "    Embedding(VOCAB_SIZE,EMBEDDING_DIM),\n",
    "    Bidirectional(LSTM(64,return_sequences=True)),\n",
    "    # 1. Increase Dropout Rate: To combat overfitting, consider increasing the dropout rate.\n",
    "    Dropout(0.7),\n",
    "    # 5.\tReduce Model Complexity: Simplify the model by reducing the number of LSTM units or layers to prevent overfitting.\n",
    "    Bidirectional(LSTM(32)),\n",
    "    Dense(64, activation='relu'),\n",
    "    Dropout(0.7),\n",
    "    # 4. Regularization Techniques: Implement L2 regularization to penalize large weights and prevent overfitting.\n",
    "    Dense(1, activation='sigmoid', kernel_regularizer=tf.keras.regularizers.l2(0.01))\n",
    "])\n",
    "\n",
    "model_lstm.summary()"
   ]
  },
  {
   "cell_type": "code",
   "execution_count": 80,
   "id": "abe1b565d0bfb717",
   "metadata": {
    "id": "abe1b565d0bfb717"
   },
   "outputs": [],
   "source": [
    "model_checkpoint_callback = tf.keras.callbacks.ModelCheckpoint(\n",
    "    filepath=checkpoint_filepath + \"imdb_lstm_checkpoint.keras\" ,\n",
    "    monitor='val_accuracy',\n",
    "    mode='max',\n",
    "    save_best_only=True)"
   ]
  },
  {
   "cell_type": "code",
   "execution_count": 81,
   "id": "e69c632208020703",
   "metadata": {
    "id": "e69c632208020703"
   },
   "outputs": [],
   "source": [
    "# Mac M1/M2 happy with legacy: tf.keras.optimizers.legacy.Adam(1e-4)\n",
    "model_lstm.compile(loss=tf.keras.losses.BinaryCrossentropy(),\n",
    "              optimizer= tf.keras.optimizers.Adam(1e-4), #tf.keras.optimizers.Adam(1e-4),\n",
    "              metrics=['accuracy'])"
   ]
  },
  {
   "cell_type": "code",
   "execution_count": 82,
   "id": "9ab641c0c3a38cd5",
   "metadata": {
    "colab": {
     "base_uri": "https://localhost:8080/"
    },
    "executionInfo": {
     "elapsed": 131984,
     "status": "ok",
     "timestamp": 1720823449895,
     "user": {
      "displayName": "Bảo Lộc Tống",
      "userId": "03441218058218262196"
     },
     "user_tz": -420
    },
    "id": "9ab641c0c3a38cd5",
    "outputId": "fa8d3be9-d8a7-4f22-8b0f-b13c9cda7428"
   },
   "outputs": [
    {
     "name": "stdout",
     "output_type": "stream",
     "text": [
      "Training the model...\n",
      "Epoch 1/15\n",
      "543/543 [==============================] - ETA: 0s - loss: 0.6610 - accuracy: 0.5892WARNING:tensorflow:AutoGraph could not transform <function Model.make_test_function.<locals>.test_function at 0x0000023029EE6560> and will run it as-is.\n",
      "Cause: Unable to locate the source code of <function Model.make_test_function.<locals>.test_function at 0x0000023029EE6560>. Note that functions defined in certain environments, like the interactive Python shell, do not expose their source code. If that is the case, you should define them in a .py source file. If you are certain the code is graph-compatible, wrap the call using @tf.autograph.experimental.do_not_convert. Original error: could not get source code\n",
      "To silence this warning, decorate the function with @tf.autograph.experimental.do_not_convert\n",
      "WARNING: AutoGraph could not transform <function Model.make_test_function.<locals>.test_function at 0x0000023029EE6560> and will run it as-is.\n",
      "Cause: Unable to locate the source code of <function Model.make_test_function.<locals>.test_function at 0x0000023029EE6560>. Note that functions defined in certain environments, like the interactive Python shell, do not expose their source code. If that is the case, you should define them in a .py source file. If you are certain the code is graph-compatible, wrap the call using @tf.autograph.experimental.do_not_convert. Original error: could not get source code\n",
      "To silence this warning, decorate the function with @tf.autograph.experimental.do_not_convert\n",
      "543/543 [==============================] - 158s 282ms/step - loss: 0.6610 - accuracy: 0.5892 - val_loss: 0.4271 - val_accuracy: 0.8161\n",
      "Epoch 2/15\n",
      "543/543 [==============================] - 147s 271ms/step - loss: 0.3510 - accuracy: 0.8689 - val_loss: 0.3222 - val_accuracy: 0.8735\n",
      "Epoch 3/15\n",
      "543/543 [==============================] - 147s 270ms/step - loss: 0.2648 - accuracy: 0.9105 - val_loss: 0.3374 - val_accuracy: 0.8731\n",
      "Epoch 4/15\n",
      "543/543 [==============================] - 141s 260ms/step - loss: 0.2245 - accuracy: 0.9273 - val_loss: 0.3461 - val_accuracy: 0.8775\n",
      "Time taken to train the model:  593.0148024559021\n"
     ]
    }
   ],
   "source": [
    "# Model training\n",
    "start_time = time.time()\n",
    "\n",
    "print(\"Training the model...\")\n",
    "\n",
    "\n",
    "BATCH_SIZE=64\n",
    "\n",
    "# Batch and prefetch the dataset\n",
    "train_data = train_dataset.batch(BATCH_SIZE).prefetch(buffer_size=tf.data.AUTOTUNE)\n",
    "val_data = val_dataset.batch(BATCH_SIZE).prefetch(buffer_size=tf.data.AUTOTUNE)\n",
    "\n",
    "history=model_lstm.fit(\n",
    "    train_data,\n",
    "    validation_data=val_data,\n",
    "    epochs=15,\n",
    "    batch_size=BATCH_SIZE,\n",
    "    callbacks=[model_checkpoint_callback, early_stopping])\n",
    "\n",
    "model_lstm.save(saved_model_path + \"imdb_lstm.keras\")\n",
    "\n",
    "end_time = time.time()\n",
    "\n",
    "print(\"Time taken to train the model: \", end_time - start_time)"
   ]
  },
  {
   "cell_type": "markdown",
   "id": "MUDQBXU3J9J4",
   "metadata": {
    "id": "MUDQBXU3J9J4"
   },
   "source": [
    "#### **Plot both training and validation metrics:**"
   ]
  },
  {
   "cell_type": "code",
   "execution_count": 83,
   "id": "a87bc1f57c1272de",
   "metadata": {
    "colab": {
     "base_uri": "https://localhost:8080/",
     "height": 472
    },
    "executionInfo": {
     "elapsed": 500,
     "status": "ok",
     "timestamp": 1720823620018,
     "user": {
      "displayName": "Bảo Lộc Tống",
      "userId": "03441218058218262196"
     },
     "user_tz": -420
    },
    "id": "a87bc1f57c1272de",
    "outputId": "5405a11d-ac1a-45eb-abe2-5d539542e3d6"
   },
   "outputs": [
    {
     "data": {
      "image/png": "[encoded data removed]",
      "text/plain": [
       "<Figure size 640x480 with 1 Axes>"
      ]
     },
     "metadata": {},
     "output_type": "display_data"
    }
   ],
   "source": [
    "plt.plot(history.history['loss'])\n",
    "plt.plot(history.history['val_loss'])\n",
    "plt.title('model_loss')\n",
    "plt.ylabel('loss')\n",
    "plt.xlabel('epoch')\n",
    "plt.legend(['train', 'val'], loc='upper left')\n",
    "plt.show()"
   ]
  },
  {
   "cell_type": "code",
   "execution_count": 84,
   "id": "8f21eea978264c61",
   "metadata": {
    "colab": {
     "base_uri": "https://localhost:8080/",
     "height": 472
    },
    "executionInfo": {
     "elapsed": 526,
     "status": "ok",
     "timestamp": 1720823675720,
     "user": {
      "displayName": "Bảo Lộc Tống",
      "userId": "03441218058218262196"
     },
     "user_tz": -420
    },
    "id": "8f21eea978264c61",
    "outputId": "c9b3fc42-d4a4-4b6a-e624-675f3648e9e9"
   },
   "outputs": [
    {
     "data": {
      "image/png": "[encoded data removed]",
      "text/plain": [
       "<Figure size 640x480 with 1 Axes>"
      ]
     },
     "metadata": {},
     "output_type": "display_data"
    }
   ],
   "source": [
    "plt.plot(history.history['accuracy'])\n",
    "plt.plot(history.history['val_accuracy'])\n",
    "\n",
    "plt.title('model_accuracy')\n",
    "plt.ylabel('accuracy')\n",
    "plt.xlabel('epoch')\n",
    "plt.legend(['train', 'val'], loc='upper left')\n",
    "plt.show()"
   ]
  },
  {
   "cell_type": "markdown",
   "id": "6fcd2fb0",
   "metadata": {
    "id": "6fcd2fb0"
   },
   "source": [
    "#### **Evaluate the model**"
   ]
  },
  {
   "cell_type": "code",
   "execution_count": 85,
   "id": "ad8174a6",
   "metadata": {
    "colab": {
     "base_uri": "https://localhost:8080/"
    },
    "executionInfo": {
     "elapsed": 2930,
     "status": "ok",
     "timestamp": 1720824104626,
     "user": {
      "displayName": "Bảo Lộc Tống",
      "userId": "03441218058218262196"
     },
     "user_tz": -420
    },
    "id": "ad8174a6",
    "outputId": "d99d5c78-101e-4a98-df02-7f588a6c3a6e"
   },
   "outputs": [
    {
     "name": "stdout",
     "output_type": "stream",
     "text": [
      "117/117 [==============================] - 8s 69ms/step - loss: 0.3151 - accuracy: 0.8771\n"
     ]
    },
    {
     "data": {
      "text/plain": [
       "[0.31505218148231506, 0.8771175146102905]"
      ]
     },
     "execution_count": 85,
     "metadata": {},
     "output_type": "execute_result"
    }
   ],
   "source": [
    "test_data = tf.data.Dataset.from_tensor_slices((X_test, y_test))\n",
    "\n",
    "test_dataset=test_data.map(vectorizer)\n",
    "test_dataset=test_dataset.batch(BATCH_SIZE)\n",
    "model_lstm.evaluate(test_dataset)"
   ]
  },
  {
   "cell_type": "markdown",
   "id": "d988ecb5d515e596",
   "metadata": {
    "id": "d988ecb5d515e596"
   },
   "source": [
    "### **Pretrained Word2Vec[Gensim]**"
   ]
  },
  {
   "cell_type": "markdown",
   "id": "8d6ea56a",
   "metadata": {
    "id": "8d6ea56a"
   },
   "source": [
    "#### **Build the model**"
   ]
  },
  {
   "cell_type": "code",
   "execution_count": 86,
   "id": "CIrJRVyNLghc",
   "metadata": {
    "id": "CIrJRVyNLghc"
   },
   "outputs": [],
   "source": [
    "# 2. Early Stopping with Lower Patience: Reduce the patience parameter in the early stopping callback to prevent overfitting.\n",
    "early_stopping = EarlyStopping(\n",
    "    monitor='val_loss',  # Monitor the validation loss\n",
    "    patience=2,  # Number of epochs with no improvement after which training will be stopped\n",
    "  restore_best_weights=True  # Restore model weights from the epoch with the best value of the monitored quantity\n",
    ")\n",
    "\n",
    "# Add More Data: If possible, augment the training dataset to provide more examples for the model to learn from. ??"
   ]
  },
  {
   "cell_type": "code",
   "execution_count": 87,
   "id": "8936d3194ef3451b",
   "metadata": {
    "id": "8936d3194ef3451b"
   },
   "outputs": [],
   "source": [
    "# import gensim.downloader as api\n",
    "import gensim\n",
    "\n",
    "# word2vec = api.load('word2vec-google-news-300')\n",
    "\n",
    "# Load the model\n",
    "word2vec = gensim.models.KeyedVectors.load_word2vec_format(embeddings + \"GoogleNews-vectors-negative300.bin\", binary=True)\n",
    "# word2vec.vectors.shape"
   ]
  },
  {
   "cell_type": "code",
   "execution_count": 88,
   "id": "37a5a4323831cf04",
   "metadata": {
    "id": "37a5a4323831cf04"
   },
   "outputs": [
    {
     "data": {
      "text/plain": [
       "array([-0.17285156,  0.27929688,  0.10693359, -0.15820312, -0.08447266,\n",
       "        0.05908203,  0.04077148,  0.00254822,  0.25976562,  0.18066406,\n",
       "        0.09765625, -0.08105469, -0.01049805,  0.09814453,  0.00060272,\n",
       "        0.07080078, -0.015625  , -0.09521484, -0.08105469, -0.02868652,\n",
       "       -0.03320312,  0.16503906,  0.03979492, -0.03710938,  0.04101562,\n",
       "       -0.12695312, -0.12890625,  0.12353516,  0.04980469,  0.01257324,\n",
       "        0.05786133, -0.00830078, -0.02832031, -0.03320312,  0.16113281,\n",
       "        0.07519531, -0.25976562,  0.08935547,  0.13574219,  0.00460815,\n",
       "       -0.04418945,  0.02319336, -0.10449219, -0.05151367,  0.08349609,\n",
       "       -0.02050781, -0.02172852, -0.02734375,  0.16015625,  0.19042969,\n",
       "       -0.0324707 ,  0.06787109,  0.10302734, -0.25390625,  0.00634766,\n",
       "        0.20507812,  0.02111816, -0.21679688, -0.02441406,  0.17089844,\n",
       "       -0.21875   ,  0.10009766, -0.15527344, -0.12597656, -0.03833008,\n",
       "       -0.05419922,  0.19238281,  0.21777344,  0.12109375, -0.02648926,\n",
       "        0.05297852, -0.0201416 ,  0.0534668 ,  0.07666016,  0.0456543 ,\n",
       "        0.01977539,  0.12451172,  0.10205078,  0.15234375,  0.25195312,\n",
       "        0.04296875, -0.18554688, -0.07519531,  0.22753906, -0.13183594,\n",
       "       -0.27539062, -0.20117188,  0.12597656, -0.18652344, -0.13964844,\n",
       "       -0.12597656,  0.08007812, -0.03393555, -0.23730469, -0.00765991,\n",
       "        0.28320312, -0.01721191,  0.02722168, -0.234375  ,  0.12890625,\n",
       "        0.16796875, -0.01019287,  0.06542969, -0.1328125 ,  0.07763672,\n",
       "       -0.11669922,  0.01464844, -0.05297852, -0.12109375, -0.09912109,\n",
       "        0.0559082 , -0.04199219,  0.10742188,  0.09130859,  0.14746094,\n",
       "        0.10205078, -0.00139618,  0.20117188,  0.08447266,  0.07568359,\n",
       "       -0.24316406, -0.18945312, -0.07910156, -0.06640625,  0.12792969,\n",
       "        0.15039062, -0.16601562, -0.09521484,  0.09619141, -0.05029297,\n",
       "       -0.02502441, -0.04931641, -0.04370117, -0.0234375 ,  0.06640625,\n",
       "       -0.13378906, -0.25      , -0.2421875 , -0.11328125,  0.02636719,\n",
       "        0.13867188, -0.07080078, -0.22265625, -0.11279297, -0.01806641,\n",
       "       -0.19042969,  0.07421875, -0.16601562,  0.00628662,  0.1953125 ,\n",
       "       -0.00436401, -0.16699219,  0.14746094, -0.04882812,  0.1875    ,\n",
       "       -0.234375  ,  0.14453125,  0.00769043,  0.04101562, -0.06738281,\n",
       "       -0.01672363, -0.05029297,  0.08496094,  0.03662109,  0.13476562,\n",
       "        0.08056641, -0.04467773,  0.16601562, -0.22265625,  0.00933838,\n",
       "       -0.11962891, -0.06494141,  0.03344727, -0.09765625,  0.01464844,\n",
       "        0.12158203,  0.12353516, -0.13476562, -0.05297852, -0.27734375,\n",
       "       -0.0378418 , -0.07910156, -0.06884766,  0.05712891,  0.03112793,\n",
       "        0.07080078,  0.07958984,  0.00656128,  0.14257812, -0.08447266,\n",
       "        0.03125   , -0.03564453,  0.02307129, -0.01660156, -0.17285156,\n",
       "       -0.16113281, -0.10742188,  0.05566406, -0.09228516, -0.25585938,\n",
       "        0.03930664, -0.20410156,  0.08496094,  0.04614258,  0.01208496,\n",
       "       -0.01257324,  0.06396484,  0.2578125 ,  0.18457031, -0.0559082 ,\n",
       "        0.0234375 ,  0.10498047,  0.12011719,  0.00909424, -0.00567627,\n",
       "        0.11132812,  0.15136719,  0.0246582 , -0.03833008,  0.11572266,\n",
       "        0.171875  , -0.04125977,  0.10302734,  0.04467773, -0.01269531,\n",
       "       -0.08203125, -0.03491211,  0.00787354,  0.07910156, -0.00050354,\n",
       "        0.02246094, -0.16113281,  0.11621094,  0.25195312, -0.04663086,\n",
       "       -0.08007812, -0.09863281,  0.04760742, -0.06054688,  0.11865234,\n",
       "       -0.03393555, -0.06689453, -0.0007782 , -0.04882812, -0.01190186,\n",
       "       -0.08251953,  0.21777344, -0.00180817,  0.1484375 , -0.02050781,\n",
       "        0.26367188,  0.17089844, -0.04638672,  0.12792969,  0.0480957 ,\n",
       "       -0.03759766,  0.16699219, -0.19140625,  0.0390625 ,  0.07714844,\n",
       "       -0.01586914,  0.09912109, -0.15820312, -0.01379395,  0.01855469,\n",
       "        0.15527344, -0.18164062,  0.03369141, -0.0008049 ,  0.06689453,\n",
       "       -0.01843262,  0.14160156,  0.06445312, -0.00732422,  0.07958984,\n",
       "       -0.0279541 ,  0.125     , -0.23730469,  0.03637695, -0.046875  ,\n",
       "       -0.046875  ,  0.05493164,  0.07958984,  0.27148438,  0.22558594,\n",
       "       -0.20507812, -0.20507812, -0.06445312, -0.07763672, -0.06982422,\n",
       "       -0.0177002 , -0.12890625,  0.02197266,  0.01477051, -0.05297852,\n",
       "       -0.203125  ,  0.06176758,  0.12304688,  0.12988281, -0.18261719],\n",
       "      dtype=float32)"
      ]
     },
     "execution_count": 88,
     "metadata": {},
     "output_type": "execute_result"
    }
   ],
   "source": [
    "# Testing purpose\n",
    "# print(word2vec.vocab)\n",
    "word2vec['The']\n",
    "# word2vec.most_similar('Man')\n",
    "# word2vec.key_to_index"
   ]
  },
  {
   "cell_type": "code",
   "execution_count": 89,
   "id": "343fc09714162dde",
   "metadata": {
    "id": "343fc09714162dde"
   },
   "outputs": [],
   "source": [
    "def first_caps(word):\n",
    "  return word[0].upper()+word[1:]"
   ]
  },
  {
   "cell_type": "code",
   "execution_count": 93,
   "id": "4789330ede52b324",
   "metadata": {
    "colab": {
     "base_uri": "https://localhost:8080/"
    },
    "executionInfo": {
     "elapsed": 408,
     "status": "ok",
     "timestamp": 1720825879447,
     "user": {
      "displayName": "Bảo Lộc Tống",
      "userId": "03441218058218262196"
     },
     "user_tz": -420
    },
    "id": "4789330ede52b324",
    "outputId": "7290d872-9897-4e7b-964b-da953457863c"
   },
   "outputs": [
    {
     "name": "stdout",
     "output_type": "stream",
     "text": [
      "Processed 0 words out of 10000\n",
      "Processed 1000 words out of 10000\n",
      "Processed 2000 words out of 10000\n",
      "Processed 3000 words out of 10000\n",
      "Processed 4000 words out of 10000\n",
      "Processed 5000 words out of 10000\n",
      "Processed 6000 words out of 10000\n",
      "Processed 7000 words out of 10000\n",
      "Processed 8000 words out of 10000\n",
      "Processed 9000 words out of 10000\n",
      "Found words count: 9520\n",
      "Unfound words count: 480\n",
      "Pretrained embeddings shape: (10000, 300)\n"
     ]
    }
   ],
   "source": [
    "import numpy as np\n",
    "import random\n",
    "\n",
    "# Assuming vectorize_layer and word2vec are already defined\n",
    "vectorize_layer_vocabulary = vectorize_layer.get_vocabulary()\n",
    "\n",
    "# embedding_dim = pretrained_embeddings_array.shape[1]\n",
    "\n",
    "# CUONG: fix pretrained_embeddings_array not defined\n",
    "embedding_dim = len(word2vec[next(iter(word2vec.key_to_index))])\n",
    "pretrained_embeddings = []\n",
    "\n",
    "unfound_words = []\n",
    "unfound_words_count = 0\n",
    "found_words_count = 0\n",
    "\n",
    "# Create dict from word2vec for faster search\n",
    "word2vec_keys = set(word2vec.key_to_index.keys())\n",
    "\n",
    "# Preallocate space for embeddings\n",
    "pretrained_embeddings = np.zeros((len(vectorize_layer_vocabulary), embedding_dim))\n",
    "\n",
    "# Fill the embeddings array\n",
    "for i, word in enumerate(vectorize_layer_vocabulary):\n",
    "    if word in word2vec_keys:\n",
    "        found_words_count += 1\n",
    "        pretrained_embeddings[i] = word2vec[word]\n",
    "    else:\n",
    "        unfound_words_count += 1\n",
    "        unfound_words.append(word)\n",
    "        pretrained_embeddings[i] = np.zeros(embedding_dim)  # Or use random.normal if preferred\n",
    "\n",
    "    if i % 1000 == 0:\n",
    "        print(f'Processed {i} words out of {len(vectorize_layer_vocabulary)}')\n",
    "\n",
    "print(f\"Found words count: {found_words_count}\")\n",
    "print(f\"Unfound words count: {unfound_words_count}\")\n",
    "print(f\"Pretrained embeddings shape: {pretrained_embeddings.shape}\")\n",
    "\n",
    "# Uncomment to print unfound words\n",
    "# for word in unfound_words:\n",
    "#     print(word)"
   ]
  },
  {
   "cell_type": "code",
   "execution_count": 94,
   "id": "da5db20b8522cb1d",
   "metadata": {
    "id": "da5db20b8522cb1d"
   },
   "outputs": [],
   "source": [
    "# np.save(\"/content/drive/MyDrive/Colab Notebooks/sentiment_analysis/embeddings/pretrained_embeddings\", np.array(pretrained_embeddings))\n",
    "\n",
    "np.save(embeddings + \"pretrained_embeddings\", np.array(pretrained_embeddings))"
   ]
  },
  {
   "cell_type": "code",
   "execution_count": 95,
   "id": "afbaad1ebf7c0435",
   "metadata": {
    "colab": {
     "base_uri": "https://localhost:8080/"
    },
    "executionInfo": {
     "elapsed": 5,
     "status": "ok",
     "timestamp": 1720825913914,
     "user": {
      "displayName": "Bảo Lộc Tống",
      "userId": "03441218058218262196"
     },
     "user_tz": -420
    },
    "id": "afbaad1ebf7c0435",
    "outputId": "3cc4e24d-2ad4-4cf7-eff6-6b3add366885"
   },
   "outputs": [
    {
     "data": {
      "text/plain": [
       "300"
      ]
     },
     "execution_count": 95,
     "metadata": {},
     "output_type": "execute_result"
    }
   ],
   "source": [
    "pretrained_embeddings_array=np.load(embeddings + \"pretrained_embeddings.npy\" )\n",
    "pretrained_embeddings_array.shape[1]"
   ]
  },
  {
   "cell_type": "code",
   "execution_count": 102,
   "id": "281d79ef63136583",
   "metadata": {
    "colab": {
     "base_uri": "https://localhost:8080/"
    },
    "executionInfo": {
     "elapsed": 1405,
     "status": "ok",
     "timestamp": 1720827403200,
     "user": {
      "displayName": "Bảo Lộc Tống",
      "userId": "03441218058218262196"
     },
     "user_tz": -420
    },
    "id": "281d79ef63136583",
    "outputId": "9c174255-16d0-4f95-f5bd-51b69f700412"
   },
   "outputs": [
    {
     "name": "stdout",
     "output_type": "stream",
     "text": [
      "Model: \"sequential_5\"\n",
      "_________________________________________________________________\n",
      " Layer (type)                Output Shape              Param #   \n",
      "=================================================================\n",
      " embedding_5 (Embedding)     (None, 250, 300)          3000000   \n",
      "                                                                 \n",
      " bidirectional_4 (Bidirectio  (None, 250, 128)         186880    \n",
      " nal)                                                            \n",
      "                                                                 \n",
      " dropout_5 (Dropout)         (None, 250, 128)          0         \n",
      "                                                                 \n",
      " batch_normalization_2 (Batc  (None, 250, 128)         512       \n",
      " hNormalization)                                                 \n",
      "                                                                 \n",
      " bidirectional_5 (Bidirectio  (None, 64)               41216     \n",
      " nal)                                                            \n",
      "                                                                 \n",
      " dropout_6 (Dropout)         (None, 64)                0         \n",
      "                                                                 \n",
      " batch_normalization_3 (Batc  (None, 64)               256       \n",
      " hNormalization)                                                 \n",
      "                                                                 \n",
      " dense_7 (Dense)             (None, 32)                2080      \n",
      "                                                                 \n",
      " dropout_7 (Dropout)         (None, 32)                0         \n",
      "                                                                 \n",
      " dense_8 (Dense)             (None, 1)                 33        \n",
      "                                                                 \n",
      "=================================================================\n",
      "Total params: 3,230,977\n",
      "Trainable params: 3,230,593\n",
      "Non-trainable params: 384\n",
      "_________________________________________________________________\n"
     ]
    }
   ],
   "source": [
    "from tensorflow.keras.layers import BatchNormalization\n",
    "# from tensorflowkeras.regularizers import l2\n",
    "\n",
    "# CUONG: fix regularizers not found\n",
    "from keras.regularizers import l2\n",
    "\n",
    "\n",
    "# Define hyperparameters\n",
    "BATCH_SIZE = 64\n",
    "VOCAB_SIZE = 10000\n",
    "SEQUENCE_LENGTH = 250\n",
    "EMBEDDING_DIM = pretrained_embeddings_array.shape[1]\n",
    "\n",
    "# Build the model\n",
    "lstm_pretrained_embedding_model = tf.keras.models.Sequential([\n",
    "    Input(shape=(SEQUENCE_LENGTH,)),\n",
    "\n",
    "    Embedding(\n",
    "        input_dim=VOCAB_SIZE,\n",
    "        output_dim=EMBEDDING_DIM,\n",
    "        embeddings_initializer=tf.keras.initializers.Constant(pretrained_embeddings_array),\n",
    "        trainable=True\n",
    "    ),\n",
    "\n",
    "    Bidirectional(LSTM(64, return_sequences=True, kernel_regularizer=l2(0.01))),\n",
    "    Dropout(0.5),\n",
    "    BatchNormalization(),\n",
    "\n",
    "    Bidirectional(LSTM(32, kernel_regularizer=l2(0.01))),\n",
    "    Dropout(0.5),\n",
    "    BatchNormalization(),\n",
    "\n",
    "    Dense(32, activation='relu'),\n",
    "    Dropout(0.5),\n",
    "\n",
    "    Dense(1, activation='sigmoid'),\n",
    "])\n",
    "\n",
    "# Display the model's architecture\n",
    "lstm_pretrained_embedding_model.summary()"
   ]
  },
  {
   "cell_type": "code",
   "execution_count": 103,
   "id": "ac58fd3511375691",
   "metadata": {
    "id": "ac58fd3511375691"
   },
   "outputs": [],
   "source": [
    "model_checkpoint_callback = tf.keras.callbacks.ModelCheckpoint(\n",
    "    filepath=checkpoint_filepath + \"imdb_lstm_word2vec_checkpoint.keras\",\n",
    "    monitor='val_accuracy',\n",
    "    mode='max',\n",
    "    save_best_only=True)"
   ]
  },
  {
   "cell_type": "code",
   "execution_count": 104,
   "id": "d130044b0651a16d",
   "metadata": {
    "id": "d130044b0651a16d"
   },
   "outputs": [],
   "source": [
    "lstm_pretrained_embedding_model.compile(loss=tf.keras.losses.BinaryCrossentropy(),\n",
    "              optimizer=tf.keras.optimizers.Adam(1e-4),\n",
    "              metrics=['accuracy'])"
   ]
  },
  {
   "cell_type": "code",
   "execution_count": 105,
   "id": "256d59bfde4f5457",
   "metadata": {
    "colab": {
     "base_uri": "https://localhost:8080/"
    },
    "executionInfo": {
     "elapsed": 480852,
     "status": "ok",
     "timestamp": 1720827891845,
     "user": {
      "displayName": "Bảo Lộc Tống",
      "userId": "03441218058218262196"
     },
     "user_tz": -420
    },
    "id": "256d59bfde4f5457",
    "outputId": "ba9cb2fc-c15a-4cf1-daaf-c3b80e01f064"
   },
   "outputs": [
    {
     "name": "stdout",
     "output_type": "stream",
     "text": [
      "Training the model...\n",
      "Epoch 1/10\n",
      "543/543 [==============================] - ETA: 0s - loss: 6.2669 - accuracy: 0.5181WARNING:tensorflow:AutoGraph could not transform <function Model.make_test_function.<locals>.test_function at 0x000002305E9F88B0> and will run it as-is.\n",
      "Cause: Unable to locate the source code of <function Model.make_test_function.<locals>.test_function at 0x000002305E9F88B0>. Note that functions defined in certain environments, like the interactive Python shell, do not expose their source code. If that is the case, you should define them in a .py source file. If you are certain the code is graph-compatible, wrap the call using @tf.autograph.experimental.do_not_convert. Original error: could not get source code\n",
      "To silence this warning, decorate the function with @tf.autograph.experimental.do_not_convert\n",
      "WARNING: AutoGraph could not transform <function Model.make_test_function.<locals>.test_function at 0x000002305E9F88B0> and will run it as-is.\n",
      "Cause: Unable to locate the source code of <function Model.make_test_function.<locals>.test_function at 0x000002305E9F88B0>. Note that functions defined in certain environments, like the interactive Python shell, do not expose their source code. If that is the case, you should define them in a .py source file. If you are certain the code is graph-compatible, wrap the call using @tf.autograph.experimental.do_not_convert. Original error: could not get source code\n",
      "To silence this warning, decorate the function with @tf.autograph.experimental.do_not_convert\n",
      "543/543 [==============================] - 176s 315ms/step - loss: 6.2669 - accuracy: 0.5181 - val_loss: 4.1963 - val_accuracy: 0.6371\n",
      "Epoch 2/10\n",
      "543/543 [==============================] - 174s 320ms/step - loss: 3.2308 - accuracy: 0.6703 - val_loss: 2.3905 - val_accuracy: 0.7939\n",
      "Epoch 3/10\n",
      "543/543 [==============================] - 174s 321ms/step - loss: 1.9643 - accuracy: 0.8301 - val_loss: 1.6536 - val_accuracy: 0.8217\n",
      "Epoch 4/10\n",
      "543/543 [==============================] - 174s 320ms/step - loss: 1.3652 - accuracy: 0.8689 - val_loss: 1.1933 - val_accuracy: 0.8482\n",
      "Epoch 5/10\n",
      "543/543 [==============================] - 171s 316ms/step - loss: 1.0070 - accuracy: 0.8894 - val_loss: 0.9240 - val_accuracy: 0.8768\n",
      "Epoch 6/10\n",
      "543/543 [==============================] - 173s 319ms/step - loss: 0.7789 - accuracy: 0.9041 - val_loss: 0.7456 - val_accuracy: 0.8797\n",
      "Epoch 7/10\n",
      "543/543 [==============================] - 170s 313ms/step - loss: 0.6334 - accuracy: 0.9130 - val_loss: 0.6720 - val_accuracy: 0.8724\n",
      "Epoch 8/10\n",
      "543/543 [==============================] - 170s 314ms/step - loss: 0.5319 - accuracy: 0.9234 - val_loss: 0.6444 - val_accuracy: 0.8661\n",
      "Epoch 9/10\n",
      "543/543 [==============================] - 170s 312ms/step - loss: 0.4611 - accuracy: 0.9310 - val_loss: 0.6045 - val_accuracy: 0.8661\n",
      "Epoch 10/10\n",
      "543/543 [==============================] - 170s 313ms/step - loss: 0.4059 - accuracy: 0.9374 - val_loss: 0.5790 - val_accuracy: 0.8713\n",
      "Time taken to train the model:  1723.5508306026459\n"
     ]
    }
   ],
   "source": [
    "# Model training\n",
    "start_time = time.time()\n",
    "\n",
    "print(\"Training the model...\")\n",
    "\n",
    "BATCH_SIZE=64\n",
    "\n",
    "# Batch and prefetch the dataset\n",
    "train_data = train_dataset.batch(BATCH_SIZE).prefetch(buffer_size=tf.data.AUTOTUNE)\n",
    "val_data = val_dataset.batch(BATCH_SIZE).prefetch(buffer_size=tf.data.AUTOTUNE)\n",
    "\n",
    "history=lstm_pretrained_embedding_model.fit(\n",
    "    train_data,\n",
    "    validation_data=val_data,\n",
    "    epochs=10,\n",
    "    callbacks=[model_checkpoint_callback, early_stopping])\n",
    "\n",
    "lstm_pretrained_embedding_model.save(saved_model_path + \"imdb_lstm_word2vec.keras\")\n",
    "\n",
    "end_time = time.time()\n",
    "\n",
    "print(\"Time taken to train the model: \", end_time - start_time)"
   ]
  },
  {
   "cell_type": "code",
   "execution_count": 106,
   "id": "46159fb513ac8900",
   "metadata": {
    "colab": {
     "base_uri": "https://localhost:8080/",
     "height": 472
    },
    "executionInfo": {
     "elapsed": 458,
     "status": "ok",
     "timestamp": 1720828627891,
     "user": {
      "displayName": "Bảo Lộc Tống",
      "userId": "03441218058218262196"
     },
     "user_tz": -420
    },
    "id": "46159fb513ac8900",
    "outputId": "f4d0fa48-186f-42ed-ee6d-b56e8ae2f867"
   },
   "outputs": [
    {
     "data": {
      "image/png": "[encoded data removed]",
      "text/plain": [
       "<Figure size 640x480 with 1 Axes>"
      ]
     },
     "metadata": {},
     "output_type": "display_data"
    }
   ],
   "source": [
    "plt.plot(history.history['loss'])\n",
    "plt.plot(history.history['val_loss'])\n",
    "plt.title('model_loss')\n",
    "plt.ylabel('loss')\n",
    "plt.xlabel('epoch')\n",
    "plt.legend(['train', 'val'], loc='upper left')\n",
    "plt.show()"
   ]
  },
  {
   "cell_type": "code",
   "execution_count": 107,
   "id": "44076a190125322f",
   "metadata": {
    "colab": {
     "base_uri": "https://localhost:8080/",
     "height": 472
    },
    "executionInfo": {
     "elapsed": 544,
     "status": "ok",
     "timestamp": 1720828649110,
     "user": {
      "displayName": "Bảo Lộc Tống",
      "userId": "03441218058218262196"
     },
     "user_tz": -420
    },
    "id": "44076a190125322f",
    "outputId": "7c3251e6-e477-4af1-d9ca-6f1b15aced98"
   },
   "outputs": [
    {
     "data": {
      "image/png": "[encoded data removed]",
      "text/plain": [
       "<Figure size 640x480 with 1 Axes>"
      ]
     },
     "metadata": {},
     "output_type": "display_data"
    }
   ],
   "source": [
    "plt.plot(history.history['accuracy'])\n",
    "plt.plot(history.history['val_accuracy'])\n",
    "\n",
    "plt.title('model_accuracy')\n",
    "plt.ylabel('accuracy')\n",
    "plt.xlabel('epoch')\n",
    "plt.legend(['train', 'val'], loc='upper left')\n",
    "plt.show()"
   ]
  },
  {
   "cell_type": "markdown",
   "id": "484ed607",
   "metadata": {
    "id": "484ed607"
   },
   "source": [
    "#### **Evaluate the model**"
   ]
  },
  {
   "cell_type": "code",
   "execution_count": 108,
   "id": "6a0d20fb",
   "metadata": {
    "colab": {
     "base_uri": "https://localhost:8080/"
    },
    "executionInfo": {
     "elapsed": 2789,
     "status": "ok",
     "timestamp": 1720828662779,
     "user": {
      "displayName": "Bảo Lộc Tống",
      "userId": "03441218058218262196"
     },
     "user_tz": -420
    },
    "id": "6a0d20fb",
    "outputId": "3b0fb4e1-f90e-4c17-ca60-bb9fea20e088"
   },
   "outputs": [
    {
     "name": "stdout",
     "output_type": "stream",
     "text": [
      "117/117 [==============================] - 10s 85ms/step - loss: 0.5819 - accuracy: 0.8734\n"
     ]
    },
    {
     "data": {
      "text/plain": [
       "[0.5818579196929932, 0.8733530640602112]"
      ]
     },
     "execution_count": 108,
     "metadata": {},
     "output_type": "execute_result"
    }
   ],
   "source": [
    "test_data = tf.data.Dataset.from_tensor_slices((X_test, y_test))\n",
    "\n",
    "test_dataset=test_data.map(vectorizer)\n",
    "test_dataset=test_dataset.batch(BATCH_SIZE)\n",
    "lstm_pretrained_embedding_model.evaluate(test_dataset)"
   ]
  },
  {
   "cell_type": "code",
   "execution_count": null,
   "id": "7owm-k2MEzzC",
   "metadata": {
    "id": "7owm-k2MEzzC"
   },
   "outputs": [],
   "source": []
  }
 ],
 "metadata": {
  "accelerator": "GPU",
  "colab": {
   "collapsed_sections": [
    "d7f1e83d",
    "4c424772-b0ab-4329-89eb-643af3647d37"
   ],
   "gpuType": "T4",
   "machine_shape": "hm",
   "provenance": []
  },
  "kernelspec": {
   "display_name": "Python 3 (ipykernel)",
   "language": "python",
   "name": "python3"
  },
  "language_info": {
   "codemirror_mode": {
    "name": "ipython",
    "version": 3
   },
   "file_extension": ".py",
   "mimetype": "text/x-python",
   "name": "python",
   "nbconvert_exporter": "python",
   "pygments_lexer": "ipython3",
   "version": "3.10.13"
  }
 },
 "nbformat": 4,
 "nbformat_minor": 5
}
